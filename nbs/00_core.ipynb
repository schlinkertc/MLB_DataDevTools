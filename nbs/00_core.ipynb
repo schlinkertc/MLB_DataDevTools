{
 "cells": [
  {
   "cell_type": "code",
   "execution_count": null,
   "metadata": {},
   "outputs": [],
   "source": [
    "# default_exp core"
   ]
  },
  {
   "cell_type": "markdown",
   "metadata": {},
   "source": [
    "# Data Dev Tools\n",
    "\n",
    "> API details."
   ]
  },
  {
   "cell_type": "code",
   "execution_count": null,
   "metadata": {},
   "outputs": [],
   "source": [
    "#hide\n",
    "from nbdev.showdoc import *"
   ]
  },
  {
   "cell_type": "code",
   "execution_count": null,
   "metadata": {},
   "outputs": [],
   "source": [
    "#export\n",
    "\n",
    "from sqlalchemy import create_engine\n",
    "import hashlib\n",
    "import os.path\n",
    "import pandas as pd\n",
    "\n",
    "class Database:\n",
    "    # http://docs.sqlalchemy.org/en/latest/core/engines.html\n",
    "    \"\"\"\n",
    "    Reference Object for Sql Alchemy Engine \n",
    "    \n",
    "    dbtype: one of ['sqlite','pymysql','snowflake']\n",
    "    kwargs:\n",
    "        sqlite \n",
    "            - path=<path-to-database file>\n",
    "        pymysql\n",
    "            - username,password,hostname,database\n",
    "        snowflake\n",
    "            - username,password,account,database,schema,warehouse,role\n",
    "        \n",
    "    \"\"\"\n",
    "    DB_ENGINES = {\n",
    "        'sqlite': 'sqlite:////{path}',\n",
    "        'pymysql': 'mysql+pymysql://{username}:{password}@{hostname}/{database}?charset=UTF8MB4',\n",
    "        'snowflake':\"snowflake://{username}:{password}@{account}/{database}/{schema}?warehouse={warehouse}&role={role}\",\n",
    "    }\n",
    "\n",
    "    # Main DB Connection Ref Obj\n",
    "    engine = None\n",
    "    def __init__(self, dbtype,Base=None,Meta=None,**kwargs):\n",
    "        dbtype = dbtype.lower()\n",
    "        if dbtype in self.DB_ENGINES.keys():\n",
    "            engine_url = self.DB_ENGINES[dbtype].format(**kwargs)\n",
    "            self.engine = create_engine(engine_url)\n",
    "            print(self.engine)\n",
    "            \n",
    "            if Base:\n",
    "                self.base = Base\n",
    "            if Meta:\n",
    "                self.meta = Meta\n",
    "        else:\n",
    "            print(\"DBType is not found in DB_ENGINE\")"
   ]
  },
  {
   "cell_type": "code",
   "execution_count": null,
   "metadata": {},
   "outputs": [],
   "source": [
    "#hide\n",
    "from dotenv import load_dotenv\n",
    "from os import environ\n",
    "load_dotenv('.env')"
   ]
  },
  {
   "cell_type": "code",
   "execution_count": null,
   "metadata": {},
   "outputs": [],
   "source": [
    "mlb_db = Database(\n",
    "    dbtype='pymysql',\n",
    "    username=environ.get('db_user'),\n",
    "    password=environ.get('db_password'),\n",
    "    hostname=environ.get('db_host'),\n",
    "    database='MLB'\n",
    ")"
   ]
  },
  {
   "cell_type": "code",
   "execution_count": null,
   "metadata": {},
   "outputs": [],
   "source": [
    "#export \n",
    "\n",
    "def cached_query(self,sql_query, parameters=None):\n",
    "    \"\"\"\n",
    "    Method to query data from `Database` Ref Obj and return pandas dataframe\n",
    "    Parameters\n",
    "    ----------\n",
    "    sql_query : str\n",
    "        saved SQL query\n",
    "    parameters : dict, optional\n",
    "        populates named placeholders in query template. \n",
    "\n",
    "    Returns\n",
    "    -------\n",
    "    df_raw : DataFrame\n",
    "        Pandas DataFrame with raw data resulting from query\n",
    "    \"\"\"\n",
    "    if parameters:\n",
    "        sql_query = sql_query.format(**parameters)\n",
    "    \n",
    "    # Hash the query\n",
    "    query_hash = hashlib.sha1(sql_query.encode()).hexdigest()\n",
    "\n",
    "    # Create the filepath\n",
    "    file_path = os.path.join(\"_cache\",\"{}.csv\".format(query_hash))\n",
    "\n",
    "    # Read the file or execute query \n",
    "    if os.path.exists(file_path):\n",
    "        df_raw = pd.read_csv(file_path)\n",
    "    else:\n",
    "        with self.engine.connect() as connection:\n",
    "            try:\n",
    "                df_raw = pd.read_sql(sql_query, con=connection, params=parameters)\n",
    "            except (KeyboardInterrupt, SystemExit):\n",
    "                connecton.close()\n",
    "            finally:\n",
    "                connection.close()\n",
    "        if not os.path.isdir(\"_cache\"):\n",
    "            os.makedirs(\"_cache\")\n",
    "        df_raw.to_csv(file_path, index=False)\n",
    "\n",
    "    return df_raw\n",
    "Database.cached_query = cached_query"
   ]
  },
  {
   "cell_type": "code",
   "execution_count": null,
   "metadata": {},
   "outputs": [],
   "source": [
    "show_doc(cached_query)"
   ]
  },
  {
   "cell_type": "code",
   "execution_count": null,
   "metadata": {},
   "outputs": [],
   "source": [
    "mlb_db.engine.table_names()"
   ]
  },
  {
   "cell_type": "code",
   "execution_count": null,
   "metadata": {},
   "outputs": [],
   "source": [
    "with mlb_db.engine.connect() as conn:\n",
    "    matchups = pd.read_sql('select * from matchups limit 10000',conn)\n",
    "matchups"
   ]
  },
  {
   "cell_type": "code",
   "execution_count": null,
   "metadata": {},
   "outputs": [],
   "source": [
    "q = \"\"\"\n",
    "select \n",
    "    *\n",
    "from \n",
    "    plays\n",
    "limit\n",
    "    100\n",
    "\"\"\""
   ]
  },
  {
   "cell_type": "code",
   "execution_count": null,
   "metadata": {},
   "outputs": [],
   "source": [
    "plays = mlb_db.cached_query(q)\n",
    "plays.head()"
   ]
  },
  {
   "cell_type": "code",
   "execution_count": null,
   "metadata": {},
   "outputs": [],
   "source": [
    "plays['result_event'].value_counts()"
   ]
  },
  {
   "cell_type": "code",
   "execution_count": null,
   "metadata": {},
   "outputs": [],
   "source": [
    "example_query = \"SELECT * FROM pitches {WHERE} limit 100;\""
   ]
  },
  {
   "cell_type": "code",
   "execution_count": null,
   "metadata": {},
   "outputs": [],
   "source": [
    "mlb_db.cached_query(\n",
    "    example_query,parameters={\"WHERE\":\"WHERE details_call_code = 'F'\"})"
   ]
  },
  {
   "cell_type": "code",
   "execution_count": null,
   "metadata": {},
   "outputs": [],
   "source": [
    "q = \"select distinct(details_call_description) result, count(*) as count from pitches group by details_call_description\"\n",
    "mlb_db.cached_query(q)"
   ]
  },
  {
   "cell_type": "code",
   "execution_count": null,
   "metadata": {},
   "outputs": [],
   "source": [
    "with mlb_db.engine.connect() as conn:\n",
    "    pitches = pd.read_sql(\"select * from pitches limit 100000\",conn)\n",
    "pitches.info()"
   ]
  },
  {
   "cell_type": "code",
   "execution_count": null,
   "metadata": {},
   "outputs": [],
   "source": [
    "pitches.duplicated(subset=['gamePk','atBatIndex','playEndTime','index']).sum()"
   ]
  },
  {
   "cell_type": "code",
   "execution_count": null,
   "metadata": {},
   "outputs": [],
   "source": [
    "pitches[\n",
    "    (pitches['playId'].duplicated())\n",
    "    &(pitches['details_call_description']!='Automatic Ball')\n",
    "].sort_values('startTime')[\n",
    "    ['details_call_description','startTime','playId']\n",
    "]"
   ]
  },
  {
   "cell_type": "code",
   "execution_count": null,
   "metadata": {},
   "outputs": [],
   "source": [
    "#hide\n",
    "from nbdev.export import notebook2script; notebook2script()"
   ]
  },
  {
   "cell_type": "code",
   "execution_count": null,
   "metadata": {},
   "outputs": [],
   "source": []
  }
 ],
 "metadata": {
  "kernelspec": {
   "display_name": "Python 3",
   "language": "python",
   "name": "python3"
  }
 },
 "nbformat": 4,
 "nbformat_minor": 4
}
