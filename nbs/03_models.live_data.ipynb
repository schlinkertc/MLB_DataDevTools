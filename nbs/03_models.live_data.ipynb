{
 "cells": [
  {
   "cell_type": "code",
   "execution_count": null,
   "metadata": {},
   "outputs": [],
   "source": [
    "# default_exp models.live_data"
   ]
  },
  {
   "cell_type": "code",
   "execution_count": null,
   "metadata": {},
   "outputs": [],
   "source": [
    "import statsapi as mlb\n",
    "import datetime as dt\n",
    "from pydantic import (\n",
    "    #BaseModel,\n",
    "    root_validator,\n",
    "    validator,\n",
    "    conint,\n",
    "    conlist\n",
    ")\n",
    "from MLB_DataDevTools.models.base_models import *\n",
    "from enum import Enum\n",
    "from typing import Any,List,Optional,Union\n",
    "from typing_extensions import Literal\n",
    "from pydantic import BaseModel as PydanticBaseModel\n",
    "\n",
    "class BaseModel(PydanticBaseModel):\n",
    "    class Config:\n",
    "        extra='forbid'"
   ]
  },
  {
   "cell_type": "code",
   "execution_count": null,
   "metadata": {},
   "outputs": [],
   "source": [
    "import pandas as pd\n",
    "from MLB_DataDevTools.database import create_mlb_engine\n",
    "engine = create_mlb_engine()"
   ]
  },
  {
   "cell_type": "code",
   "execution_count": null,
   "metadata": {},
   "outputs": [],
   "source": [
    "games = pd.read_sql('game',engine.connect())\n",
    "\n",
    "pk = games['game_pk'].sample().iloc[0]\n",
    "\n",
    "game = mlb.get('game',{'gamePk':pk})\n",
    "\n",
    "liveData = game['liveData']\n",
    "\n",
    "liveData.keys()\n",
    "\n",
    "plays = liveData['plays']['allPlays']\n",
    "\n",
    "play = plays[20]\n"
   ]
  },
  {
   "cell_type": "markdown",
   "metadata": {},
   "source": [
    "## Plays"
   ]
  },
  {
   "cell_type": "code",
   "execution_count": null,
   "metadata": {},
   "outputs": [],
   "source": [
    "play.keys()"
   ]
  },
  {
   "cell_type": "code",
   "execution_count": null,
   "metadata": {},
   "outputs": [],
   "source": [
    "play['result']"
   ]
  },
  {
   "cell_type": "code",
   "execution_count": null,
   "metadata": {},
   "outputs": [],
   "source": [
    "event_types = mlb.get('meta',{'type':'eventTypes'})\n",
    "event_types[0]"
   ]
  },
  {
   "cell_type": "code",
   "execution_count": null,
   "metadata": {},
   "outputs": [],
   "source": [
    "import warnings \n",
    "\n",
    "class EventType(BaseModel):\n",
    "    code: str\n",
    "    plateAppearance: bool\n",
    "    hit: bool\n",
    "    baseRunningEvent: bool\n",
    "    description: str\n",
    "    \n",
    "    @root_validator(pre=True)\n",
    "    def get_event_type(cls,values):\n",
    "        code = values['code']\n",
    "        values.update(cls.Config.event_types.get(code,{}))\n",
    "        return values\n",
    "\n",
    "    class Config:\n",
    "        event_types = {\n",
    "            pe.pop('code'):pe for pe in \n",
    "            mlb.get('meta',{'type':'eventTypes'})\n",
    "        }\n",
    "    def __init__(self,code:str,**kwargs):\n",
    "        \n",
    "        super().__init__(code=code)\n",
    "        for k,v in kwargs.items():\n",
    "            if kwargs[k]!=self.dict()[k]:\n",
    "                warnings.warn(f\"\"\"\n",
    "                    according to the values stored in the the `EventType`\n",
    "                    model config, \n",
    "                    the value for {k} should be {self.dict()[k]},\n",
    "                    but you passed the value: {v}.\n",
    "                \"\"\")"
   ]
  },
  {
   "cell_type": "code",
   "execution_count": null,
   "metadata": {},
   "outputs": [],
   "source": [
    "EventType(code='double',plateAppearance=True)"
   ]
  },
  {
   "cell_type": "code",
   "execution_count": null,
   "metadata": {},
   "outputs": [],
   "source": [
    "EventType('double')"
   ]
  },
  {
   "cell_type": "code",
   "execution_count": null,
   "metadata": {},
   "outputs": [],
   "source": [
    "EventType(code='double',plateAppearance=False)"
   ]
  },
  {
   "cell_type": "code",
   "execution_count": null,
   "metadata": {},
   "outputs": [],
   "source": [
    "class ModelWithEventType(BaseModel):\n",
    "    \"\"\"\n",
    "    Some responses from the API only have a string to represent the `eventType`. \n",
    "    This Model takes those strings and turns them into the `EventType` Model\n",
    "    \"\"\"\n",
    "    def __init__(self,eventType:str = None,**kwargs):\n",
    "        super().__init__(\n",
    "            eventType={'code':eventType},\n",
    "            **kwargs\n",
    "        )"
   ]
  },
  {
   "cell_type": "markdown",
   "metadata": {},
   "source": [
    "## Play Result"
   ]
  },
  {
   "cell_type": "code",
   "execution_count": null,
   "metadata": {},
   "outputs": [],
   "source": [
    "#exporti \n",
    "\n",
    "class PlayResult(ModelWithEventType):\n",
    "    type: str\n",
    "    event: str\n",
    "    eventType: EventType\n",
    "    description: str\n",
    "    rbi: conint(ge=0)\n",
    "    awayScore: conint(ge=0)\n",
    "    homeScore: conint(ge=0)\n",
    "    "
   ]
  },
  {
   "cell_type": "code",
   "execution_count": null,
   "metadata": {},
   "outputs": [],
   "source": [
    "play['result']"
   ]
  },
  {
   "cell_type": "code",
   "execution_count": null,
   "metadata": {},
   "outputs": [],
   "source": [
    "PlayResult(**play['result']).dict()"
   ]
  },
  {
   "cell_type": "markdown",
   "metadata": {},
   "source": [
    "## Play About"
   ]
  },
  {
   "cell_type": "code",
   "execution_count": null,
   "metadata": {},
   "outputs": [],
   "source": [
    "#exporti\n",
    "\n",
    "class HalfInning(str,Enum):\n",
    "    top='top'\n",
    "    bottom='bottom'\n",
    "\n",
    "class PlayAbout(BaseModel):\n",
    "    atBatIndex: conint(ge=0)\n",
    "    halfInning: HalfInning\n",
    "    isTopInning:bool\n",
    "    inning: conint(ge=0)\n",
    "    startTime: dt.datetime\n",
    "    endTime: dt.datetime\n",
    "    isComplete: bool\n",
    "    isScoringPlay: bool\n",
    "    hasReview: bool\n",
    "    hasOut: bool\n",
    "    captivatingIndex: int"
   ]
  },
  {
   "cell_type": "code",
   "execution_count": null,
   "metadata": {},
   "outputs": [],
   "source": [
    "play['about']"
   ]
  },
  {
   "cell_type": "code",
   "execution_count": null,
   "metadata": {},
   "outputs": [],
   "source": [
    "PlayAbout(**play['about']).dict()"
   ]
  },
  {
   "cell_type": "markdown",
   "metadata": {},
   "source": [
    "## Count"
   ]
  },
  {
   "cell_type": "code",
   "execution_count": null,
   "metadata": {},
   "outputs": [],
   "source": [
    "play['count']"
   ]
  },
  {
   "cell_type": "code",
   "execution_count": null,
   "metadata": {},
   "outputs": [],
   "source": [
    "#exporti \n",
    "\n",
    "class Count(BaseModel):\n",
    "    balls: conint(ge=0,le=4)\n",
    "    strikes: conint(ge=0,le=3)\n",
    "    outs: conint(ge=0,le=3)"
   ]
  },
  {
   "cell_type": "code",
   "execution_count": null,
   "metadata": {},
   "outputs": [],
   "source": [
    "Count(**play['count'])"
   ]
  },
  {
   "cell_type": "markdown",
   "metadata": {},
   "source": [
    "## Matchup"
   ]
  },
  {
   "cell_type": "code",
   "execution_count": null,
   "metadata": {},
   "outputs": [],
   "source": [
    "play['matchup']"
   ]
  },
  {
   "cell_type": "code",
   "execution_count": null,
   "metadata": {},
   "outputs": [],
   "source": [
    "{p['matchup']['splits']['menOnBase'] for p in plays}"
   ]
  },
  {
   "cell_type": "code",
   "execution_count": null,
   "metadata": {},
   "outputs": [],
   "source": [
    "#exporti\n",
    "\n",
    "class MenOnBase(str,Enum):\n",
    "    Empty='Empty'\n",
    "    Men_On='Men_On'\n",
    "    RISP='RISP'\n",
    "\n",
    "class BatterSplit(str,Enum):\n",
    "    vs_RHP='vs_RHP'\n",
    "    vs_LHP='vs_LHP'\n",
    "class PitcherSplit(str,Enum):\n",
    "    vs_RHB='vs_RHB'\n",
    "    vs_LHB='vs_LHB'\n",
    "class Splits(BaseModel):\n",
    "    batter: BatterSplit\n",
    "    pitcher: PitcherSplit\n",
    "    menOnBase: MenOnBase"
   ]
  },
  {
   "cell_type": "code",
   "execution_count": null,
   "metadata": {},
   "outputs": [],
   "source": [
    "#exporti\n",
    "\n",
    "class Matchup(BaseModel):\n",
    "    batter: PersonBase\n",
    "    batSide: PlayerHandedness\n",
    "    pitcher: PersonBase\n",
    "    pitchHand: PlayerHandedness\n",
    "    postOnFirst: Optional[PersonBase] = None\n",
    "    postOnSecond: Optional[PersonBase] = None\n",
    "    postOnThird: Optional[PersonBase] = None\n",
    "    batterHotColdZones: conlist(Any,max_items=0) # I want to see if this ever comes back with items\n",
    "    pitcherHotColdZones: conlist(Any,max_items=0)\n",
    "    splits: Splits"
   ]
  },
  {
   "cell_type": "code",
   "execution_count": null,
   "metadata": {},
   "outputs": [],
   "source": [
    "Matchup(**play['matchup']).dict()"
   ]
  },
  {
   "cell_type": "markdown",
   "metadata": {},
   "source": [
    "## Runners"
   ]
  },
  {
   "cell_type": "code",
   "execution_count": null,
   "metadata": {},
   "outputs": [],
   "source": [
    "class Base(str,Enum):\n",
    "    first_base='1B'\n",
    "    second_base='2B'\n",
    "    third_base='3B'\n",
    "    score='score'"
   ]
  },
  {
   "cell_type": "code",
   "execution_count": null,
   "metadata": {},
   "outputs": [],
   "source": [
    "[p['runners'][0]['movement'] for p in plays if p['about']['isScoringPlay']][5:10]"
   ]
  },
  {
   "cell_type": "code",
   "execution_count": null,
   "metadata": {},
   "outputs": [],
   "source": [
    "movement_reasons = set()\n",
    "n=0\n",
    "while n < 10:\n",
    "    pk = games['game_pk'].sample().iloc[0]\n",
    "\n",
    "    game = mlb.get('game',{'gamePk':pk})\n",
    "\n",
    "    liveData = game['liveData']\n",
    "\n",
    "    plays = liveData['plays']['allPlays']\n",
    "\n",
    "\n",
    "    {movement_reasons.add(runners['details']['movementReason'])\n",
    "     for play in plays for runners in play['runners']}\n",
    "    n+=1"
   ]
  },
  {
   "cell_type": "code",
   "execution_count": null,
   "metadata": {},
   "outputs": [],
   "source": [
    "movement_reasons"
   ]
  },
  {
   "cell_type": "markdown",
   "metadata": {},
   "source": [
    "> note: how can I make a custom field that is an Enum with descriptions? "
   ]
  },
  {
   "cell_type": "code",
   "execution_count": null,
   "metadata": {},
   "outputs": [],
   "source": [
    "class MovementReason(str,Enum):\n",
    "    advanced_on_force='r_adv_force'\n",
    "    advanced_on_play='r_adv_play'\n",
    "    advanced_on_throw='r_adv_throw'\n",
    "    thrown_out='r_thrown_out'\n",
    "    force_out='r_force_out'\n",
    "    defensive_indifference='r_defensive_indiff'\n",
    "    pickoff_error_1b='r_pickoff_error_1b'\n",
    "    pickoff_error_2b='r_pickoff_error_2b'\n",
    "    pickoff_error_3b='r_pickoff_error_3b'\n",
    "    stolen_base_2b='r_stolen_base_2b'"
   ]
  },
  {
   "cell_type": "code",
   "execution_count": null,
   "metadata": {},
   "outputs": [],
   "source": [
    "class Movement(BaseModel):\n",
    "    originBase: Optional[Base] = None\n",
    "    outBase: Optional[Base] = None\n",
    "    start: Optional[Base] = None\n",
    "    end: Optional[Base] = None\n",
    "    isOut: bool\n",
    "    outNumber: Optional[conint(ge=0,le=3)] = None"
   ]
  },
  {
   "cell_type": "code",
   "execution_count": null,
   "metadata": {},
   "outputs": [],
   "source": [
    "play['runners'][0]['details']"
   ]
  },
  {
   "cell_type": "code",
   "execution_count": null,
   "metadata": {},
   "outputs": [],
   "source": [
    "class RunnerDetails(ModelWithEventType):\n",
    "    event: str\n",
    "    eventType: EventType\n",
    "    movementReason: Optional[str]\n",
    "    runner: PersonBase\n",
    "    responsiblePitcher: Optional[PersonBase] = None\n",
    "    isScoringEvent: bool\n",
    "    rbi: bool\n",
    "    earned: bool\n",
    "    teamUnearned: bool\n",
    "    playIndex: int"
   ]
  },
  {
   "cell_type": "code",
   "execution_count": null,
   "metadata": {},
   "outputs": [],
   "source": [
    "play['runners'][0]['credits']"
   ]
  },
  {
   "cell_type": "code",
   "execution_count": null,
   "metadata": {},
   "outputs": [],
   "source": [
    "from typing_extensions import TypedDict"
   ]
  },
  {
   "cell_type": "code",
   "execution_count": null,
   "metadata": {},
   "outputs": [],
   "source": [
    "\n",
    "class Credit(BaseModel):\n",
    "    player: TypedDict(\n",
    "        'player',\n",
    "        id=int,\n",
    "        link=str\n",
    "    )\n",
    "    position: PositionBase\n",
    "    credit: str"
   ]
  },
  {
   "cell_type": "code",
   "execution_count": null,
   "metadata": {},
   "outputs": [],
   "source": [
    "play['runners'][0]"
   ]
  },
  {
   "cell_type": "code",
   "execution_count": null,
   "metadata": {},
   "outputs": [],
   "source": [
    "class Runner(BaseModel):\n",
    "    movement: Movement\n",
    "    details: RunnerDetails\n",
    "    credits: List[Credit]"
   ]
  },
  {
   "cell_type": "code",
   "execution_count": null,
   "metadata": {},
   "outputs": [],
   "source": [
    "play['runners'][0]"
   ]
  },
  {
   "cell_type": "code",
   "execution_count": null,
   "metadata": {},
   "outputs": [],
   "source": [
    "Runner(**play['runners'][0])"
   ]
  },
  {
   "cell_type": "markdown",
   "metadata": {},
   "source": [
    "## Play Event"
   ]
  },
  {
   "cell_type": "code",
   "execution_count": null,
   "metadata": {},
   "outputs": [],
   "source": [
    "play=plays[0]\n",
    "play_events = play['playEvents']\n",
    "\n",
    "pitches = [pitch for play in plays for pitch in play['playEvents'] if pitch['isPitch']]\n",
    "not_pitches = [pitch for play in plays for pitch in play['playEvents'] if not pitch['isPitch']]"
   ]
  },
  {
   "cell_type": "code",
   "execution_count": null,
   "metadata": {},
   "outputs": [],
   "source": [
    "from pydantic.color import Color"
   ]
  },
  {
   "cell_type": "code",
   "execution_count": null,
   "metadata": {},
   "outputs": [],
   "source": [
    "pitches[0]['details']"
   ]
  },
  {
   "cell_type": "code",
   "execution_count": null,
   "metadata": {},
   "outputs": [],
   "source": [
    "not_pitches[0]['details']"
   ]
  },
  {
   "cell_type": "code",
   "execution_count": null,
   "metadata": {},
   "outputs": [],
   "source": [
    "pitches[5].keys()"
   ]
  },
  {
   "cell_type": "markdown",
   "metadata": {},
   "source": [
    "### Pitch Details"
   ]
  },
  {
   "cell_type": "code",
   "execution_count": null,
   "metadata": {},
   "outputs": [],
   "source": [
    "class PitchCall(BaseModel):\n",
    "    code:str\n",
    "    description:str\n",
    "\n",
    "class PitchType(BaseModel):\n",
    "    code:str\n",
    "    description:str\n",
    "    \n",
    "    #maybe add some descriptions here, too? like mentioned before in the runners section?"
   ]
  },
  {
   "cell_type": "code",
   "execution_count": null,
   "metadata": {},
   "outputs": [],
   "source": [
    "import pydantic\n",
    "pydantic.version.VERSION"
   ]
  },
  {
   "cell_type": "code",
   "execution_count": null,
   "metadata": {},
   "outputs": [],
   "source": [
    "\n",
    "class PitchDetails(PydanticBaseModel):\n",
    "    \n",
    "    call: PitchCall\n",
    "    description:str\n",
    "    code: str\n",
    "    ballColor: Color\n",
    "    trailColor: Color\n",
    "    isInPlay: bool\n",
    "    isStrike: bool\n",
    "    hasReview: bool"
   ]
  },
  {
   "cell_type": "code",
   "execution_count": null,
   "metadata": {},
   "outputs": [],
   "source": [
    "pitches[0].keys()"
   ]
  },
  {
   "cell_type": "code",
   "execution_count": null,
   "metadata": {},
   "outputs": [],
   "source": [
    "pitches[0]['count']"
   ]
  },
  {
   "cell_type": "code",
   "execution_count": null,
   "metadata": {},
   "outputs": [],
   "source": [
    "play['count']"
   ]
  },
  {
   "cell_type": "code",
   "execution_count": null,
   "metadata": {},
   "outputs": [],
   "source": [
    "pitches[0]['pitchData']"
   ]
  },
  {
   "cell_type": "code",
   "execution_count": null,
   "metadata": {},
   "outputs": [],
   "source": [
    "class PitchCoordinatesBase(BaseModel):\n",
    "    x: float\n",
    "    y: float\n",
    "\n",
    "class PitchCoordinates(PitchCoordinatesBase):\n",
    "    aY: float\n",
    "    aZ: float\n",
    "    pfxX: float\n",
    "    pfxZ: float\n",
    "    pX: float\n",
    "    pZ: float\n",
    "    vX0: float\n",
    "    vY0: float\n",
    "    vZ0: float\n",
    "    x0: float\n",
    "    y0: float\n",
    "    z0: float\n",
    "    aX: float\n"
   ]
  },
  {
   "cell_type": "code",
   "execution_count": null,
   "metadata": {},
   "outputs": [],
   "source": [
    "class PitchBreaks(BaseModel):\n",
    "    breakAngle: float\n",
    "    breakLength: float\n",
    "    breakY: float\n",
    "    spinRate: float\n",
    "    spinDirection: float"
   ]
  },
  {
   "cell_type": "code",
   "execution_count": null,
   "metadata": {},
   "outputs": [],
   "source": [
    "class PitchData(BaseModel):\n",
    "    \n",
    "    startSpeed: Optional[float]=None\n",
    "    endSpeed: Optional[float]=None\n",
    "    strikeZoneTop: float\n",
    "    strikeZoneBottom: float\n",
    "    coordinates: Union[PitchCoordinates,PitchCoordinatesBase]\n",
    "    breaks: Union[PitchBreaks,dict]\n",
    "    zone: Optional[int]\n",
    "    typeConfidence: Optional[float]=None\n",
    "    plateTime: Optional[float]=None\n",
    "    extension: Optional[float]=None"
   ]
  },
  {
   "cell_type": "code",
   "execution_count": null,
   "metadata": {},
   "outputs": [],
   "source": [
    "pitches[0]['pitchData']"
   ]
  },
  {
   "cell_type": "code",
   "execution_count": null,
   "metadata": {},
   "outputs": [],
   "source": [
    "pitch_data = PitchData(**pitches[0]['pitchData'])\n",
    "pitch_data"
   ]
  },
  {
   "cell_type": "code",
   "execution_count": null,
   "metadata": {},
   "outputs": [],
   "source": [
    "pitches[0].keys()"
   ]
  },
  {
   "cell_type": "code",
   "execution_count": null,
   "metadata": {},
   "outputs": [],
   "source": [
    "pitches[0]['type']"
   ]
  },
  {
   "cell_type": "code",
   "execution_count": null,
   "metadata": {},
   "outputs": [],
   "source": [
    "{x['type'] for x in pitches}"
   ]
  },
  {
   "cell_type": "markdown",
   "metadata": {},
   "source": [
    "### Play Event // Pitch"
   ]
  },
  {
   "cell_type": "code",
   "execution_count": null,
   "metadata": {},
   "outputs": [],
   "source": [
    "#mlb.get('meta',{'type':'eventTypes'})"
   ]
  },
  {
   "cell_type": "markdown",
   "metadata": {},
   "source": [
    "Reduce duplication between Action, pickoff, pitch details"
   ]
  },
  {
   "cell_type": "code",
   "execution_count": null,
   "metadata": {},
   "outputs": [],
   "source": [
    "class PlayEventBase(BaseModel):\n",
    "    count: Count\n",
    "    index: int\n",
    "    startTime: dt.datetime\n",
    "    endTime: Optional[dt.datetime]=None\n",
    "    isPitch:bool\n",
    "    isSubstitution:bool=False\n",
    "    isBaseRunningPlay:bool=False\n",
    "    type: Literal['pitch','action','pickoff']\n",
    "\n",
    "class ActionDetails(ModelWithEventType):\n",
    "    description: str\n",
    "    event: str\n",
    "    eventType: EventType\n",
    "    awayScore:int\n",
    "    homeScore:int\n",
    "    isScoringPlay:bool\n",
    "    hasReview:bool     \n",
    "    \n",
    "class Action(PlayEventBase):\n",
    "    details:ActionDetails\n",
    "    player:Optional[PersonBase]=None\n",
    "    position:Optional[PositionBase]=None\n",
    "    umpire:Optional[PersonBase]=None\n",
    "    battingOrder:Optional[str]=None\n",
    "    replacedPlayer:Optional[PersonBase]=None\n",
    "    base:Optional[int]=None\n",
    "\n",
    "class PickoffDetails(BaseModel):\n",
    "    description:str\n",
    "    code:int\n",
    "    hasReview:bool\n",
    "    fromCatcher:bool\n",
    "        \n",
    "class Pickoff(PlayEventBase):\n",
    "    details:PickoffDetails\n",
    "    playId:Optional[str]=None\n",
    "    actionPlayId:Optional[str]=None\n",
    "\n",
    "class Pitch(PlayEventBase):\n",
    "    details:PitchDetails\n",
    "    pitchData:PitchData\n",
    "    playId:str\n",
    "    pitchNumber: int\n",
    "    type:Literal['pitch']='pitch'"
   ]
  },
  {
   "cell_type": "code",
   "execution_count": null,
   "metadata": {},
   "outputs": [],
   "source": [
    "Pitch(**pitches[0])"
   ]
  },
  {
   "cell_type": "code",
   "execution_count": null,
   "metadata": {},
   "outputs": [],
   "source": [
    "Pickoff(**[x for x in not_pitches if x['type']=='pickoff'][0])"
   ]
  },
  {
   "cell_type": "code",
   "execution_count": null,
   "metadata": {},
   "outputs": [],
   "source": [
    "Action(**[x for x in not_pitches if x['type']=='action'][-3])"
   ]
  },
  {
   "cell_type": "code",
   "execution_count": null,
   "metadata": {},
   "outputs": [],
   "source": [
    "[x for x in not_pitches if x['type']=='action'][-2]"
   ]
  },
  {
   "cell_type": "markdown",
   "metadata": {},
   "source": [
    "## Play Model"
   ]
  },
  {
   "cell_type": "code",
   "execution_count": null,
   "metadata": {},
   "outputs": [],
   "source": [
    "play.keys()"
   ]
  },
  {
   "cell_type": "code",
   "execution_count": null,
   "metadata": {},
   "outputs": [],
   "source": [
    "play['atBatIndex']"
   ]
  },
  {
   "cell_type": "code",
   "execution_count": null,
   "metadata": {},
   "outputs": [],
   "source": [
    "class Play(BaseModel):\n",
    "    result:PlayResult\n",
    "    about:PlayAbout\n",
    "    count:Count\n",
    "    matchup:Matchup\n",
    "    pitchIndex:List[int]\n",
    "    actionIndex:List[int]\n",
    "    runnerIndex:List[int]\n",
    "    runners:List[Runner]\n",
    "    playEvents:List[Union[Pitch,Pickoff,Action]]\n",
    "    atBatIndex:int\n",
    "    playEndTime:dt.datetime"
   ]
  },
  {
   "cell_type": "code",
   "execution_count": null,
   "metadata": {},
   "outputs": [],
   "source": [
    "[Play(**p) for p in plays]"
   ]
  },
  {
   "cell_type": "code",
   "execution_count": null,
   "metadata": {},
   "outputs": [],
   "source": []
  }
 ],
 "metadata": {
  "kernelspec": {
   "display_name": "Python 3",
   "language": "python",
   "name": "python3"
  }
 },
 "nbformat": 4,
 "nbformat_minor": 4
}
