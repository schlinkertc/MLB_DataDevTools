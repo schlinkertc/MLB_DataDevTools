{
 "cells": [
  {
   "cell_type": "code",
   "execution_count": null,
   "metadata": {},
   "outputs": [],
   "source": [
    "# default_exp models.game_data"
   ]
  },
  {
   "cell_type": "code",
   "execution_count": null,
   "metadata": {},
   "outputs": [],
   "source": [
    "from nbdev.showdoc import *"
   ]
  },
  {
   "cell_type": "code",
   "execution_count": null,
   "metadata": {},
   "outputs": [],
   "source": [
    "#exporti\n",
    "\n",
    "import pandas as pd\n",
    "import statsapi as mlb\n",
    "from pydantic import (\n",
    "    BaseModel,\n",
    "    Field,\n",
    "    validator,\n",
    "    conint,\n",
    "    constr,\n",
    "    confloat,\n",
    "    root_validator\n",
    ")\n",
    "from MLB_DataDevTools.models.base_models import *\n",
    "from enum import Enum\n",
    "import datetime as dt\n",
    "from typing import Optional,Dict\n",
    "\n",
    "from MLB_DataDevTools.mlb_api import get_season_game_pks\n",
    "from MLB_DataDevTools.database import create_mlb_engine\n"
   ]
  },
  {
   "cell_type": "code",
   "execution_count": null,
   "metadata": {},
   "outputs": [],
   "source": [
    "#slow \n",
    "\n",
    "engine = create_mlb_engine()\n",
    "games = pd.read_sql_table('game',engine.connect())\n",
    "games.columns"
   ]
  },
  {
   "cell_type": "code",
   "execution_count": null,
   "metadata": {},
   "outputs": [],
   "source": [
    "gamePks = get_season_game_pks(2019)"
   ]
  },
  {
   "cell_type": "code",
   "execution_count": null,
   "metadata": {},
   "outputs": [],
   "source": [
    "import random\n",
    "\n",
    "random_ix = random.randint(0,len(gamePks)-1)\n",
    "\n",
    "example_game = mlb.get('game',{'gamePk':gamePks[random_ix]})\n",
    "print(example_game['gamePk'])\n",
    "\n",
    "print(example_game.keys())\n",
    "\n",
    "gameData = example_game['gameData']"
   ]
  },
  {
   "cell_type": "markdown",
   "metadata": {},
   "source": [
    "## Game Details"
   ]
  },
  {
   "cell_type": "code",
   "execution_count": null,
   "metadata": {},
   "outputs": [],
   "source": [
    "#exporti \n",
    "\n",
    "from MLB_DataDevTools.models.base_models import GamedayType,GameType\n",
    "\n",
    "class GameDetails(BaseModel):\n",
    "    pk: int\n",
    "    type: GameType\n",
    "    doubleHeader: bool\n",
    "    id: str\n",
    "    gamedayType: GamedayType\n",
    "    tiebreaker: bool\n",
    "    gameNumber: conint(gt=0,lt=3)\n",
    "    calendarEventID: str\n",
    "    season: str\n",
    "    seasonDisplay: str\n",
    "    \n",
    "    @validator('doubleHeader')\n",
    "    def validate_double_header(cls,v):\n",
    "        if v == 'S':\n",
    "            return True\n",
    "        else:\n",
    "            return v"
   ]
  },
  {
   "cell_type": "code",
   "execution_count": null,
   "metadata": {},
   "outputs": [],
   "source": [
    "show_doc(GameDetails)"
   ]
  },
  {
   "cell_type": "code",
   "execution_count": null,
   "metadata": {},
   "outputs": [],
   "source": [
    "gameData['game']"
   ]
  },
  {
   "cell_type": "code",
   "execution_count": null,
   "metadata": {},
   "outputs": [],
   "source": [
    "print(\n",
    "    GameDetails(**gameData['game']).json(indent=2)\n",
    ")"
   ]
  },
  {
   "cell_type": "markdown",
   "metadata": {},
   "source": [
    "## Game Datetime"
   ]
  },
  {
   "cell_type": "code",
   "execution_count": null,
   "metadata": {},
   "outputs": [],
   "source": [
    "gameData['datetime']"
   ]
  },
  {
   "cell_type": "code",
   "execution_count": null,
   "metadata": {},
   "outputs": [],
   "source": [
    "#exporti \n",
    "\n",
    "class DayNight(str,Enum):\n",
    "    day='day'\n",
    "    night='night'\n",
    "class AmPm(str,Enum):\n",
    "    AM='AM'\n",
    "    PM='PM'"
   ]
  },
  {
   "cell_type": "code",
   "execution_count": null,
   "metadata": {},
   "outputs": [],
   "source": [
    "#exporti\n",
    "\n",
    "class GameDatetime(BaseModel):\n",
    "    dateTime: dt.datetime = Field(...,description=\"Timezone unaware datetime for the game\")\n",
    "    originalDate: dt.date\n",
    "    dayNight: DayNight\n",
    "    time: dt.time = Field(...,description='Local time for the game')\n",
    "    ampm: AmPm\n",
    "    \n",
    "    @root_validator\n",
    "    def validate_game_time(cls,values):\n",
    "        \"\"\"\n",
    "        Adds 12 hours to the game time if 'pm'\n",
    "        \"\"\"\n",
    "        if values['ampm']=='PM':\n",
    "            values['time'] = dt.time(\n",
    "                values['time'].hour + 12,\n",
    "                values['time'].minute\n",
    "            )\n",
    "            return values\n",
    "        return values"
   ]
  },
  {
   "cell_type": "code",
   "execution_count": null,
   "metadata": {},
   "outputs": [],
   "source": [
    "gameData['datetime']"
   ]
  },
  {
   "cell_type": "code",
   "execution_count": null,
   "metadata": {},
   "outputs": [],
   "source": [
    "show_doc(GameDatetime)"
   ]
  },
  {
   "cell_type": "code",
   "execution_count": null,
   "metadata": {},
   "outputs": [],
   "source": [
    "GameDatetime.schema()"
   ]
  },
  {
   "cell_type": "code",
   "execution_count": null,
   "metadata": {},
   "outputs": [],
   "source": [
    "print(GameDatetime(**gameData['datetime']).json(indent=2))"
   ]
  },
  {
   "cell_type": "markdown",
   "metadata": {},
   "source": [
    "## Game Status"
   ]
  },
  {
   "cell_type": "code",
   "execution_count": null,
   "metadata": {},
   "outputs": [],
   "source": [
    "gameData['status']"
   ]
  },
  {
   "cell_type": "code",
   "execution_count": null,
   "metadata": {},
   "outputs": [],
   "source": [
    "game_statuses = mlb.get('meta',{'type':'gameStatus'})\n",
    "game_statuses[0]"
   ]
  },
  {
   "cell_type": "code",
   "execution_count": null,
   "metadata": {},
   "outputs": [],
   "source": [
    "game_status_values = {\n",
    "    k:set(x.get(k) for x in game_statuses)\n",
    "    for k in gameData['status'].keys()\n",
    "}"
   ]
  },
  {
   "cell_type": "code",
   "execution_count": null,
   "metadata": {},
   "outputs": [],
   "source": [
    "game_status_values['abstractGameState']"
   ]
  },
  {
   "cell_type": "code",
   "execution_count": null,
   "metadata": {},
   "outputs": [],
   "source": [
    "game_status_values['abstractGameCode']"
   ]
  },
  {
   "cell_type": "code",
   "execution_count": null,
   "metadata": {},
   "outputs": [],
   "source": [
    "#exporti\n",
    "from MLB_DataDevTools.models.base_models import AbstractGameCode,AbstractGameState\n",
    "\n",
    "class GameStatus(BaseModel):\n",
    "    abstractGameState: AbstractGameState\n",
    "    codedGameState: constr(max_length=2)\n",
    "    detailedState: str\n",
    "    statusCode: constr(max_length=2)\n",
    "    reason: Optional[str] = None \n",
    "    startTimeTBD: Optional[bool] = False\n",
    "    abstractGameCode: AbstractGameCode"
   ]
  },
  {
   "cell_type": "code",
   "execution_count": null,
   "metadata": {},
   "outputs": [],
   "source": [
    "show_doc(GameStatus)"
   ]
  },
  {
   "cell_type": "code",
   "execution_count": null,
   "metadata": {},
   "outputs": [],
   "source": [
    "gameData['status']"
   ]
  },
  {
   "cell_type": "code",
   "execution_count": null,
   "metadata": {},
   "outputs": [],
   "source": [
    "print(GameStatus(**gameData['status']).json(indent=2))"
   ]
  },
  {
   "cell_type": "markdown",
   "metadata": {},
   "source": [
    "## Team"
   ]
  },
  {
   "cell_type": "code",
   "execution_count": null,
   "metadata": {},
   "outputs": [],
   "source": [
    "gameData['teams'].keys()"
   ]
  },
  {
   "cell_type": "code",
   "execution_count": null,
   "metadata": {},
   "outputs": [],
   "source": [
    "team = gameData['teams']['home']\n",
    "{k: list(v.keys()) for k,v in team.items() if type(v)==dict}"
   ]
  },
  {
   "cell_type": "markdown",
   "metadata": {},
   "source": [
    "### Venue"
   ]
  },
  {
   "cell_type": "markdown",
   "metadata": {},
   "source": [
    "Some of the values here are abridged versions of what the MLB API would return if called directly. For example, the `venue` enpoint returns name and id, but the springVenue value here just provides the id. "
   ]
  },
  {
   "cell_type": "code",
   "execution_count": null,
   "metadata": {},
   "outputs": [],
   "source": [
    "mlb.get('venue',{'venueIds':'4705'})"
   ]
  },
  {
   "cell_type": "code",
   "execution_count": null,
   "metadata": {},
   "outputs": [],
   "source": [
    "team['venue']"
   ]
  },
  {
   "cell_type": "code",
   "execution_count": null,
   "metadata": {},
   "outputs": [],
   "source": [
    "team['springVenue']"
   ]
  },
  {
   "cell_type": "code",
   "execution_count": null,
   "metadata": {},
   "outputs": [],
   "source": [
    "mlb.get('venue',{'venueIds':'4705'})"
   ]
  },
  {
   "cell_type": "code",
   "execution_count": null,
   "metadata": {},
   "outputs": [],
   "source": [
    "#exporti \n",
    "\n",
    "class TeamVenueBase(MLBEndpointBase):\n",
    "    id: int\n",
    "class TeamVenue(TeamVenueBase):\n",
    "    name: str"
   ]
  },
  {
   "cell_type": "code",
   "execution_count": null,
   "metadata": {},
   "outputs": [],
   "source": [
    "print(TeamVenueBase(**team['springVenue']).json(indent=2))"
   ]
  },
  {
   "cell_type": "code",
   "execution_count": null,
   "metadata": {},
   "outputs": [],
   "source": [
    "print(TeamVenue(**team['venue']).json())"
   ]
  },
  {
   "cell_type": "markdown",
   "metadata": {},
   "source": [
    "### Record"
   ]
  },
  {
   "cell_type": "code",
   "execution_count": null,
   "metadata": {},
   "outputs": [],
   "source": [
    "team['record']"
   ]
  },
  {
   "cell_type": "code",
   "execution_count": null,
   "metadata": {},
   "outputs": [],
   "source": [
    "#exporti \n",
    "\n",
    "class TeamRecord(BaseModel):\n",
    "    wins: conint(ge=0)\n",
    "    losses: conint(ge=0)\n",
    "    winningPercentage: confloat(ge=0,lt=1) = Field(...,alias='pct')\n",
    "    \n",
    "\n",
    "class GameTeamRecord(TeamRecord):\n",
    "    gamesPlayed: int\n",
    "    wildCardGamesBack: CustomInt\n",
    "    leagueGamesBack: CustomInt\n",
    "    springLeagueGamesBack: CustomInt\n",
    "    sportGamesBack: CustomInt\n",
    "    leagueRecord: TeamRecord\n",
    "    divisionLeader: bool\n",
    "    records: dict # not sure what's supposed to go here... \n",
    "\n",
    "    class Config:\n",
    "        allow_population_by_field_name=True"
   ]
  },
  {
   "cell_type": "code",
   "execution_count": null,
   "metadata": {},
   "outputs": [],
   "source": [
    "team['record']['leagueRecord']"
   ]
  },
  {
   "cell_type": "code",
   "execution_count": null,
   "metadata": {},
   "outputs": [],
   "source": [
    "TeamRecord(**team['record']['leagueRecord'])"
   ]
  },
  {
   "cell_type": "code",
   "execution_count": null,
   "metadata": {},
   "outputs": [],
   "source": [
    "team['record']"
   ]
  },
  {
   "cell_type": "code",
   "execution_count": null,
   "metadata": {},
   "outputs": [],
   "source": [
    "print(GameTeamRecord(**team['record'],by_alias=False).json(indent=2))"
   ]
  },
  {
   "cell_type": "code",
   "execution_count": null,
   "metadata": {},
   "outputs": [],
   "source": [
    "team.keys()"
   ]
  },
  {
   "cell_type": "code",
   "execution_count": null,
   "metadata": {},
   "outputs": [],
   "source": [
    "team['sport']"
   ]
  },
  {
   "cell_type": "code",
   "execution_count": null,
   "metadata": {},
   "outputs": [],
   "source": [
    "mlb.get('sports',{'sportId':1})"
   ]
  },
  {
   "cell_type": "code",
   "execution_count": null,
   "metadata": {},
   "outputs": [],
   "source": [
    "team['division']"
   ]
  },
  {
   "cell_type": "code",
   "execution_count": null,
   "metadata": {},
   "outputs": [],
   "source": [
    "import requests \n",
    "\n",
    "requests.get(mlb.BASE_URL + 'v1/divisions/204').json()"
   ]
  },
  {
   "cell_type": "code",
   "execution_count": null,
   "metadata": {},
   "outputs": [],
   "source": [
    "#exporti \n",
    "\n",
    "class GameTeam(MLBEndpointReference):\n",
    "    season: int\n",
    "    venue: TeamVenue\n",
    "    springVenue: TeamVenueBase\n",
    "    teamCode: str\n",
    "    fileCode: str\n",
    "    abbreviation: str\n",
    "    teamName: str\n",
    "    locationName: str\n",
    "    firstYearOfPlay: str\n",
    "    league: MLBEndpointReference\n",
    "    division: MLBEndpointReference\n",
    "    shortName: str\n",
    "    record: GameTeamRecord\n",
    "    springLeague: MLBEndpointReference\n",
    "    allStarStatus: bool\n",
    "    active: bool\n",
    "    \n",
    "        "
   ]
  },
  {
   "cell_type": "code",
   "execution_count": null,
   "metadata": {},
   "outputs": [],
   "source": [
    "game_team = GameTeam(**team)\n",
    "print(game_team.json(indent=2))"
   ]
  },
  {
   "cell_type": "code",
   "execution_count": null,
   "metadata": {},
   "outputs": [],
   "source": [
    "game_team.springLeague"
   ]
  },
  {
   "cell_type": "code",
   "execution_count": null,
   "metadata": {},
   "outputs": [],
   "source": [
    "game_team.record"
   ]
  },
  {
   "cell_type": "code",
   "execution_count": null,
   "metadata": {},
   "outputs": [],
   "source": [
    "game_teams = [GameTeam(**gameData['teams'][tm]) for tm in ('home','away')]"
   ]
  },
  {
   "cell_type": "markdown",
   "metadata": {},
   "source": [
    "## Players"
   ]
  },
  {
   "cell_type": "markdown",
   "metadata": {},
   "source": [
    "This is the full response from the `players` endpoint as well"
   ]
  },
  {
   "cell_type": "code",
   "execution_count": null,
   "metadata": {},
   "outputs": [],
   "source": [
    "player_example = list(gameData['players'].values())[0]"
   ]
  },
  {
   "cell_type": "code",
   "execution_count": null,
   "metadata": {},
   "outputs": [],
   "source": [
    "mlb.get('people',{'personIds':player_example['id']})['people'][0] == player_example"
   ]
  },
  {
   "cell_type": "code",
   "execution_count": null,
   "metadata": {},
   "outputs": [],
   "source": [
    "player_example"
   ]
  },
  {
   "cell_type": "code",
   "execution_count": null,
   "metadata": {},
   "outputs": [],
   "source": [
    "positions = mlb.get('meta',{'type':'positions'})\n",
    "positions[0]"
   ]
  },
  {
   "cell_type": "code",
   "execution_count": null,
   "metadata": {},
   "outputs": [],
   "source": [
    "player_example['primaryPosition']"
   ]
  },
  {
   "cell_type": "code",
   "execution_count": null,
   "metadata": {},
   "outputs": [],
   "source": [
    "gameData['primaryDatacaster']"
   ]
  },
  {
   "cell_type": "code",
   "execution_count": null,
   "metadata": {},
   "outputs": [],
   "source": [
    "example_person = mlb.get('people',{'personIds':gameData['primaryDatacaster']['id']})['people'][0]\n",
    "example_person"
   ]
  },
  {
   "cell_type": "code",
   "execution_count": null,
   "metadata": {},
   "outputs": [],
   "source": [
    "person = MLBPerson(**example_person)"
   ]
  },
  {
   "cell_type": "code",
   "execution_count": null,
   "metadata": {},
   "outputs": [],
   "source": [
    "person"
   ]
  },
  {
   "cell_type": "code",
   "execution_count": null,
   "metadata": {},
   "outputs": [],
   "source": [
    "#exporti \n",
    "\n",
    "class Player(MLBPerson):\n",
    "    primaryNumber: Optional[int] = None\n",
    "    birthDate: dt.date\n",
    "    currentAge: int\n",
    "    birthCity: str\n",
    "    birthStateProvince: Optional[str] = None\n",
    "    birthCountry: str\n",
    "\n",
    "    middleName: Optional[str] = None\n",
    "\n",
    "    pitchHand: PlayerHandedness\n",
    "    batSide: PlayerHandedness\n",
    "\n",
    "    draftYear: Optional[int] = None\n",
    "    mlbDebutDate: dt.date\n",
    "    \n",
    "    strikeZoneTop: float\n",
    "    strikeZoneBottom: float\n",
    "        "
   ]
  },
  {
   "cell_type": "code",
   "execution_count": null,
   "metadata": {},
   "outputs": [],
   "source": [
    "player_example"
   ]
  },
  {
   "cell_type": "code",
   "execution_count": null,
   "metadata": {},
   "outputs": [],
   "source": [
    "Player(**player_example)"
   ]
  },
  {
   "cell_type": "code",
   "execution_count": null,
   "metadata": {},
   "outputs": [],
   "source": [
    "players = {k:Player(**v) for k,v in gameData['players'].items()}"
   ]
  },
  {
   "cell_type": "markdown",
   "metadata": {},
   "source": [
    "## Venue"
   ]
  },
  {
   "cell_type": "code",
   "execution_count": null,
   "metadata": {},
   "outputs": [],
   "source": [
    "venues = pd.read_sql_table('venue',engine.connect())\n",
    "\n",
    "print(venues['fieldInfo_turfType'].unique())\n",
    "print(venues['fieldInfo_roofType'].unique())"
   ]
  },
  {
   "cell_type": "code",
   "execution_count": null,
   "metadata": {},
   "outputs": [],
   "source": [
    "gameData['venue']"
   ]
  },
  {
   "cell_type": "code",
   "execution_count": null,
   "metadata": {},
   "outputs": [],
   "source": [
    "#exporti \n",
    "\n",
    "class GameVenue(TeamVenue):\n",
    "    location: VenueLocation\n",
    "    timeZone: TimeZone\n",
    "    fieldInfo: FieldInfo"
   ]
  },
  {
   "cell_type": "code",
   "execution_count": null,
   "metadata": {},
   "outputs": [],
   "source": [
    "GameVenue(**gameData['venue'])"
   ]
  },
  {
   "cell_type": "markdown",
   "metadata": {},
   "source": [
    "## Weather"
   ]
  },
  {
   "cell_type": "code",
   "execution_count": null,
   "metadata": {},
   "outputs": [],
   "source": [
    "gameData['weather']"
   ]
  },
  {
   "cell_type": "code",
   "execution_count": null,
   "metadata": {},
   "outputs": [],
   "source": [
    "mlb.get('meta',{'type':'windDirection'})"
   ]
  },
  {
   "cell_type": "code",
   "execution_count": null,
   "metadata": {},
   "outputs": [],
   "source": [
    "#exporti \n",
    "\n",
    "class GameWeather(BaseModel):\n",
    "    condition: str\n",
    "    temp: int\n",
    "    wind: str"
   ]
  },
  {
   "cell_type": "code",
   "execution_count": null,
   "metadata": {},
   "outputs": [],
   "source": [
    "GameWeather(**gameData['weather'])"
   ]
  },
  {
   "cell_type": "code",
   "execution_count": null,
   "metadata": {},
   "outputs": [],
   "source": [
    "gameData['gameInfo']"
   ]
  },
  {
   "cell_type": "markdown",
   "metadata": {},
   "source": [
    "## Game Info"
   ]
  },
  {
   "cell_type": "code",
   "execution_count": null,
   "metadata": {},
   "outputs": [],
   "source": [
    "#exporti \n",
    "\n",
    "class GameInfo(BaseModel):\n",
    "    attendance: int\n",
    "    gameDurationMinutes: int\n",
    "    \n",
    "    @property\n",
    "    def game_duration(self):\n",
    "        return dt.timedelta(minutes=self.gameDurationMinutes)"
   ]
  },
  {
   "cell_type": "code",
   "execution_count": null,
   "metadata": {},
   "outputs": [],
   "source": [
    "game_info = GameInfo(**gameData['gameInfo'])\n",
    "game_info.game_duration"
   ]
  },
  {
   "cell_type": "code",
   "execution_count": null,
   "metadata": {},
   "outputs": [],
   "source": [
    "duration = game_info.game_duration"
   ]
  },
  {
   "cell_type": "markdown",
   "metadata": {},
   "source": [
    "## Review"
   ]
  },
  {
   "cell_type": "code",
   "execution_count": null,
   "metadata": {},
   "outputs": [],
   "source": [
    "gameData['review']"
   ]
  },
  {
   "cell_type": "code",
   "execution_count": null,
   "metadata": {},
   "outputs": [],
   "source": [
    "#exporti \n",
    "\n",
    "class Challenges(BaseModel):\n",
    "    used: int\n",
    "    remaining: int\n",
    "\n",
    "class GameReview(BaseModel):\n",
    "    hasChallenges: bool\n",
    "    away: Challenges\n",
    "    home: Challenges"
   ]
  },
  {
   "cell_type": "code",
   "execution_count": null,
   "metadata": {},
   "outputs": [],
   "source": [
    "GameReview(**gameData['review'])"
   ]
  },
  {
   "cell_type": "markdown",
   "metadata": {},
   "source": [
    "## Flags"
   ]
  },
  {
   "cell_type": "code",
   "execution_count": null,
   "metadata": {},
   "outputs": [],
   "source": [
    "gameData['flags']"
   ]
  },
  {
   "cell_type": "code",
   "execution_count": null,
   "metadata": {},
   "outputs": [],
   "source": [
    "#exporti \n",
    "\n",
    "class GameFlags(BaseModel):\n",
    "    noHitter: bool\n",
    "    perfectGame: bool\n",
    "    awayTeamNoHitter: bool\n",
    "    awayTeamPerfectGame: bool\n",
    "    homeTeamNoHitter: bool\n",
    "    homeTeamPerfectGame: bool"
   ]
  },
  {
   "cell_type": "code",
   "execution_count": null,
   "metadata": {},
   "outputs": [],
   "source": [
    "GameFlags(**gameData['flags'])"
   ]
  },
  {
   "cell_type": "code",
   "execution_count": null,
   "metadata": {},
   "outputs": [],
   "source": [
    "gameData.keys()"
   ]
  },
  {
   "cell_type": "markdown",
   "metadata": {},
   "source": [
    "## Probable Pitchers, official Scorer, datacaster"
   ]
  },
  {
   "cell_type": "code",
   "execution_count": null,
   "metadata": {},
   "outputs": [],
   "source": [
    "gameData['probablePitchers']"
   ]
  },
  {
   "cell_type": "code",
   "execution_count": null,
   "metadata": {},
   "outputs": [],
   "source": [
    "[PersonBase(**gameData['probablePitchers'][tm]) for tm in ('home','away')]"
   ]
  },
  {
   "cell_type": "code",
   "execution_count": null,
   "metadata": {},
   "outputs": [],
   "source": [
    "PersonBase(**gameData['officialScorer'])"
   ]
  },
  {
   "cell_type": "code",
   "execution_count": null,
   "metadata": {},
   "outputs": [],
   "source": [
    "PersonBase(**gameData['primaryDatacaster'])"
   ]
  },
  {
   "cell_type": "markdown",
   "metadata": {},
   "source": [
    "## GameData"
   ]
  },
  {
   "cell_type": "code",
   "execution_count": null,
   "metadata": {},
   "outputs": [],
   "source": [
    "gameData.keys()"
   ]
  },
  {
   "cell_type": "code",
   "execution_count": null,
   "metadata": {},
   "outputs": [],
   "source": [
    "#exporti \n",
    "\n",
    "class HomeAway(str,Enum):\n",
    "    home = 'home'\n",
    "    away = 'away'"
   ]
  },
  {
   "cell_type": "code",
   "execution_count": null,
   "metadata": {},
   "outputs": [],
   "source": [
    "#export \n",
    "\n",
    "class GameData(BaseModel):\n",
    "    game: GameDetails\n",
    "    datetime: GameDatetime\n",
    "    status: GameStatus\n",
    "    teams: Dict[HomeAway,GameTeam]\n",
    "    players: Dict[str,Player]\n",
    "    venue: GameVenue\n",
    "    gameInfo: GameInfo\n",
    "    review: GameReview\n",
    "    flags: GameFlags\n",
    "    probablePitchers: Dict[HomeAway,PersonBase]\n",
    "    officialScorer: PersonBase\n",
    "    primaryDatacaster: PersonBase"
   ]
  },
  {
   "cell_type": "code",
   "execution_count": null,
   "metadata": {},
   "outputs": [],
   "source": [
    "game_data = GameData(**gameData)"
   ]
  },
  {
   "cell_type": "code",
   "execution_count": null,
   "metadata": {},
   "outputs": [],
   "source": [
    "game_data.teams['away']"
   ]
  },
  {
   "cell_type": "code",
   "execution_count": null,
   "metadata": {},
   "outputs": [],
   "source": [
    "GameData.schema()"
   ]
  },
  {
   "cell_type": "code",
   "execution_count": null,
   "metadata": {},
   "outputs": [],
   "source": [
    "#hide\n",
    "from nbdev.export import notebook2script; notebook2script()"
   ]
  },
  {
   "cell_type": "code",
   "execution_count": null,
   "metadata": {},
   "outputs": [],
   "source": []
  }
 ],
 "metadata": {
  "kernelspec": {
   "display_name": "Python 3",
   "language": "python",
   "name": "python3"
  }
 },
 "nbformat": 4,
 "nbformat_minor": 4
}
