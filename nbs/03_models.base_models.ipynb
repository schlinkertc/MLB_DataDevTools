{
 "cells": [
  {
   "cell_type": "code",
   "execution_count": null,
   "metadata": {},
   "outputs": [],
   "source": [
    "# default_exp models.base_models"
   ]
  },
  {
   "cell_type": "code",
   "execution_count": null,
   "metadata": {},
   "outputs": [],
   "source": [
    "import statsapi as mlb"
   ]
  },
  {
   "cell_type": "code",
   "execution_count": null,
   "metadata": {},
   "outputs": [],
   "source": [
    "#exporti \n",
    "\n",
    "from pydantic import (\n",
    "    BaseModel,\n",
    "    HttpUrl,\n",
    "    validator,\n",
    "    constr\n",
    ")\n",
    "from enum import Enum\n",
    "from typing import Optional"
   ]
  },
  {
   "cell_type": "code",
   "execution_count": null,
   "metadata": {},
   "outputs": [],
   "source": [
    "#export \n",
    "\n",
    "class MLBEndpointBase(BaseModel):\n",
    "\n",
    "    link: HttpUrl\n",
    "    \n",
    "    @validator('link',pre=True)\n",
    "    def add_base_url_to_link(cls,link):\n",
    "        return 'https://statsapi.mlb.com'+link\n",
    "\n",
    "class MLBEndpointReference(MLBEndpointBase):\n",
    "    id: int\n",
    "    name: Optional[str]=None"
   ]
  },
  {
   "cell_type": "code",
   "execution_count": null,
   "metadata": {},
   "outputs": [],
   "source": [
    "#export\n",
    "\n",
    "class CustomInt(str):\n",
    "\n",
    "    @classmethod\n",
    "    def __get_validators__(cls):\n",
    "        # one or more validators may be yielded which will be called in the\n",
    "        # order to validate the input, each validator will receive as an input\n",
    "        # the value returned from the previous validator\n",
    "        yield cls.validate\n",
    "\n",
    "\n",
    "    @classmethod\n",
    "    def validate(cls, v):\n",
    "        if v == '-':\n",
    "            return None\n",
    "        else:\n",
    "            return int(v)"
   ]
  },
  {
   "cell_type": "markdown",
   "metadata": {},
   "source": [
    "## People"
   ]
  },
  {
   "cell_type": "code",
   "execution_count": null,
   "metadata": {},
   "outputs": [],
   "source": [
    "#export \n",
    "\n",
    "class PositionBase(BaseModel):\n",
    "    code: str\n",
    "    name: str\n",
    "    type: str\n",
    "    abbreviation: str\n",
    "\n",
    "class PlayerHandedness(BaseModel):\n",
    "    code: constr(max_length=1)\n",
    "    description: str"
   ]
  },
  {
   "cell_type": "code",
   "execution_count": null,
   "metadata": {},
   "outputs": [],
   "source": [
    "#export \n",
    "\n",
    "class PersonBase(MLBEndpointReference):\n",
    "\n",
    "    class Config:\n",
    "        fields = {\n",
    "            'name':{\n",
    "                'alias':'fullName'\n",
    "            }\n",
    "        }\n",
    "\n",
    "class MLBPerson(PersonBase):\n",
    "    firstName: str\n",
    "    lastName: str\n",
    "        \n",
    "    height: str\n",
    "    weight: int\n",
    "    Optiactive: bool\n",
    "    primaryPosition: PositionBase\n",
    "    useName: str\n",
    "\n",
    "    boxscoreName: str\n",
    "    gender: str\n",
    "    isPlayer: bool\n",
    "    isVerified: bool\n",
    "        \n",
    "    nameSlug: str\n",
    "    \n",
    "\n"
   ]
  },
  {
   "cell_type": "markdown",
   "metadata": {},
   "source": [
    "## Venue and Field Info"
   ]
  },
  {
   "cell_type": "code",
   "execution_count": null,
   "metadata": {},
   "outputs": [],
   "source": [
    "#export\n",
    "\n",
    "class Coordinates(BaseModel):\n",
    "    latitude: float\n",
    "    longitude: float\n",
    "\n",
    "class TimeZone(BaseModel):\n",
    "    id: str\n",
    "    offset: int\n",
    "    tz: str\n",
    "\n",
    "class VenueLocation(BaseModel):\n",
    "    city: str\n",
    "    state: str\n",
    "    stateAbbrev: str\n",
    "    defaultCoordinates: Coordinates"
   ]
  },
  {
   "cell_type": "code",
   "execution_count": null,
   "metadata": {},
   "outputs": [],
   "source": [
    "#export \n",
    "\n",
    "class TurfType(str,Enum):\n",
    "    Grass = 'Grass'\n",
    "    Artificial = 'Artificial'\n",
    "class RoofType(str,Enum):\n",
    "    Open = 'Open'\n",
    "    Dome = 'Dome'\n",
    "    Retractable = 'Retractable'\n",
    "\n",
    "class FieldInfo(BaseModel):\n",
    "    capacity: int\n",
    "    turfType: TurfType\n",
    "    roofType: RoofType\n",
    "    leftLine: int\n",
    "    leftCenter: int\n",
    "    center: int\n",
    "    rightCenter: int\n",
    "    rightLine: int"
   ]
  },
  {
   "cell_type": "markdown",
   "metadata": {},
   "source": [
    "## Game Status"
   ]
  },
  {
   "cell_type": "code",
   "execution_count": null,
   "metadata": {},
   "outputs": [],
   "source": [
    "#exporti\n",
    "\n",
    "class AbstractGameState(str,Enum):\n",
    "    Final = 'Final'\n",
    "    Live = 'Live'\n",
    "    Other = 'Other'\n",
    "    Preview = 'Preview'\n",
    "class AbstractGameCode(str,Enum):\n",
    "    F='F'\n",
    "    L='L'\n",
    "    O='O'\n",
    "    P='P'"
   ]
  },
  {
   "cell_type": "markdown",
   "metadata": {},
   "source": [
    "## Game/Gameday Types"
   ]
  },
  {
   "cell_type": "code",
   "execution_count": null,
   "metadata": {},
   "outputs": [],
   "source": [
    "mlb.get('meta',{'type':'gameTypes'})"
   ]
  },
  {
   "cell_type": "code",
   "execution_count": null,
   "metadata": {},
   "outputs": [],
   "source": [
    "#exporti\n",
    "\n",
    "class GameType(str,Enum):\n",
    "    spring_training = 'S'\n",
    "    regular_season = 'R'\n",
    "    wild_card_game = 'F'\n",
    "    division_series = 'D'\n",
    "    league_championship_series = 'L'\n",
    "    world_series = 'W'\n",
    "    championship = 'C'\n",
    "    nineteenth_centure_series = 'N'\n",
    "    playoffs = 'P'\n",
    "    all_star_game = 'A'\n",
    "    intrasquad = 'I'\n",
    "    exhibition = 'E'\n",
    "    \n",
    "    "
   ]
  },
  {
   "cell_type": "code",
   "execution_count": null,
   "metadata": {},
   "outputs": [],
   "source": [
    "mlb.get('meta',{'type':'gamedayTypes'})"
   ]
  },
  {
   "cell_type": "code",
   "execution_count": null,
   "metadata": {},
   "outputs": [],
   "source": [
    "#exporti \n",
    "\n",
    "class GamedayType(str,Enum):\n",
    "    box_score_only = 'B'\n",
    "    pitch_by_pitch = 'D'\n",
    "    enhanced = 'E'\n",
    "    linescore_only = 'L'\n",
    "    play_by_play = 'N'\n",
    "    premium = 'P'\n",
    "    score_only = 'S'\n",
    "    regular = 'Y'"
   ]
  },
  {
   "cell_type": "code",
   "execution_count": null,
   "metadata": {},
   "outputs": [],
   "source": [
    "#hide\n",
    "from nbdev.export import notebook2script; notebook2script()"
   ]
  },
  {
   "cell_type": "code",
   "execution_count": null,
   "metadata": {},
   "outputs": [],
   "source": []
  }
 ],
 "metadata": {
  "kernelspec": {
   "display_name": "Python 3",
   "language": "python",
   "name": "python3"
  }
 },
 "nbformat": 4,
 "nbformat_minor": 4
}
