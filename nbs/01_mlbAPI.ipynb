{
 "cells": [
  {
   "cell_type": "code",
   "execution_count": null,
   "metadata": {},
   "outputs": [],
   "source": [
    "# default_exp mlb_api"
   ]
  },
  {
   "cell_type": "markdown",
   "metadata": {},
   "source": [
    "# Parse MLB API\n",
    "\n",
    "> details."
   ]
  },
  {
   "cell_type": "code",
   "execution_count": null,
   "metadata": {},
   "outputs": [],
   "source": [
    "#hide\n",
    "from nbdev.showdoc import *"
   ]
  },
  {
   "cell_type": "code",
   "execution_count": null,
   "metadata": {},
   "outputs": [],
   "source": [
    "#exporti\n",
    "\n",
    "import statsapi as mlb\n",
    "from typing import List"
   ]
  },
  {
   "cell_type": "code",
   "execution_count": null,
   "metadata": {},
   "outputs": [],
   "source": [
    "import datetime as dt\n",
    "from pydantic import validate_arguments\n",
    "\n",
    "@validate_arguments\n",
    "def get_days_games(date:dt.date=dt.date.today(),sportId:int=1):\n",
    "    response = mlb.get(\n",
    "        'schedule',{\n",
    "            'date':date.strftime('%Y-%m-%d'),\n",
    "            'sportId':1\n",
    "        }\n",
    "    )\n",
    "    assert len(response['dates'])==1\n",
    "    return response['dates'][0]['games']"
   ]
  },
  {
   "cell_type": "code",
   "execution_count": null,
   "metadata": {},
   "outputs": [],
   "source": [
    "len(get_days_games(date='1994-06-11',sportId='1'))"
   ]
  },
  {
   "cell_type": "code",
   "execution_count": null,
   "metadata": {},
   "outputs": [],
   "source": [
    "#exporti \n",
    "\n",
    "def get_season_game_pks(season: int) -> List[int]:\n",
    "    \"\"\"\n",
    "    Returns a list of gamePks for a given season\n",
    "    \n",
    "    :param season: int for the year of the season \n",
    "    \n",
    "    :returns list of gamePks as integers\n",
    "    \"\"\"\n",
    "    season = mlb.get('season',{'sportId':1,'seasonId':season})['seasons'][0]\n",
    "    start = season['seasonStartDate']\n",
    "    end = season['seasonEndDate']\n",
    "    schedule = mlb.get(\n",
    "        'schedule',\n",
    "        {'startDate':start,\n",
    "         'endDate':end,\n",
    "         'sportId':1}\n",
    "    )\n",
    "\n",
    "    pks = list(reversed(\n",
    "        [game['gamePk'] \n",
    "         for dates in schedule['dates']\n",
    "         for game in dates['games'] \n",
    "        ]\n",
    "    ))\n",
    "    pks = list(reversed(pks))\n",
    "    return pks"
   ]
  },
  {
   "cell_type": "code",
   "execution_count": null,
   "metadata": {},
   "outputs": [],
   "source": [
    "show_doc(get_season_game_pks)"
   ]
  },
  {
   "cell_type": "code",
   "execution_count": null,
   "metadata": {},
   "outputs": [],
   "source": [
    "gamePks = get_season_game_pks(2021)[:5]\n",
    "assert (len(gamePks))==5\n",
    "for pk in gamePks:\n",
    "    assert type(pk)==int"
   ]
  },
  {
   "cell_type": "code",
   "execution_count": null,
   "metadata": {},
   "outputs": [],
   "source": [
    "game_details = mlb.get('schedule',{'sportId':1,'date':'2021-04-01'})['dates'][0]['games'][0]"
   ]
  },
  {
   "cell_type": "code",
   "execution_count": null,
   "metadata": {},
   "outputs": [],
   "source": [
    "#exporti \n",
    "\n",
    "def add_playFKs(dictionary,play,game):\n",
    "    \"\"\"\n",
    "    For the nested events within a play, add the foreign keys needed to trace the event \n",
    "    back to it's game/play\n",
    "    \"\"\"\n",
    "    for fk in ['atBatIndex','playEndTime']:\n",
    "        dictionary[fk]=play[fk]\n",
    "        dictionary['gamePk']=game['gamePk']\n",
    "        \n",
    "def parse(input_dict,nested_lists=None):\n",
    "    \"\"\"recursively parse a dictionary with nested lists into a flat dictionary\"\"\"\n",
    "    out={}\n",
    "    if dict not in [type(x) for x in input_dict.values()]:\n",
    "        return input_dict\n",
    "    else:\n",
    "        for k,v in input_dict.items():\n",
    "            if type(v) in [str,int,float,bool]:\n",
    "                out[k]=input_dict[k]\n",
    "            elif type(v)==dict:\n",
    "                nested_dict = v\n",
    "                # if nested dict has an 'id', use it as a foreign key\n",
    "                # exepct in the cause of the 'game' table which has a pk field\n",
    "                if 'id' in nested_dict.keys() and 'pk' not in nested_dict.keys():\n",
    "                    out[f\"{k}_id\"]=nested_dict['id']\n",
    "                else:\n",
    "                    for key,value in nested_dict.items():\n",
    "                        out[f\"{k}_{key}\"]=value\n",
    "            elif type(v)==list:\n",
    "                if nested_lists != None:\n",
    "                    nested_lists.append({k:v})\n",
    "        return parse(out,nested_lists)"
   ]
  },
  {
   "cell_type": "code",
   "execution_count": null,
   "metadata": {},
   "outputs": [],
   "source": [
    "show_doc(add_playFKs)"
   ]
  },
  {
   "cell_type": "code",
   "execution_count": null,
   "metadata": {},
   "outputs": [],
   "source": [
    "show_doc(parse)"
   ]
  },
  {
   "cell_type": "code",
   "execution_count": null,
   "metadata": {},
   "outputs": [],
   "source": [
    "#export \n",
    "\n",
    "class Game():\n",
    "    \"\"\"Reference obj for a the result of an MLB API call.\"\"\"\n",
    "    \n",
    "    def __init__(self,gamePk):\n",
    "        \"\"\"Call the mlb API and parse results into flat dictionaries for DB insert.\"\"\"\n",
    "        # call the api \n",
    "        game = mlb.get('game',{'gamePk':gamePk})\n",
    "        self._result = game\n",
    "        \n",
    "        # players\n",
    "        self.players = []\n",
    "        players = game['gameData'].pop('players')\n",
    "        for playerId in players.keys():\n",
    "            self.players.append(parse(players[playerId]))\n",
    "        \n",
    "        # team / player stats\n",
    "        #self.teams = []\n",
    "        self.game_players = []\n",
    "        self.team_stats = []\n",
    "        self.team_records = []\n",
    "        for home_away in ['away','home']:\n",
    "            team = game['liveData']['boxscore']['teams'][home_away]\n",
    "            players = team.pop('players')\n",
    "            for playerId in players.keys():\n",
    "                player = players[playerId]\n",
    "                # add foreign keys to player / game records\n",
    "                player['team_id']=team['team']['id']\n",
    "                player['gamePk']=game['gamePk']\n",
    "                self.game_players.append(parse(player))\n",
    "            team_stats = team.pop('teamStats')\n",
    "            team_stats['team_id']=team['team']['id']\n",
    "            team_stats['gamePk']=game['gamePk']\n",
    "            self.team_stats.append(parse(team_stats))\n",
    "            #self.teams.append(parse(team))\n",
    "        \n",
    "        # game\n",
    "        gm = parse(game['gameData'])\n",
    "        #gm.update(game['gameData']['game'])\n",
    "        setattr(self,'game',gm)\n",
    "        \n",
    "        # teams / team records \n",
    "        self.teams = []\n",
    "        self.team_records = []\n",
    "        teams = game['gameData']['teams']\n",
    "        for home_away in ['home','away']:\n",
    "            team = teams[home_away]\n",
    "            team_record = parse(team.pop('record'))\n",
    "            team_record['teamId']=team['id']\n",
    "            team_record['gamePk']=game['gamePk']\n",
    "            self.team_records.append(team_record)\n",
    "            self.teams.append(parse(team))\n",
    "        \n",
    "        # venue\n",
    "        self.venue = parse(game['gameData']['venue'])\n",
    "        \n",
    "        # plays and play events \n",
    "        parsed_plays = []\n",
    "        game_play_events = []\n",
    "        matchups = []\n",
    "        self.pitches = []\n",
    "        self.pitchData = []\n",
    "        self.hitData = []\n",
    "        self.actions = []\n",
    "        self.movements = []\n",
    "        self.credits = []\n",
    "        for play in game['liveData']['plays']['allPlays']:\n",
    "            matchup = play.pop('matchup')\n",
    "            add_playFKs(matchup,play,game)\n",
    "            matchups.append(matchup)\n",
    "            \n",
    "            nested_play_details = []\n",
    "            play_events = []\n",
    "            \n",
    "            parsed_plays.append(parse(play,nested_lists=nested_play_details))\n",
    "            \n",
    "            \n",
    "            for element in nested_play_details:\n",
    "                for value in element.values():\n",
    "                    if type(value)==list and len(value)>0:\n",
    "                        if type(value[0])==dict:\n",
    "                            for x in value:\n",
    "                                play_event = parse(x,nested_play_details)\n",
    "                                # add FKs to trace back to the play\n",
    "                                add_playFKs(play_event,play,game)\n",
    "                                if play_event.get('isPitch'):\n",
    "                                    pitchFKs = ['gamePk','atBatIndex','playEndTime','index']\n",
    "                                    \n",
    "                                    pitchData_keys = [x for x in play_event.keys() if x.startswith('pitchData')]\n",
    "                                    if len(pitchData_keys)>0:\n",
    "                                        pitchData = {}\n",
    "                                        for _key in pitchFKs:\n",
    "                                            pitchData[_key]=play_event[_key]\n",
    "                                        for _key in pitchData_keys:\n",
    "                                            pitchData[_key.replace('pitchData_','')]=play_event.pop(_key)\n",
    "                                        self.pitchData.append(pitchData)\n",
    "                                    \n",
    "                                    hitData_keys = [x for x in play_event.keys() if x.startswith('hitData')]\n",
    "                                    if len(hitData_keys)>0:\n",
    "                                        hitData = {}\n",
    "                                        for _key in pitchFKs:\n",
    "                                            hitData[_key]=play_event[_key]\n",
    "                                        for _key in hitData_keys:\n",
    "                                            hitData[_key.replace('hitData_','')]=play_event.pop(_key)\n",
    "                                        self.hitData.append(hitData)\n",
    "                                                \n",
    "                                    self.pitches.append(play_event)\n",
    "                                if play_event.get('type')=='action':\n",
    "                                    self.actions.append(play_event)\n",
    "                                if 'movement_isOut' in list(play_event.keys()):\n",
    "                                    self.movements.append(play_event)\n",
    "                                if 'credit' in list(play_event.keys()):\n",
    "                                    self.credits.append(play_event)\n",
    "                                play_events.append(play_event)\n",
    "                                \n",
    "            game_play_events.append(play_events)\n",
    "            \n",
    "        for play in parsed_plays:\n",
    "            play['gamePk']=game['gamePk']\n",
    "        \n",
    "        setattr(self,'plays',parsed_plays)\n",
    "        #setattr(self,'play_events',game_play_events)\n",
    "        \n",
    "        # dealing with matchups\n",
    "        parsed_matchups = []\n",
    "        game_matchup_stats = []\n",
    "        for matchup in matchups:\n",
    "            # pop out hot cold stats\n",
    "            # these are such a pain to parse I might just calculate them myself\n",
    "            for stats in ['batterHotColdZoneStats','pitcherHotColdZoneStats']:\n",
    "                if stats in matchup.keys():\n",
    "                    game_matchup_stats.append(matchup.pop(stats))\n",
    "            parsed_matchups.append(parse(matchup))\n",
    "                            \n",
    "        setattr(self,'matchups',parsed_matchups)\n",
    "    \n",
    "    def __repr__(self):\n",
    "        return self.game['game_id']"
   ]
  },
  {
   "cell_type": "code",
   "execution_count": null,
   "metadata": {},
   "outputs": [],
   "source": [
    "show_doc(Game)"
   ]
  },
  {
   "cell_type": "code",
   "execution_count": null,
   "metadata": {},
   "outputs": [],
   "source": [
    "game = Game(gamePks[0])"
   ]
  },
  {
   "cell_type": "code",
   "execution_count": null,
   "metadata": {},
   "outputs": [],
   "source": [
    "game.game"
   ]
  },
  {
   "cell_type": "code",
   "execution_count": null,
   "metadata": {},
   "outputs": [],
   "source": [
    "game.movements[:2]"
   ]
  },
  {
   "cell_type": "code",
   "execution_count": null,
   "metadata": {},
   "outputs": [],
   "source": [
    "game.game_players[0]"
   ]
  },
  {
   "cell_type": "code",
   "execution_count": null,
   "metadata": {},
   "outputs": [],
   "source": [
    "game.teams"
   ]
  },
  {
   "cell_type": "code",
   "execution_count": null,
   "metadata": {},
   "outputs": [],
   "source": []
  }
 ],
 "metadata": {
  "kernelspec": {
   "display_name": "Python 3",
   "language": "python",
   "name": "python3"
  }
 },
 "nbformat": 4,
 "nbformat_minor": 4
}
