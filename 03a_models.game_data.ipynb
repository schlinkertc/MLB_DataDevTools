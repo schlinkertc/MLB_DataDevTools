{
 "cells": [
  {
   "cell_type": "code",
   "execution_count": null,
   "metadata": {},
   "outputs": [],
   "source": [
    "# default_exp models.game_data"
   ]
  },
  {
   "cell_type": "code",
   "execution_count": null,
   "metadata": {},
   "outputs": [],
   "source": [
    "#exporti\n",
    "\n",
    "import statsapi as mlb\n",
    "from pydantic import (\n",
    "    BaseModel,\n",
    "    Field,\n",
    "    validator,\n",
    "    conint,\n",
    "    constr,\n",
    "    root_validator\n",
    ")\n",
    "from MLB_DataDevTools.models.base_models import *\n",
    "from enum import Enum\n",
    "import datetime as dt\n",
    "from typing import Optional,Dict"
   ]
  },
  {
   "cell_type": "code",
   "execution_count": null,
   "metadata": {},
   "outputs": [
    {
     "data": {
      "text/plain": [
       "Index(['game_pk', 'game_type', 'game_doubleHeader', 'game_id',\n",
       "       'game_gamedayType', 'game_tiebreaker', 'game_gameNumber',\n",
       "       'game_calendarEventID', 'game_season', 'game_seasonDisplay',\n",
       "       'datetime_dateTime', 'datetime_originalDate', 'datetime_dayNight',\n",
       "       'datetime_time', 'datetime_ampm', 'status_abstractGameState',\n",
       "       'status_codedGameState', 'status_detailedState', 'status_statusCode',\n",
       "       'status_abstractGameCode', 'teams_away_id', 'teams_home_id', 'venue_id',\n",
       "       'weather_condition', 'weather_temp', 'weather_wind',\n",
       "       'review_hasChallenges', 'review_away_used', 'review_away_remaining',\n",
       "       'review_home_used', 'review_home_remaining', 'flags_noHitter',\n",
       "       'flags_perfectGame', 'flags_awayTeamNoHitter',\n",
       "       'flags_awayTeamPerfectGame', 'flags_homeTeamNoHitter',\n",
       "       'flags_homeTeamPerfectGame', 'probablePitchers_away_id',\n",
       "       'probablePitchers_home_id', 'officialScorer_id', 'primaryDatacaster_id',\n",
       "       'secondaryDatacaster_id', 'status_startTimeTBD'],\n",
       "      dtype='object')"
      ]
     },
     "execution_count": null,
     "metadata": {},
     "output_type": "execute_result"
    }
   ],
   "source": [
    "from MLB_DataDevTools.mlb_api import get_season_game_pks\n",
    "from MLB_DataDevTools.database import create_mlb_engine\n",
    "import pandas as pd\n",
    "\n",
    "engine = create_mlb_engine()\n",
    "\n",
    "games = pd.read_sql_table('game',engine.connect())\n",
    "\n",
    "games.columns"
   ]
  },
  {
   "cell_type": "code",
   "execution_count": null,
   "metadata": {},
   "outputs": [],
   "source": [
    "gamePks = get_season_game_pks(2019)"
   ]
  },
  {
   "cell_type": "code",
   "execution_count": null,
   "metadata": {},
   "outputs": [
    {
     "data": {
      "text/plain": [
       "566547"
      ]
     },
     "execution_count": null,
     "metadata": {},
     "output_type": "execute_result"
    }
   ],
   "source": [
    "example_game = mlb.get('game',{'gamePk':gamePks[-100]})\n",
    "example_game['gamePk']"
   ]
  },
  {
   "cell_type": "code",
   "execution_count": null,
   "metadata": {},
   "outputs": [
    {
     "data": {
      "text/plain": [
       "dict_keys(['copyright', 'gamePk', 'link', 'metaData', 'gameData', 'liveData'])"
      ]
     },
     "execution_count": null,
     "metadata": {},
     "output_type": "execute_result"
    }
   ],
   "source": [
    "example_game.keys()"
   ]
  },
  {
   "cell_type": "code",
   "execution_count": null,
   "metadata": {},
   "outputs": [],
   "source": [
    "gameData = example_game['gameData']"
   ]
  },
  {
   "cell_type": "markdown",
   "metadata": {},
   "source": [
    "## Game Details"
   ]
  },
  {
   "cell_type": "code",
   "execution_count": null,
   "metadata": {},
   "outputs": [
    {
     "data": {
      "text/plain": [
       "{'pk': 566547,\n",
       " 'type': 'R',\n",
       " 'doubleHeader': 'N',\n",
       " 'id': '2019/09/25/colmlb-sfnmlb-1',\n",
       " 'gamedayType': 'P',\n",
       " 'tiebreaker': 'N',\n",
       " 'gameNumber': 1,\n",
       " 'calendarEventID': '14-566547-2019-09-25',\n",
       " 'season': '2019',\n",
       " 'seasonDisplay': '2019'}"
      ]
     },
     "execution_count": null,
     "metadata": {},
     "output_type": "execute_result"
    }
   ],
   "source": [
    "gameData['game']"
   ]
  },
  {
   "cell_type": "code",
   "execution_count": null,
   "metadata": {},
   "outputs": [],
   "source": [
    "#exporti \n",
    "\n",
    "class GameDetails(BaseModel):\n",
    "    pk: int\n",
    "    type: GameType\n",
    "    doubleHeader: bool\n",
    "    id: str\n",
    "    gamedayType: GamedayType\n",
    "    tiebreaker: bool\n",
    "    gameNumber: conint(gt=0,lt=3)\n",
    "    calendarEventID: str\n",
    "    season: str\n",
    "    seasonDisplay: str\n",
    "    \n",
    "    @validator('doubleHeader')\n",
    "    def validate_double_header(cls,v):\n",
    "        if v == 'S':\n",
    "            return True\n",
    "        else:\n",
    "            return v"
   ]
  },
  {
   "cell_type": "code",
   "execution_count": null,
   "metadata": {},
   "outputs": [
    {
     "data": {
      "text/plain": [
       "{'pk': 566547,\n",
       " 'type': 'R',\n",
       " 'doubleHeader': 'N',\n",
       " 'id': '2019/09/25/colmlb-sfnmlb-1',\n",
       " 'gamedayType': 'P',\n",
       " 'tiebreaker': 'N',\n",
       " 'gameNumber': 1,\n",
       " 'calendarEventID': '14-566547-2019-09-25',\n",
       " 'season': '2019',\n",
       " 'seasonDisplay': '2019'}"
      ]
     },
     "execution_count": null,
     "metadata": {},
     "output_type": "execute_result"
    }
   ],
   "source": [
    "gameData['game']"
   ]
  },
  {
   "cell_type": "code",
   "execution_count": null,
   "metadata": {},
   "outputs": [
    {
     "data": {
      "text/plain": [
       "GameDetails(pk=566547, type=<GameType.regular_season: 'R'>, doubleHeader=False, id='2019/09/25/colmlb-sfnmlb-1', gamedayType=<GamedayType.premium: 'P'>, tiebreaker=False, gameNumber=1, calendarEventID='14-566547-2019-09-25', season='2019', seasonDisplay='2019')"
      ]
     },
     "execution_count": null,
     "metadata": {},
     "output_type": "execute_result"
    }
   ],
   "source": [
    "GameDetails(**gameData['game'])"
   ]
  },
  {
   "cell_type": "markdown",
   "metadata": {},
   "source": [
    "## Game Datetime"
   ]
  },
  {
   "cell_type": "code",
   "execution_count": null,
   "metadata": {},
   "outputs": [
    {
     "data": {
      "text/plain": [
       "{'dateTime': '2019-09-26T01:45:00Z',\n",
       " 'originalDate': '2019-09-25',\n",
       " 'dayNight': 'night',\n",
       " 'time': '6:45',\n",
       " 'ampm': 'PM'}"
      ]
     },
     "execution_count": null,
     "metadata": {},
     "output_type": "execute_result"
    }
   ],
   "source": [
    "gameData['datetime']"
   ]
  },
  {
   "cell_type": "code",
   "execution_count": null,
   "metadata": {},
   "outputs": [],
   "source": [
    "#exporti \n",
    "\n",
    "class DayNight(str,Enum):\n",
    "    day='day'\n",
    "    night='night'\n",
    "class AmPm(str,Enum):\n",
    "    AM='AM'\n",
    "    PM='PM'"
   ]
  },
  {
   "cell_type": "code",
   "execution_count": null,
   "metadata": {},
   "outputs": [],
   "source": [
    "#exporti\n",
    "\n",
    "class GameDatetime(BaseModel):\n",
    "    dateTime: dt.datetime = Field(...,description=\"Timezone unaware datetime for the game\")\n",
    "    originalDate: dt.date\n",
    "    dayNight: DayNight\n",
    "    time: dt.time = Field(...,description='Local time for the game')\n",
    "    ampm: AmPm\n",
    "    \n",
    "    @root_validator\n",
    "    def validate_game_time(cls,values):\n",
    "        \"\"\"\n",
    "        Adds 12 hours to the game time if 'pm'\n",
    "        \"\"\"\n",
    "        if values['ampm']=='PM':\n",
    "            values['time'] = dt.time(\n",
    "                values['time'].hour + 12,\n",
    "                values['time'].minute\n",
    "            )\n",
    "            return values\n",
    "        return values"
   ]
  },
  {
   "cell_type": "code",
   "execution_count": null,
   "metadata": {},
   "outputs": [
    {
     "data": {
      "text/plain": [
       "{'dateTime': '2019-09-26T01:45:00Z',\n",
       " 'originalDate': '2019-09-25',\n",
       " 'dayNight': 'night',\n",
       " 'time': '6:45',\n",
       " 'ampm': 'PM'}"
      ]
     },
     "execution_count": null,
     "metadata": {},
     "output_type": "execute_result"
    }
   ],
   "source": [
    "gameData['datetime']"
   ]
  },
  {
   "cell_type": "code",
   "execution_count": null,
   "metadata": {},
   "outputs": [
    {
     "data": {
      "text/plain": [
       "GameDatetime(dateTime=datetime.datetime(2019, 9, 26, 1, 45, tzinfo=datetime.timezone.utc), originalDate=datetime.date(2019, 9, 25), dayNight=<DayNight.night: 'night'>, time=datetime.time(18, 45), ampm=<AmPm.PM: 'PM'>)"
      ]
     },
     "execution_count": null,
     "metadata": {},
     "output_type": "execute_result"
    }
   ],
   "source": [
    "GameDatetime(**gameData['datetime'])"
   ]
  },
  {
   "cell_type": "markdown",
   "metadata": {},
   "source": [
    "## Game Status"
   ]
  },
  {
   "cell_type": "code",
   "execution_count": null,
   "metadata": {},
   "outputs": [
    {
     "data": {
      "text/plain": [
       "{'abstractGameState': 'Final',\n",
       " 'codedGameState': 'F',\n",
       " 'detailedState': 'Final',\n",
       " 'statusCode': 'F',\n",
       " 'startTimeTBD': False,\n",
       " 'abstractGameCode': 'F'}"
      ]
     },
     "execution_count": null,
     "metadata": {},
     "output_type": "execute_result"
    }
   ],
   "source": [
    "gameData['status']"
   ]
  },
  {
   "cell_type": "code",
   "execution_count": null,
   "metadata": {},
   "outputs": [
    {
     "data": {
      "text/plain": [
       "{'abstractGameState': 'Final',\n",
       " 'codedGameState': 'F',\n",
       " 'detailedState': 'Final: Tie, decision by tiebreaker',\n",
       " 'statusCode': 'FW',\n",
       " 'reason': 'Tied (won in tiebreaker)',\n",
       " 'abstractGameCode': 'F'}"
      ]
     },
     "execution_count": null,
     "metadata": {},
     "output_type": "execute_result"
    }
   ],
   "source": [
    "game_statuses = mlb.get('meta',{'type':'gameStatus'})\n",
    "game_statuses[0]"
   ]
  },
  {
   "cell_type": "code",
   "execution_count": null,
   "metadata": {},
   "outputs": [],
   "source": [
    "game_status_values = {\n",
    "    k:set(x.get(k) for x in game_statuses)\n",
    "    for k in gameData['status'].keys()\n",
    "}"
   ]
  },
  {
   "cell_type": "code",
   "execution_count": null,
   "metadata": {},
   "outputs": [
    {
     "data": {
      "text/plain": [
       "{'Final', 'Live', 'Other', 'Preview'}"
      ]
     },
     "execution_count": null,
     "metadata": {},
     "output_type": "execute_result"
    }
   ],
   "source": [
    "game_status_values['abstractGameState']"
   ]
  },
  {
   "cell_type": "code",
   "execution_count": null,
   "metadata": {},
   "outputs": [
    {
     "data": {
      "text/plain": [
       "{'F', 'L', 'O', 'P'}"
      ]
     },
     "execution_count": null,
     "metadata": {},
     "output_type": "execute_result"
    }
   ],
   "source": [
    "game_status_values['abstractGameCode']"
   ]
  },
  {
   "cell_type": "code",
   "execution_count": null,
   "metadata": {},
   "outputs": [],
   "source": [
    "#exporti\n",
    "\n",
    "class GameStatus(BaseModel):\n",
    "    abstractGameState: AbstractGameState\n",
    "    codedGameState: constr(max_length=2)\n",
    "    detailedState: str\n",
    "    statusCode: constr(max_length=2)\n",
    "    reason: Optional[str] = None \n",
    "    startTimeTBD: Optional[bool] = False\n",
    "    abstractGameCode: AbstractGameCode"
   ]
  },
  {
   "cell_type": "code",
   "execution_count": null,
   "metadata": {},
   "outputs": [
    {
     "data": {
      "text/plain": [
       "{'abstractGameState': 'Final',\n",
       " 'codedGameState': 'F',\n",
       " 'detailedState': 'Final',\n",
       " 'statusCode': 'F',\n",
       " 'startTimeTBD': False,\n",
       " 'abstractGameCode': 'F'}"
      ]
     },
     "execution_count": null,
     "metadata": {},
     "output_type": "execute_result"
    }
   ],
   "source": [
    "gameData['status']"
   ]
  },
  {
   "cell_type": "code",
   "execution_count": null,
   "metadata": {},
   "outputs": [
    {
     "data": {
      "text/plain": [
       "GameStatus(abstractGameState=<AbstractGameState.Final: 'Final'>, codedGameState='F', detailedState='Final', statusCode='F', reason=None, startTimeTBD=False, abstractGameCode=<AbstractGameCode.F: 'F'>)"
      ]
     },
     "execution_count": null,
     "metadata": {},
     "output_type": "execute_result"
    }
   ],
   "source": [
    "GameStatus(**gameData['status'])"
   ]
  },
  {
   "cell_type": "markdown",
   "metadata": {},
   "source": [
    "## Team"
   ]
  },
  {
   "cell_type": "code",
   "execution_count": null,
   "metadata": {},
   "outputs": [
    {
     "data": {
      "text/plain": [
       "dict_keys(['away', 'home'])"
      ]
     },
     "execution_count": null,
     "metadata": {},
     "output_type": "execute_result"
    }
   ],
   "source": [
    "gameData['teams'].keys()"
   ]
  },
  {
   "cell_type": "code",
   "execution_count": null,
   "metadata": {},
   "outputs": [
    {
     "data": {
      "text/plain": [
       "{'venue': ['id', 'name', 'link'],\n",
       " 'springVenue': ['id', 'link'],\n",
       " 'league': ['id', 'name', 'link'],\n",
       " 'division': ['id', 'name', 'link'],\n",
       " 'sport': ['id', 'link', 'name'],\n",
       " 'record': ['gamesPlayed',\n",
       "  'wildCardGamesBack',\n",
       "  'leagueGamesBack',\n",
       "  'springLeagueGamesBack',\n",
       "  'sportGamesBack',\n",
       "  'divisionGamesBack',\n",
       "  'conferenceGamesBack',\n",
       "  'leagueRecord',\n",
       "  'records',\n",
       "  'divisionLeader',\n",
       "  'wins',\n",
       "  'losses',\n",
       "  'winningPercentage'],\n",
       " 'springLeague': ['id', 'name', 'link', 'abbreviation']}"
      ]
     },
     "execution_count": null,
     "metadata": {},
     "output_type": "execute_result"
    }
   ],
   "source": [
    "team = gameData['teams']['home']\n",
    "{k: list(v.keys()) for k,v in team.items() if type(v)==dict}"
   ]
  },
  {
   "cell_type": "markdown",
   "metadata": {},
   "source": [
    "### Venue"
   ]
  },
  {
   "cell_type": "markdown",
   "metadata": {},
   "source": [
    "Some of the values here are abridged versions of what the MLB API would return if called directly. For example, the `venue` enpoint returns name and id, but the springVenue value here just provides the id. "
   ]
  },
  {
   "cell_type": "code",
   "execution_count": null,
   "metadata": {},
   "outputs": [
    {
     "data": {
      "text/plain": [
       "{'copyright': 'Copyright 2021 MLB Advanced Media, L.P.  Use of any content on this page acknowledges agreement to the terms posted here http://gdx.mlb.com/components/copyright.txt',\n",
       " 'venues': [{'id': 4705,\n",
       "   'name': 'Truist Park',\n",
       "   'link': '/api/v1/venues/4705'}]}"
      ]
     },
     "execution_count": null,
     "metadata": {},
     "output_type": "execute_result"
    }
   ],
   "source": [
    "mlb.get('venue',{'venueIds':'4705'})"
   ]
  },
  {
   "cell_type": "code",
   "execution_count": null,
   "metadata": {},
   "outputs": [
    {
     "data": {
      "text/plain": [
       "{'id': 2395, 'name': 'Oracle Park', 'link': '/api/v1/venues/2395'}"
      ]
     },
     "execution_count": null,
     "metadata": {},
     "output_type": "execute_result"
    }
   ],
   "source": [
    "team['venue']"
   ]
  },
  {
   "cell_type": "code",
   "execution_count": null,
   "metadata": {},
   "outputs": [
    {
     "data": {
      "text/plain": [
       "{'id': 2532, 'link': '/api/v1/venues/2532'}"
      ]
     },
     "execution_count": null,
     "metadata": {},
     "output_type": "execute_result"
    }
   ],
   "source": [
    "team['springVenue']"
   ]
  },
  {
   "cell_type": "code",
   "execution_count": null,
   "metadata": {},
   "outputs": [
    {
     "data": {
      "text/plain": [
       "{'copyright': 'Copyright 2021 MLB Advanced Media, L.P.  Use of any content on this page acknowledges agreement to the terms posted here http://gdx.mlb.com/components/copyright.txt',\n",
       " 'venues': [{'id': 4705,\n",
       "   'name': 'Truist Park',\n",
       "   'link': '/api/v1/venues/4705'}]}"
      ]
     },
     "execution_count": null,
     "metadata": {},
     "output_type": "execute_result"
    }
   ],
   "source": [
    "mlb.get('venue',{'venueIds':'4705'})"
   ]
  },
  {
   "cell_type": "code",
   "execution_count": null,
   "metadata": {},
   "outputs": [],
   "source": [
    "#exporti \n",
    "\n",
    "class TeamVenueBase(MLBEndpointBase):\n",
    "    id: int\n",
    "class TeamVenue(TeamVenueBase):\n",
    "    name: str"
   ]
  },
  {
   "cell_type": "code",
   "execution_count": null,
   "metadata": {},
   "outputs": [
    {
     "data": {
      "text/plain": [
       "TeamVenueBase(link=HttpUrl('https://statsapi.mlb.com/api/v1/venues/2532', scheme='https', host='statsapi.mlb.com', tld='com', host_type='domain', path='/api/v1/venues/2532'), id=2532)"
      ]
     },
     "execution_count": null,
     "metadata": {},
     "output_type": "execute_result"
    }
   ],
   "source": [
    "TeamVenueBase(**team['springVenue'])"
   ]
  },
  {
   "cell_type": "code",
   "execution_count": null,
   "metadata": {},
   "outputs": [
    {
     "data": {
      "text/plain": [
       "TeamVenue(link=HttpUrl('https://statsapi.mlb.com/api/v1/venues/2395', scheme='https', host='statsapi.mlb.com', tld='com', host_type='domain', path='/api/v1/venues/2395'), id=2395, name='Oracle Park')"
      ]
     },
     "execution_count": null,
     "metadata": {},
     "output_type": "execute_result"
    }
   ],
   "source": [
    "TeamVenue(**team['venue'])"
   ]
  },
  {
   "cell_type": "markdown",
   "metadata": {},
   "source": [
    "### Record"
   ]
  },
  {
   "cell_type": "code",
   "execution_count": null,
   "metadata": {},
   "outputs": [
    {
     "data": {
      "text/plain": [
       "{'gamesPlayed': 158,\n",
       " 'wildCardGamesBack': '-',\n",
       " 'leagueGamesBack': '-',\n",
       " 'springLeagueGamesBack': '-',\n",
       " 'sportGamesBack': '-',\n",
       " 'divisionGamesBack': '-',\n",
       " 'conferenceGamesBack': '-',\n",
       " 'leagueRecord': {'wins': 76, 'losses': 82, 'pct': '.481'},\n",
       " 'records': {},\n",
       " 'divisionLeader': False,\n",
       " 'wins': 76,\n",
       " 'losses': 82,\n",
       " 'winningPercentage': '.481'}"
      ]
     },
     "execution_count": null,
     "metadata": {},
     "output_type": "execute_result"
    }
   ],
   "source": [
    "team['record']"
   ]
  },
  {
   "cell_type": "code",
   "execution_count": null,
   "metadata": {},
   "outputs": [],
   "source": [
    "from pydantic import confloat"
   ]
  },
  {
   "cell_type": "code",
   "execution_count": null,
   "metadata": {},
   "outputs": [],
   "source": [
    "#exporti \n",
    "\n",
    "class TeamRecord(BaseModel):\n",
    "    wins: conint(ge=0)\n",
    "    losses: conint(ge=0)\n",
    "    winningPercentage: confloat(ge=0,lt=1) = Field(...,alias='pct')\n",
    "    \n",
    "\n",
    "class GameTeamRecord(TeamRecord):\n",
    "    gamesPlayed: int\n",
    "    wildCardGamesBack: CustomInt\n",
    "    leagueGamesBack: CustomInt\n",
    "    springLeagueGamesBack: CustomInt\n",
    "    sportGamesBack: CustomInt\n",
    "    leagueRecord: TeamRecord\n",
    "    divisionLeader: bool\n",
    "    records: dict # not sure what's supposed to go here... \n",
    "\n",
    "    class Config:\n",
    "        allow_population_by_field_name=True"
   ]
  },
  {
   "cell_type": "code",
   "execution_count": null,
   "metadata": {},
   "outputs": [
    {
     "data": {
      "text/plain": [
       "{'wins': 76, 'losses': 82, 'pct': '.481'}"
      ]
     },
     "execution_count": null,
     "metadata": {},
     "output_type": "execute_result"
    }
   ],
   "source": [
    "team['record']['leagueRecord']"
   ]
  },
  {
   "cell_type": "code",
   "execution_count": null,
   "metadata": {},
   "outputs": [
    {
     "data": {
      "text/plain": [
       "TeamRecord(wins=76, losses=82, winningPercentage=0.481)"
      ]
     },
     "execution_count": null,
     "metadata": {},
     "output_type": "execute_result"
    }
   ],
   "source": [
    "TeamRecord(**team['record']['leagueRecord'])"
   ]
  },
  {
   "cell_type": "code",
   "execution_count": null,
   "metadata": {},
   "outputs": [
    {
     "data": {
      "text/plain": [
       "{'gamesPlayed': 158,\n",
       " 'wildCardGamesBack': '-',\n",
       " 'leagueGamesBack': '-',\n",
       " 'springLeagueGamesBack': '-',\n",
       " 'sportGamesBack': '-',\n",
       " 'divisionGamesBack': '-',\n",
       " 'conferenceGamesBack': '-',\n",
       " 'leagueRecord': {'wins': 76, 'losses': 82, 'pct': '.481'},\n",
       " 'records': {},\n",
       " 'divisionLeader': False,\n",
       " 'wins': 76,\n",
       " 'losses': 82,\n",
       " 'winningPercentage': '.481'}"
      ]
     },
     "execution_count": null,
     "metadata": {},
     "output_type": "execute_result"
    }
   ],
   "source": [
    "team['record']"
   ]
  },
  {
   "cell_type": "code",
   "execution_count": null,
   "metadata": {},
   "outputs": [
    {
     "data": {
      "text/plain": [
       "GameTeamRecord(wins=76, losses=82, winningPercentage=0.481, gamesPlayed=158, wildCardGamesBack=None, leagueGamesBack=None, springLeagueGamesBack=None, sportGamesBack=None, leagueRecord=TeamRecord(wins=76, losses=82, winningPercentage=0.481), divisionLeader=False, records={})"
      ]
     },
     "execution_count": null,
     "metadata": {},
     "output_type": "execute_result"
    }
   ],
   "source": [
    "GameTeamRecord(**team['record'],by_alias=False)"
   ]
  },
  {
   "cell_type": "code",
   "execution_count": null,
   "metadata": {},
   "outputs": [
    {
     "data": {
      "text/plain": [
       "dict_keys(['id', 'name', 'link', 'season', 'venue', 'springVenue', 'teamCode', 'fileCode', 'abbreviation', 'teamName', 'locationName', 'firstYearOfPlay', 'league', 'division', 'sport', 'shortName', 'record', 'springLeague', 'allStarStatus', 'active'])"
      ]
     },
     "execution_count": null,
     "metadata": {},
     "output_type": "execute_result"
    }
   ],
   "source": [
    "team.keys()"
   ]
  },
  {
   "cell_type": "code",
   "execution_count": null,
   "metadata": {},
   "outputs": [
    {
     "data": {
      "text/plain": [
       "{'id': 1, 'link': '/api/v1/sports/1', 'name': 'Major League Baseball'}"
      ]
     },
     "execution_count": null,
     "metadata": {},
     "output_type": "execute_result"
    }
   ],
   "source": [
    "team['sport']"
   ]
  },
  {
   "cell_type": "code",
   "execution_count": null,
   "metadata": {},
   "outputs": [
    {
     "data": {
      "text/plain": [
       "{'copyright': 'Copyright 2021 MLB Advanced Media, L.P.  Use of any content on this page acknowledges agreement to the terms posted here http://gdx.mlb.com/components/copyright.txt',\n",
       " 'sports': [{'id': 1,\n",
       "   'code': 'mlb',\n",
       "   'link': '/api/v1/sports/1',\n",
       "   'name': 'Major League Baseball',\n",
       "   'abbreviation': 'MLB',\n",
       "   'sortOrder': 11,\n",
       "   'activeStatus': True}]}"
      ]
     },
     "execution_count": null,
     "metadata": {},
     "output_type": "execute_result"
    }
   ],
   "source": [
    "mlb.get('sports',{'sportId':1})"
   ]
  },
  {
   "cell_type": "code",
   "execution_count": null,
   "metadata": {},
   "outputs": [
    {
     "data": {
      "text/plain": [
       "{'id': 203, 'name': 'National League West', 'link': '/api/v1/divisions/203'}"
      ]
     },
     "execution_count": null,
     "metadata": {},
     "output_type": "execute_result"
    }
   ],
   "source": [
    "team['division']"
   ]
  },
  {
   "cell_type": "code",
   "execution_count": null,
   "metadata": {},
   "outputs": [
    {
     "data": {
      "text/plain": [
       "{'copyright': 'Copyright 2021 MLB Advanced Media, L.P.  Use of any content on this page acknowledges agreement to the terms posted here http://gdx.mlb.com/components/copyright.txt',\n",
       " 'divisions': [{'id': 204,\n",
       "   'name': 'National League East',\n",
       "   'season': '2021',\n",
       "   'nameShort': 'NL East',\n",
       "   'link': '/api/v1/divisions/204',\n",
       "   'abbreviation': 'NLE',\n",
       "   'league': {'id': 104, 'link': '/api/v1/league/104'},\n",
       "   'sport': {'id': 1, 'link': '/api/v1/sports/1'},\n",
       "   'hasWildcard': False,\n",
       "   'numPlayoffTeams': 1}]}"
      ]
     },
     "execution_count": null,
     "metadata": {},
     "output_type": "execute_result"
    }
   ],
   "source": [
    "import requests \n",
    "\n",
    "requests.get(mlb.BASE_URL + 'v1/divisions/204').json()"
   ]
  },
  {
   "cell_type": "code",
   "execution_count": null,
   "metadata": {},
   "outputs": [],
   "source": [
    "#exporti \n",
    "\n",
    "class GameTeam(MLBEndpointReference):\n",
    "    season: int\n",
    "    venue: TeamVenue\n",
    "    springVenue: TeamVenueBase\n",
    "    teamCode: str\n",
    "    fileCode: str\n",
    "    abbreviation: str\n",
    "    teamName: str\n",
    "    locationName: str\n",
    "    firstYearOfPlay: str\n",
    "    league: MLBEndpointReference\n",
    "    division: MLBEndpointReference\n",
    "    shortName: str\n",
    "    record: GameTeamRecord\n",
    "    springLeague: MLBEndpointReference\n",
    "    allStarStatus: bool\n",
    "    active: bool\n",
    "    \n",
    "        "
   ]
  },
  {
   "cell_type": "code",
   "execution_count": null,
   "metadata": {},
   "outputs": [
    {
     "data": {
      "text/plain": [
       "GameTeam(link=HttpUrl('https://statsapi.mlb.com/api/v1/teams/137', scheme='https', host='statsapi.mlb.com', tld='com', host_type='domain', path='/api/v1/teams/137'), id=137, name='San Francisco Giants', season=2019, venue=TeamVenue(link=HttpUrl('https://statsapi.mlb.com/api/v1/venues/2395', scheme='https', host='statsapi.mlb.com', tld='com', host_type='domain', path='/api/v1/venues/2395'), id=2395, name='Oracle Park'), springVenue=TeamVenueBase(link=HttpUrl('https://statsapi.mlb.com/api/v1/venues/2532', scheme='https', host='statsapi.mlb.com', tld='com', host_type='domain', path='/api/v1/venues/2532'), id=2532), teamCode='sfn', fileCode='sf', abbreviation='SF', teamName='Giants', locationName='San Francisco', firstYearOfPlay='1883', league=MLBEndpointReference(link=HttpUrl('https://statsapi.mlb.com/api/v1/league/104', scheme='https', host='statsapi.mlb.com', tld='com', host_type='domain', path='/api/v1/league/104'), id=104, name='National League'), division=MLBEndpointReference(link=HttpUrl('https://statsapi.mlb.com/api/v1/divisions/203', scheme='https', host='statsapi.mlb.com', tld='com', host_type='domain', path='/api/v1/divisions/203'), id=203, name='National League West'), shortName='San Francisco', record=GameTeamRecord(wins=76, losses=82, winningPercentage=0.481, gamesPlayed=158, wildCardGamesBack=None, leagueGamesBack=None, springLeagueGamesBack=None, sportGamesBack=None, leagueRecord=TeamRecord(wins=76, losses=82, winningPercentage=0.481), divisionLeader=False, records={}), springLeague=MLBEndpointReference(link=HttpUrl('https://statsapi.mlb.com/api/v1/league/114', scheme='https', host='statsapi.mlb.com', tld='com', host_type='domain', path='/api/v1/league/114'), id=114, name='Cactus League'), allStarStatus=False, active=True)"
      ]
     },
     "execution_count": null,
     "metadata": {},
     "output_type": "execute_result"
    }
   ],
   "source": [
    "game_team = GameTeam(**team)\n",
    "game_team"
   ]
  },
  {
   "cell_type": "code",
   "execution_count": null,
   "metadata": {},
   "outputs": [
    {
     "data": {
      "text/plain": [
       "MLBEndpointReference(link=HttpUrl('https://statsapi.mlb.com/api/v1/league/114', scheme='https', host='statsapi.mlb.com', tld='com', host_type='domain', path='/api/v1/league/114'), id=114, name='Cactus League')"
      ]
     },
     "execution_count": null,
     "metadata": {},
     "output_type": "execute_result"
    }
   ],
   "source": [
    "game_team.springLeague"
   ]
  },
  {
   "cell_type": "code",
   "execution_count": null,
   "metadata": {},
   "outputs": [
    {
     "data": {
      "text/plain": [
       "GameTeamRecord(wins=76, losses=82, winningPercentage=0.481, gamesPlayed=158, wildCardGamesBack=None, leagueGamesBack=None, springLeagueGamesBack=None, sportGamesBack=None, leagueRecord=TeamRecord(wins=76, losses=82, winningPercentage=0.481), divisionLeader=False, records={})"
      ]
     },
     "execution_count": null,
     "metadata": {},
     "output_type": "execute_result"
    }
   ],
   "source": [
    "game_team.record"
   ]
  },
  {
   "cell_type": "code",
   "execution_count": null,
   "metadata": {},
   "outputs": [],
   "source": [
    "game_teams = [GameTeam(**gameData['teams'][tm]) for tm in ('home','away')]"
   ]
  },
  {
   "cell_type": "markdown",
   "metadata": {},
   "source": [
    "## Players"
   ]
  },
  {
   "cell_type": "markdown",
   "metadata": {},
   "source": [
    "This is the full response from the `players` endpoint as well"
   ]
  },
  {
   "cell_type": "code",
   "execution_count": null,
   "metadata": {},
   "outputs": [],
   "source": [
    "player_example = list(gameData['players'].values())[0]"
   ]
  },
  {
   "cell_type": "code",
   "execution_count": null,
   "metadata": {},
   "outputs": [
    {
     "data": {
      "text/plain": [
       "True"
      ]
     },
     "execution_count": null,
     "metadata": {},
     "output_type": "execute_result"
    }
   ],
   "source": [
    "mlb.get('people',{'personIds':player_example['id']})['people'][0] == player_example"
   ]
  },
  {
   "cell_type": "code",
   "execution_count": null,
   "metadata": {},
   "outputs": [
    {
     "data": {
      "text/plain": [
       "{'id': 664041,\n",
       " 'fullName': 'Jaylin Davis',\n",
       " 'link': '/api/v1/people/664041',\n",
       " 'firstName': 'Jaylin',\n",
       " 'lastName': 'Davis',\n",
       " 'primaryNumber': '49',\n",
       " 'birthDate': '1994-07-01',\n",
       " 'currentAge': 26,\n",
       " 'birthCity': 'Greensboro',\n",
       " 'birthStateProvince': 'NC',\n",
       " 'birthCountry': 'USA',\n",
       " 'height': '5\\' 11\"',\n",
       " 'weight': 205,\n",
       " 'active': True,\n",
       " 'primaryPosition': {'code': '9',\n",
       "  'name': 'Outfielder',\n",
       "  'type': 'Outfielder',\n",
       "  'abbreviation': 'RF'},\n",
       " 'useName': 'Jaylin',\n",
       " 'middleName': 'Malik',\n",
       " 'boxscoreName': 'Davis, J',\n",
       " 'gender': 'M',\n",
       " 'isPlayer': True,\n",
       " 'isVerified': True,\n",
       " 'draftYear': 2015,\n",
       " 'mlbDebutDate': '2019-09-04',\n",
       " 'batSide': {'code': 'R', 'description': 'Right'},\n",
       " 'pitchHand': {'code': 'R', 'description': 'Right'},\n",
       " 'nameFirstLast': 'Jaylin Davis',\n",
       " 'nameSlug': 'jaylin-davis-664041',\n",
       " 'firstLastName': 'Jaylin Davis',\n",
       " 'lastFirstName': 'Davis, Jaylin',\n",
       " 'lastInitName': 'Davis, J',\n",
       " 'initLastName': 'J Davis',\n",
       " 'fullFMLName': 'Jaylin Malik Davis',\n",
       " 'fullLFMName': 'Davis, Jaylin Malik',\n",
       " 'strikeZoneTop': 3.319,\n",
       " 'strikeZoneBottom': 1.513}"
      ]
     },
     "execution_count": null,
     "metadata": {},
     "output_type": "execute_result"
    }
   ],
   "source": [
    "player_example"
   ]
  },
  {
   "cell_type": "code",
   "execution_count": null,
   "metadata": {},
   "outputs": [
    {
     "data": {
      "text/plain": [
       "{'shortName': 'Pitcher',\n",
       " 'fullName': 'Pitcher',\n",
       " 'abbrev': 'P',\n",
       " 'code': '1',\n",
       " 'type': 'Pitcher',\n",
       " 'formalName': 'Pitcher',\n",
       " 'pitcher': True,\n",
       " 'gamePosition': True,\n",
       " 'fielder': False,\n",
       " 'outfield': False,\n",
       " 'displayName': 'Pitcher'}"
      ]
     },
     "execution_count": null,
     "metadata": {},
     "output_type": "execute_result"
    }
   ],
   "source": [
    "positions = mlb.get('meta',{'type':'positions'})\n",
    "positions[0]"
   ]
  },
  {
   "cell_type": "code",
   "execution_count": null,
   "metadata": {},
   "outputs": [
    {
     "data": {
      "text/plain": [
       "{'code': '9', 'name': 'Outfielder', 'type': 'Outfielder', 'abbreviation': 'RF'}"
      ]
     },
     "execution_count": null,
     "metadata": {},
     "output_type": "execute_result"
    }
   ],
   "source": [
    "player_example['primaryPosition']"
   ]
  },
  {
   "cell_type": "code",
   "execution_count": null,
   "metadata": {},
   "outputs": [
    {
     "data": {
      "text/plain": [
       "{'id': 496214, 'fullName': 'Karen Palmyra', 'link': '/api/v1/people/496214'}"
      ]
     },
     "execution_count": null,
     "metadata": {},
     "output_type": "execute_result"
    }
   ],
   "source": [
    "gameData['primaryDatacaster']"
   ]
  },
  {
   "cell_type": "code",
   "execution_count": null,
   "metadata": {},
   "outputs": [
    {
     "data": {
      "text/plain": [
       "{'id': 496214,\n",
       " 'fullName': 'Karen Palmyra',\n",
       " 'link': '/api/v1/people/496214',\n",
       " 'firstName': 'Karen',\n",
       " 'lastName': 'Palmyra',\n",
       " 'height': '0\\' 0\"',\n",
       " 'weight': 0,\n",
       " 'active': False,\n",
       " 'primaryPosition': {'code': 'X',\n",
       "  'name': 'Unknown',\n",
       "  'type': 'Unknown',\n",
       "  'abbreviation': 'X'},\n",
       " 'useName': 'Karen',\n",
       " 'boxscoreName': 'Palmyra',\n",
       " 'gender': 'F',\n",
       " 'isPlayer': False,\n",
       " 'isVerified': False,\n",
       " 'nameFirstLast': 'Karen Palmyra',\n",
       " 'nameSlug': 'karen-palmyra-496214',\n",
       " 'firstLastName': 'Karen Palmyra',\n",
       " 'lastFirstName': 'Palmyra, Karen',\n",
       " 'lastInitName': 'Palmyra, K',\n",
       " 'initLastName': 'K Palmyra',\n",
       " 'fullFMLName': 'Karen Palmyra',\n",
       " 'fullLFMName': 'Palmyra, Karen'}"
      ]
     },
     "execution_count": null,
     "metadata": {},
     "output_type": "execute_result"
    }
   ],
   "source": [
    "example_person = mlb.get('people',{'personIds':gameData['primaryDatacaster']['id']})['people'][0]\n",
    "example_person"
   ]
  },
  {
   "cell_type": "code",
   "execution_count": null,
   "metadata": {},
   "outputs": [],
   "source": [
    "person = MLBPerson(**example_person)"
   ]
  },
  {
   "cell_type": "code",
   "execution_count": null,
   "metadata": {},
   "outputs": [
    {
     "data": {
      "text/plain": [
       "MLBPerson(link=HttpUrl('https://statsapi.mlb.com/api/v1/people/496214', scheme='https', host='statsapi.mlb.com', tld='com', host_type='domain', path='/api/v1/people/496214'), id=496214, name='Karen Palmyra', firstName='Karen', lastName='Palmyra', height='0\\' 0\"', weight=0, active=False, primaryPosition=PositionBase(code='X', name='Unknown', type='Unknown', abbreviation='X'), useName='Karen', boxscoreName='Palmyra', gender='F', isPlayer=False, isVerified=False, nameSlug='karen-palmyra-496214')"
      ]
     },
     "execution_count": null,
     "metadata": {},
     "output_type": "execute_result"
    }
   ],
   "source": [
    "person"
   ]
  },
  {
   "cell_type": "code",
   "execution_count": null,
   "metadata": {},
   "outputs": [],
   "source": [
    "#exporti \n",
    "\n",
    "class Player(MLBPerson):\n",
    "    primaryNumber: Optional[int] = None\n",
    "    birthDate: dt.date\n",
    "    currentAge: int\n",
    "    birthCity: str\n",
    "    birthStateProvince: Optional[str] = None\n",
    "    birthCountry: str\n",
    "\n",
    "    middleName: Optional[str] = None\n",
    "\n",
    "    pitchHand: PlayerHandedness\n",
    "    batSide: PlayerHandedness\n",
    "\n",
    "    draftYear: Optional[int] = None\n",
    "    mlbDebutDate: dt.date\n",
    "    \n",
    "    strikeZoneTop: float\n",
    "    strikeZoneBottom: float\n",
    "        "
   ]
  },
  {
   "cell_type": "code",
   "execution_count": null,
   "metadata": {},
   "outputs": [
    {
     "data": {
      "text/plain": [
       "{'id': 664041,\n",
       " 'fullName': 'Jaylin Davis',\n",
       " 'link': '/api/v1/people/664041',\n",
       " 'firstName': 'Jaylin',\n",
       " 'lastName': 'Davis',\n",
       " 'primaryNumber': '49',\n",
       " 'birthDate': '1994-07-01',\n",
       " 'currentAge': 26,\n",
       " 'birthCity': 'Greensboro',\n",
       " 'birthStateProvince': 'NC',\n",
       " 'birthCountry': 'USA',\n",
       " 'height': '5\\' 11\"',\n",
       " 'weight': 205,\n",
       " 'active': True,\n",
       " 'primaryPosition': {'code': '9',\n",
       "  'name': 'Outfielder',\n",
       "  'type': 'Outfielder',\n",
       "  'abbreviation': 'RF'},\n",
       " 'useName': 'Jaylin',\n",
       " 'middleName': 'Malik',\n",
       " 'boxscoreName': 'Davis, J',\n",
       " 'gender': 'M',\n",
       " 'isPlayer': True,\n",
       " 'isVerified': True,\n",
       " 'draftYear': 2015,\n",
       " 'mlbDebutDate': '2019-09-04',\n",
       " 'batSide': {'code': 'R', 'description': 'Right'},\n",
       " 'pitchHand': {'code': 'R', 'description': 'Right'},\n",
       " 'nameFirstLast': 'Jaylin Davis',\n",
       " 'nameSlug': 'jaylin-davis-664041',\n",
       " 'firstLastName': 'Jaylin Davis',\n",
       " 'lastFirstName': 'Davis, Jaylin',\n",
       " 'lastInitName': 'Davis, J',\n",
       " 'initLastName': 'J Davis',\n",
       " 'fullFMLName': 'Jaylin Malik Davis',\n",
       " 'fullLFMName': 'Davis, Jaylin Malik',\n",
       " 'strikeZoneTop': 3.319,\n",
       " 'strikeZoneBottom': 1.513}"
      ]
     },
     "execution_count": null,
     "metadata": {},
     "output_type": "execute_result"
    }
   ],
   "source": [
    "player_example"
   ]
  },
  {
   "cell_type": "code",
   "execution_count": null,
   "metadata": {},
   "outputs": [
    {
     "data": {
      "text/plain": [
       "Player(link=HttpUrl('https://statsapi.mlb.com/api/v1/people/664041', scheme='https', host='statsapi.mlb.com', tld='com', host_type='domain', path='/api/v1/people/664041'), id=664041, name='Jaylin Davis', firstName='Jaylin', lastName='Davis', height='5\\' 11\"', weight=205, active=True, primaryPosition=PositionBase(code='9', name='Outfielder', type='Outfielder', abbreviation='RF'), useName='Jaylin', boxscoreName='Davis, J', gender='M', isPlayer=True, isVerified=True, nameSlug='jaylin-davis-664041', primaryNumber=49, birthDate=datetime.date(1994, 7, 1), currentAge=26, birthCity='Greensboro', birthStateProvince='NC', birthCountry='USA', middleName='Malik', pitchHand=PlayerHandedness(code='R', description='Right'), batSide=PlayerHandedness(code='R', description='Right'), draftYear=2015, mlbDebutDate=datetime.date(2019, 9, 4), strikeZoneTop=3.319, strikeZoneBottom=1.513)"
      ]
     },
     "execution_count": null,
     "metadata": {},
     "output_type": "execute_result"
    }
   ],
   "source": [
    "Player(**player_example)"
   ]
  },
  {
   "cell_type": "code",
   "execution_count": null,
   "metadata": {},
   "outputs": [],
   "source": [
    "players = {k:Player(**v) for k,v in gameData['players'].items()}"
   ]
  },
  {
   "cell_type": "markdown",
   "metadata": {},
   "source": [
    "## Venue"
   ]
  },
  {
   "cell_type": "code",
   "execution_count": null,
   "metadata": {},
   "outputs": [
    {
     "name": "stdout",
     "output_type": "stream",
     "text": [
      "['Grass' 'Artificial']\n",
      "['Open' 'Dome' 'Retractable']\n"
     ]
    }
   ],
   "source": [
    "venues = pd.read_sql_table('venue',engine.connect())\n",
    "\n",
    "print(venues['fieldInfo_turfType'].unique())\n",
    "print(venues['fieldInfo_roofType'].unique())"
   ]
  },
  {
   "cell_type": "code",
   "execution_count": null,
   "metadata": {},
   "outputs": [
    {
     "data": {
      "text/plain": [
       "{'id': 2395,\n",
       " 'name': 'Oracle Park',\n",
       " 'link': '/api/v1/venues/2395',\n",
       " 'location': {'city': 'San Francisco',\n",
       "  'state': 'California',\n",
       "  'stateAbbrev': 'CA',\n",
       "  'defaultCoordinates': {'latitude': 37.778383, 'longitude': -122.389448}},\n",
       " 'timeZone': {'id': 'America/Los_Angeles', 'offset': -8, 'tz': 'PST'},\n",
       " 'fieldInfo': {'capacity': 41915,\n",
       "  'turfType': 'Grass',\n",
       "  'roofType': 'Open',\n",
       "  'leftLine': 339,\n",
       "  'leftCenter': 364,\n",
       "  'center': 399,\n",
       "  'rightCenter': 421,\n",
       "  'rightLine': 309}}"
      ]
     },
     "execution_count": null,
     "metadata": {},
     "output_type": "execute_result"
    }
   ],
   "source": [
    "gameData['venue']"
   ]
  },
  {
   "cell_type": "code",
   "execution_count": null,
   "metadata": {},
   "outputs": [],
   "source": [
    "#exporti \n",
    "\n",
    "class GameVenue(TeamVenue):\n",
    "    location: VenueLocation\n",
    "    timeZone: TimeZone\n",
    "    fieldInfo: FieldInfo"
   ]
  },
  {
   "cell_type": "code",
   "execution_count": null,
   "metadata": {},
   "outputs": [
    {
     "data": {
      "text/plain": [
       "GameVenue(link=HttpUrl('https://statsapi.mlb.com/api/v1/venues/2395', scheme='https', host='statsapi.mlb.com', tld='com', host_type='domain', path='/api/v1/venues/2395'), id=2395, name='Oracle Park', location=VenueLocation(city='San Francisco', state='California', stateAbbrev='CA', defaultCoordinates=Coordinates(latitude=37.778383, longitude=-122.389448)), timeZone=TimeZone(id='America/Los_Angeles', offset=-8, tz='PST'), fieldInfo=FieldInfo(capacity=41915, turfType=<TurfType.Grass: 'Grass'>, roofType=<RoofType.Open: 'Open'>, leftLine=339, leftCenter=364, center=399, rightCenter=421, rightLine=309))"
      ]
     },
     "execution_count": null,
     "metadata": {},
     "output_type": "execute_result"
    }
   ],
   "source": [
    "GameVenue(**gameData['venue'])"
   ]
  },
  {
   "cell_type": "markdown",
   "metadata": {},
   "source": [
    "## Weather"
   ]
  },
  {
   "cell_type": "code",
   "execution_count": null,
   "metadata": {},
   "outputs": [
    {
     "data": {
      "text/plain": [
       "{'condition': 'Clear', 'temp': '83', 'wind': '11 mph, Out To CF'}"
      ]
     },
     "execution_count": null,
     "metadata": {},
     "output_type": "execute_result"
    }
   ],
   "source": [
    "gameData['weather']"
   ]
  },
  {
   "cell_type": "code",
   "execution_count": null,
   "metadata": {},
   "outputs": [
    {
     "data": {
      "text/plain": [
       "[{'code': 'Calm', 'description': 'Calm'},\n",
       " {'code': 'None', 'description': 'None'},\n",
       " {'code': 'Varies', 'description': 'Varies'},\n",
       " {'code': 'In From RF', 'description': 'In From RF'},\n",
       " {'code': 'In From LF', 'description': 'In From LF'},\n",
       " {'code': 'In From CF', 'description': 'In From CF'},\n",
       " {'code': 'R To L', 'description': 'R To L'},\n",
       " {'code': 'L To R', 'description': 'L To R'},\n",
       " {'code': 'Out To CF', 'description': 'Out To CF'},\n",
       " {'code': 'Out To RF', 'description': 'Out To RF'},\n",
       " {'code': 'Out To LF', 'description': 'Out To LF'}]"
      ]
     },
     "execution_count": null,
     "metadata": {},
     "output_type": "execute_result"
    }
   ],
   "source": [
    "mlb.get('meta',{'type':'windDirection'})"
   ]
  },
  {
   "cell_type": "code",
   "execution_count": null,
   "metadata": {},
   "outputs": [],
   "source": [
    "#exporti \n",
    "\n",
    "class GameWeather(BaseModel):\n",
    "    condition: str\n",
    "    temp: int\n",
    "    wind: str"
   ]
  },
  {
   "cell_type": "code",
   "execution_count": null,
   "metadata": {},
   "outputs": [
    {
     "data": {
      "text/plain": [
       "GameWeather(condition='Clear', temp=83, wind='11 mph, Out To CF')"
      ]
     },
     "execution_count": null,
     "metadata": {},
     "output_type": "execute_result"
    }
   ],
   "source": [
    "GameWeather(**gameData['weather'])"
   ]
  },
  {
   "cell_type": "code",
   "execution_count": null,
   "metadata": {},
   "outputs": [
    {
     "data": {
      "text/plain": [
       "{'attendance': 29175, 'gameDurationMinutes': 193}"
      ]
     },
     "execution_count": null,
     "metadata": {},
     "output_type": "execute_result"
    }
   ],
   "source": [
    "gameData['gameInfo']"
   ]
  },
  {
   "cell_type": "markdown",
   "metadata": {},
   "source": [
    "## Game Info"
   ]
  },
  {
   "cell_type": "code",
   "execution_count": null,
   "metadata": {},
   "outputs": [],
   "source": [
    "#exporti \n",
    "\n",
    "class GameInfo(BaseModel):\n",
    "    attendance: int\n",
    "    gameDurationMinutes: int\n",
    "    \n",
    "    @property\n",
    "    def game_duration(self):\n",
    "        return dt.timedelta(minutes=self.gameDurationMinutes)"
   ]
  },
  {
   "cell_type": "code",
   "execution_count": null,
   "metadata": {},
   "outputs": [
    {
     "data": {
      "text/plain": [
       "datetime.timedelta(seconds=11580)"
      ]
     },
     "execution_count": null,
     "metadata": {},
     "output_type": "execute_result"
    }
   ],
   "source": [
    "game_info = GameInfo(**gameData['gameInfo'])\n",
    "game_info.game_duration"
   ]
  },
  {
   "cell_type": "code",
   "execution_count": null,
   "metadata": {},
   "outputs": [],
   "source": [
    "duration = game_info.game_duration"
   ]
  },
  {
   "cell_type": "markdown",
   "metadata": {},
   "source": [
    "## Review"
   ]
  },
  {
   "cell_type": "code",
   "execution_count": null,
   "metadata": {},
   "outputs": [
    {
     "data": {
      "text/plain": [
       "{'hasChallenges': True,\n",
       " 'away': {'used': 0, 'remaining': 1},\n",
       " 'home': {'used': 1, 'remaining': 0}}"
      ]
     },
     "execution_count": null,
     "metadata": {},
     "output_type": "execute_result"
    }
   ],
   "source": [
    "gameData['review']"
   ]
  },
  {
   "cell_type": "code",
   "execution_count": null,
   "metadata": {},
   "outputs": [],
   "source": [
    "#exporti \n",
    "\n",
    "class Challenges(BaseModel):\n",
    "    used: int\n",
    "    remaining: int\n",
    "\n",
    "class GameReview(BaseModel):\n",
    "    hasChallenges: bool\n",
    "    away: Challenges\n",
    "    home: Challenges"
   ]
  },
  {
   "cell_type": "code",
   "execution_count": null,
   "metadata": {},
   "outputs": [
    {
     "data": {
      "text/plain": [
       "GameReview(hasChallenges=True, away=Challenges(used=0, remaining=1), home=Challenges(used=1, remaining=0))"
      ]
     },
     "execution_count": null,
     "metadata": {},
     "output_type": "execute_result"
    }
   ],
   "source": [
    "GameReview(**gameData['review'])"
   ]
  },
  {
   "cell_type": "markdown",
   "metadata": {},
   "source": [
    "## Flags"
   ]
  },
  {
   "cell_type": "code",
   "execution_count": null,
   "metadata": {},
   "outputs": [
    {
     "data": {
      "text/plain": [
       "{'noHitter': False,\n",
       " 'perfectGame': False,\n",
       " 'awayTeamNoHitter': False,\n",
       " 'awayTeamPerfectGame': False,\n",
       " 'homeTeamNoHitter': False,\n",
       " 'homeTeamPerfectGame': False}"
      ]
     },
     "execution_count": null,
     "metadata": {},
     "output_type": "execute_result"
    }
   ],
   "source": [
    "gameData['flags']"
   ]
  },
  {
   "cell_type": "code",
   "execution_count": null,
   "metadata": {},
   "outputs": [],
   "source": [
    "#exporti \n",
    "\n",
    "class GameFlags(BaseModel):\n",
    "    noHitter: bool\n",
    "    perfectGame: bool\n",
    "    awayTeamNoHitter: bool\n",
    "    awayTeamPerfectGame: bool\n",
    "    homeTeamNoHitter: bool\n",
    "    homeTeamPerfectGame: bool"
   ]
  },
  {
   "cell_type": "code",
   "execution_count": null,
   "metadata": {},
   "outputs": [
    {
     "data": {
      "text/plain": [
       "GameFlags(noHitter=False, perfectGame=False, awayTeamNoHitter=False, awayTeamPerfectGame=False, homeTeamNoHitter=False, homeTeamPerfectGame=False)"
      ]
     },
     "execution_count": null,
     "metadata": {},
     "output_type": "execute_result"
    }
   ],
   "source": [
    "GameFlags(**gameData['flags'])"
   ]
  },
  {
   "cell_type": "code",
   "execution_count": null,
   "metadata": {},
   "outputs": [
    {
     "data": {
      "text/plain": [
       "dict_keys(['game', 'datetime', 'status', 'teams', 'players', 'venue', 'weather', 'gameInfo', 'review', 'flags', 'alerts', 'probablePitchers', 'officialScorer', 'primaryDatacaster'])"
      ]
     },
     "execution_count": null,
     "metadata": {},
     "output_type": "execute_result"
    }
   ],
   "source": [
    "gameData.keys()"
   ]
  },
  {
   "cell_type": "markdown",
   "metadata": {},
   "source": [
    "## Probable Pitchers, official Scorer, datacaster"
   ]
  },
  {
   "cell_type": "code",
   "execution_count": null,
   "metadata": {},
   "outputs": [
    {
     "data": {
      "text/plain": [
       "{'away': {'id': 543532,\n",
       "  'fullName': 'Tim Melville',\n",
       "  'link': '/api/v1/people/543532'},\n",
       " 'home': {'id': 502188,\n",
       "  'fullName': 'Jeff Samardzija',\n",
       "  'link': '/api/v1/people/502188'}}"
      ]
     },
     "execution_count": null,
     "metadata": {},
     "output_type": "execute_result"
    }
   ],
   "source": [
    "gameData['probablePitchers']"
   ]
  },
  {
   "cell_type": "code",
   "execution_count": null,
   "metadata": {},
   "outputs": [
    {
     "data": {
      "text/plain": [
       "[PersonBase(link=HttpUrl('https://statsapi.mlb.com/api/v1/people/502188', scheme='https', host='statsapi.mlb.com', tld='com', host_type='domain', path='/api/v1/people/502188'), id=502188, name='Jeff Samardzija'),\n",
       " PersonBase(link=HttpUrl('https://statsapi.mlb.com/api/v1/people/543532', scheme='https', host='statsapi.mlb.com', tld='com', host_type='domain', path='/api/v1/people/543532'), id=543532, name='Tim Melville')]"
      ]
     },
     "execution_count": null,
     "metadata": {},
     "output_type": "execute_result"
    }
   ],
   "source": [
    "[PersonBase(**gameData['probablePitchers'][tm]) for tm in ('home','away')]"
   ]
  },
  {
   "cell_type": "code",
   "execution_count": null,
   "metadata": {},
   "outputs": [
    {
     "data": {
      "text/plain": [
       "PersonBase(link=HttpUrl('https://statsapi.mlb.com/api/v1/people/639285', scheme='https', host='statsapi.mlb.com', tld='com', host_type='domain', path='/api/v1/people/639285'), id=639285, name='Chris Thoms')"
      ]
     },
     "execution_count": null,
     "metadata": {},
     "output_type": "execute_result"
    }
   ],
   "source": [
    "PersonBase(**gameData['officialScorer'])"
   ]
  },
  {
   "cell_type": "code",
   "execution_count": null,
   "metadata": {},
   "outputs": [
    {
     "data": {
      "text/plain": [
       "PersonBase(link=HttpUrl('https://statsapi.mlb.com/api/v1/people/496214', scheme='https', host='statsapi.mlb.com', tld='com', host_type='domain', path='/api/v1/people/496214'), id=496214, name='Karen Palmyra')"
      ]
     },
     "execution_count": null,
     "metadata": {},
     "output_type": "execute_result"
    }
   ],
   "source": [
    "PersonBase(**gameData['primaryDatacaster'])"
   ]
  },
  {
   "cell_type": "markdown",
   "metadata": {},
   "source": [
    "## GameData"
   ]
  },
  {
   "cell_type": "code",
   "execution_count": null,
   "metadata": {},
   "outputs": [
    {
     "data": {
      "text/plain": [
       "dict_keys(['game', 'datetime', 'status', 'teams', 'players', 'venue', 'weather', 'gameInfo', 'review', 'flags', 'alerts', 'probablePitchers', 'officialScorer', 'primaryDatacaster'])"
      ]
     },
     "execution_count": null,
     "metadata": {},
     "output_type": "execute_result"
    }
   ],
   "source": [
    "gameData.keys()"
   ]
  },
  {
   "cell_type": "code",
   "execution_count": null,
   "metadata": {},
   "outputs": [],
   "source": [
    "#exporti \n",
    "\n",
    "class HomeAway(str,Enum):\n",
    "    home = 'home'\n",
    "    away = 'away'"
   ]
  },
  {
   "cell_type": "code",
   "execution_count": null,
   "metadata": {},
   "outputs": [],
   "source": [
    "#export \n",
    "\n",
    "class GameData(BaseModel):\n",
    "    game: GameDetails\n",
    "    datetime: GameDatetime\n",
    "    status: GameStatus\n",
    "    teams: Dict[HomeAway,GameTeam]\n",
    "    players: Dict[str,Player]\n",
    "    venue: GameVenue\n",
    "    gameInfo: GameInfo\n",
    "    review: GameReview\n",
    "    flags: GameFlags\n",
    "    probablePitchers: Dict[HomeAway,PersonBase]\n",
    "    officialScorer: PersonBase\n",
    "    primaryDatacaster: PersonBase"
   ]
  },
  {
   "cell_type": "code",
   "execution_count": null,
   "metadata": {},
   "outputs": [],
   "source": [
    "game_data = GameData(**gameData)"
   ]
  },
  {
   "cell_type": "code",
   "execution_count": null,
   "metadata": {},
   "outputs": [
    {
     "data": {
      "text/plain": [
       "GameTeam(link=HttpUrl('https://statsapi.mlb.com/api/v1/teams/115', scheme='https', host='statsapi.mlb.com', tld='com', host_type='domain', path='/api/v1/teams/115'), id=115, name='Colorado Rockies', season=2019, venue=TeamVenue(link=HttpUrl('https://statsapi.mlb.com/api/v1/venues/19', scheme='https', host='statsapi.mlb.com', tld='com', host_type='domain', path='/api/v1/venues/19'), id=19, name='Coors Field'), springVenue=TeamVenueBase(link=HttpUrl('https://statsapi.mlb.com/api/v1/venues/4249', scheme='https', host='statsapi.mlb.com', tld='com', host_type='domain', path='/api/v1/venues/4249'), id=4249), teamCode='col', fileCode='col', abbreviation='COL', teamName='Rockies', locationName='Denver', firstYearOfPlay='1992', league=MLBEndpointReference(link=HttpUrl('https://statsapi.mlb.com/api/v1/league/104', scheme='https', host='statsapi.mlb.com', tld='com', host_type='domain', path='/api/v1/league/104'), id=104, name='National League'), division=MLBEndpointReference(link=HttpUrl('https://statsapi.mlb.com/api/v1/divisions/203', scheme='https', host='statsapi.mlb.com', tld='com', host_type='domain', path='/api/v1/divisions/203'), id=203, name='National League West'), shortName='Colorado', record=GameTeamRecord(wins=68, losses=90, winningPercentage=0.43, gamesPlayed=158, wildCardGamesBack=None, leagueGamesBack=None, springLeagueGamesBack=None, sportGamesBack=None, leagueRecord=TeamRecord(wins=68, losses=90, winningPercentage=0.43), divisionLeader=False, records={}), springLeague=MLBEndpointReference(link=HttpUrl('https://statsapi.mlb.com/api/v1/league/114', scheme='https', host='statsapi.mlb.com', tld='com', host_type='domain', path='/api/v1/league/114'), id=114, name='Cactus League'), allStarStatus=False, active=True)"
      ]
     },
     "execution_count": null,
     "metadata": {},
     "output_type": "execute_result"
    }
   ],
   "source": [
    "game_data.teams['away']"
   ]
  },
  {
   "cell_type": "code",
   "execution_count": null,
   "metadata": {},
   "outputs": [
    {
     "data": {
      "text/plain": [
       "{'title': 'GameData',\n",
       " 'type': 'object',\n",
       " 'properties': {'game': {'$ref': '#/definitions/GameDetails'},\n",
       "  'datetime': {'$ref': '#/definitions/GameDatetime'},\n",
       "  'status': {'$ref': '#/definitions/GameStatus'},\n",
       "  'teams': {'title': 'Teams',\n",
       "   'type': 'object',\n",
       "   'additionalProperties': {'$ref': '#/definitions/GameTeam'}},\n",
       "  'players': {'title': 'Players',\n",
       "   'type': 'object',\n",
       "   'additionalProperties': {'$ref': '#/definitions/Player'}},\n",
       "  'venue': {'$ref': '#/definitions/GameVenue'},\n",
       "  'gameInfo': {'$ref': '#/definitions/GameInfo'},\n",
       "  'review': {'$ref': '#/definitions/GameReview'},\n",
       "  'flags': {'$ref': '#/definitions/GameFlags'},\n",
       "  'probablePitchers': {'title': 'Probablepitchers',\n",
       "   'type': 'object',\n",
       "   'additionalProperties': {'$ref': '#/definitions/PersonBase'}},\n",
       "  'officialScorer': {'$ref': '#/definitions/PersonBase'},\n",
       "  'primaryDatacaster': {'$ref': '#/definitions/PersonBase'}},\n",
       " 'required': ['game',\n",
       "  'datetime',\n",
       "  'status',\n",
       "  'teams',\n",
       "  'players',\n",
       "  'venue',\n",
       "  'gameInfo',\n",
       "  'review',\n",
       "  'flags',\n",
       "  'probablePitchers',\n",
       "  'officialScorer',\n",
       "  'primaryDatacaster'],\n",
       " 'definitions': {'GameType': {'title': 'GameType',\n",
       "   'description': 'An enumeration.',\n",
       "   'enum': ['S', 'R', 'F', 'D', 'L', 'W', 'C', 'N', 'P', 'A', 'I', 'E'],\n",
       "   'type': 'string'},\n",
       "  'GamedayType': {'title': 'GamedayType',\n",
       "   'description': 'An enumeration.',\n",
       "   'enum': ['B', 'D', 'E', 'L', 'N', 'P', 'S', 'Y'],\n",
       "   'type': 'string'},\n",
       "  'GameDetails': {'title': 'GameDetails',\n",
       "   'type': 'object',\n",
       "   'properties': {'pk': {'title': 'Pk', 'type': 'integer'},\n",
       "    'type': {'$ref': '#/definitions/GameType'},\n",
       "    'doubleHeader': {'title': 'Doubleheader', 'type': 'boolean'},\n",
       "    'id': {'title': 'Id', 'type': 'string'},\n",
       "    'gamedayType': {'$ref': '#/definitions/GamedayType'},\n",
       "    'tiebreaker': {'title': 'Tiebreaker', 'type': 'boolean'},\n",
       "    'gameNumber': {'title': 'Gamenumber',\n",
       "     'exclusiveMinimum': 0,\n",
       "     'exclusiveMaximum': 3,\n",
       "     'type': 'integer'},\n",
       "    'calendarEventID': {'title': 'Calendareventid', 'type': 'string'},\n",
       "    'season': {'title': 'Season', 'type': 'string'},\n",
       "    'seasonDisplay': {'title': 'Seasondisplay', 'type': 'string'}},\n",
       "   'required': ['pk',\n",
       "    'type',\n",
       "    'doubleHeader',\n",
       "    'id',\n",
       "    'gamedayType',\n",
       "    'tiebreaker',\n",
       "    'gameNumber',\n",
       "    'calendarEventID',\n",
       "    'season',\n",
       "    'seasonDisplay']},\n",
       "  'DayNight': {'title': 'DayNight',\n",
       "   'description': 'An enumeration.',\n",
       "   'enum': ['day', 'night'],\n",
       "   'type': 'string'},\n",
       "  'AmPm': {'title': 'AmPm',\n",
       "   'description': 'An enumeration.',\n",
       "   'enum': ['AM', 'PM'],\n",
       "   'type': 'string'},\n",
       "  'GameDatetime': {'title': 'GameDatetime',\n",
       "   'type': 'object',\n",
       "   'properties': {'dateTime': {'title': 'Datetime',\n",
       "     'description': 'Timezone unaware datetime for the game',\n",
       "     'type': 'string',\n",
       "     'format': 'date-time'},\n",
       "    'originalDate': {'title': 'Originaldate',\n",
       "     'type': 'string',\n",
       "     'format': 'date'},\n",
       "    'dayNight': {'$ref': '#/definitions/DayNight'},\n",
       "    'time': {'title': 'Time',\n",
       "     'description': 'Local time for the game',\n",
       "     'type': 'string',\n",
       "     'format': 'time'},\n",
       "    'ampm': {'$ref': '#/definitions/AmPm'}},\n",
       "   'required': ['dateTime', 'originalDate', 'dayNight', 'time', 'ampm']},\n",
       "  'AbstractGameState': {'title': 'AbstractGameState',\n",
       "   'description': 'An enumeration.',\n",
       "   'enum': ['Final', 'Live', 'Other', 'Preview'],\n",
       "   'type': 'string'},\n",
       "  'AbstractGameCode': {'title': 'AbstractGameCode',\n",
       "   'description': 'An enumeration.',\n",
       "   'enum': ['F', 'L', 'O', 'P'],\n",
       "   'type': 'string'},\n",
       "  'GameStatus': {'title': 'GameStatus',\n",
       "   'type': 'object',\n",
       "   'properties': {'abstractGameState': {'$ref': '#/definitions/AbstractGameState'},\n",
       "    'codedGameState': {'title': 'Codedgamestate',\n",
       "     'maxLength': 2,\n",
       "     'type': 'string'},\n",
       "    'detailedState': {'title': 'Detailedstate', 'type': 'string'},\n",
       "    'statusCode': {'title': 'Statuscode', 'maxLength': 2, 'type': 'string'},\n",
       "    'reason': {'title': 'Reason', 'type': 'string'},\n",
       "    'startTimeTBD': {'title': 'Starttimetbd',\n",
       "     'default': False,\n",
       "     'type': 'boolean'},\n",
       "    'abstractGameCode': {'$ref': '#/definitions/AbstractGameCode'}},\n",
       "   'required': ['abstractGameState',\n",
       "    'codedGameState',\n",
       "    'detailedState',\n",
       "    'statusCode',\n",
       "    'abstractGameCode']},\n",
       "  'TeamVenue': {'title': 'TeamVenue',\n",
       "   'type': 'object',\n",
       "   'properties': {'link': {'title': 'Link',\n",
       "     'minLength': 1,\n",
       "     'maxLength': 2083,\n",
       "     'format': 'uri',\n",
       "     'type': 'string'},\n",
       "    'id': {'title': 'Id', 'type': 'integer'},\n",
       "    'name': {'title': 'Name', 'type': 'string'}},\n",
       "   'required': ['link', 'id', 'name']},\n",
       "  'TeamVenueBase': {'title': 'TeamVenueBase',\n",
       "   'type': 'object',\n",
       "   'properties': {'link': {'title': 'Link',\n",
       "     'minLength': 1,\n",
       "     'maxLength': 2083,\n",
       "     'format': 'uri',\n",
       "     'type': 'string'},\n",
       "    'id': {'title': 'Id', 'type': 'integer'}},\n",
       "   'required': ['link', 'id']},\n",
       "  'MLBEndpointReference': {'title': 'MLBEndpointReference',\n",
       "   'type': 'object',\n",
       "   'properties': {'link': {'title': 'Link',\n",
       "     'minLength': 1,\n",
       "     'maxLength': 2083,\n",
       "     'format': 'uri',\n",
       "     'type': 'string'},\n",
       "    'id': {'title': 'Id', 'type': 'integer'},\n",
       "    'name': {'title': 'Name', 'type': 'string'}},\n",
       "   'required': ['link', 'id', 'name']},\n",
       "  'TeamRecord': {'title': 'TeamRecord',\n",
       "   'type': 'object',\n",
       "   'properties': {'wins': {'title': 'Wins',\n",
       "     'exclusiveMinimum': 0,\n",
       "     'type': 'integer'},\n",
       "    'losses': {'title': 'Losses', 'exclusiveMinimum': 0, 'type': 'integer'},\n",
       "    'pct': {'title': 'Pct',\n",
       "     'exclusiveMinimum': 0,\n",
       "     'exclusiveMaximum': 1,\n",
       "     'type': 'number'}},\n",
       "   'required': ['wins', 'losses', 'pct']},\n",
       "  'GameTeamRecord': {'title': 'GameTeamRecord',\n",
       "   'type': 'object',\n",
       "   'properties': {'wins': {'title': 'Wins',\n",
       "     'exclusiveMinimum': 0,\n",
       "     'type': 'integer'},\n",
       "    'losses': {'title': 'Losses', 'exclusiveMinimum': 0, 'type': 'integer'},\n",
       "    'pct': {'title': 'Pct',\n",
       "     'exclusiveMinimum': 0,\n",
       "     'exclusiveMaximum': 1,\n",
       "     'type': 'number'},\n",
       "    'gamesPlayed': {'title': 'Gamesplayed', 'type': 'integer'},\n",
       "    'wildCardGamesBack': {'title': 'Wildcardgamesback', 'type': 'string'},\n",
       "    'leagueGamesBack': {'title': 'Leaguegamesback', 'type': 'string'},\n",
       "    'springLeagueGamesBack': {'title': 'Springleaguegamesback',\n",
       "     'type': 'string'},\n",
       "    'sportGamesBack': {'title': 'Sportgamesback', 'type': 'string'},\n",
       "    'leagueRecord': {'$ref': '#/definitions/TeamRecord'},\n",
       "    'divisionLeader': {'title': 'Divisionleader', 'type': 'boolean'},\n",
       "    'records': {'title': 'Records', 'type': 'object'}},\n",
       "   'required': ['wins',\n",
       "    'losses',\n",
       "    'pct',\n",
       "    'gamesPlayed',\n",
       "    'wildCardGamesBack',\n",
       "    'leagueGamesBack',\n",
       "    'springLeagueGamesBack',\n",
       "    'sportGamesBack',\n",
       "    'leagueRecord',\n",
       "    'divisionLeader',\n",
       "    'records']},\n",
       "  'GameTeam': {'title': 'GameTeam',\n",
       "   'type': 'object',\n",
       "   'properties': {'link': {'title': 'Link',\n",
       "     'minLength': 1,\n",
       "     'maxLength': 2083,\n",
       "     'format': 'uri',\n",
       "     'type': 'string'},\n",
       "    'id': {'title': 'Id', 'type': 'integer'},\n",
       "    'name': {'title': 'Name', 'type': 'string'},\n",
       "    'season': {'title': 'Season', 'type': 'integer'},\n",
       "    'venue': {'$ref': '#/definitions/TeamVenue'},\n",
       "    'springVenue': {'$ref': '#/definitions/TeamVenueBase'},\n",
       "    'teamCode': {'title': 'Teamcode', 'type': 'string'},\n",
       "    'fileCode': {'title': 'Filecode', 'type': 'string'},\n",
       "    'abbreviation': {'title': 'Abbreviation', 'type': 'string'},\n",
       "    'teamName': {'title': 'Teamname', 'type': 'string'},\n",
       "    'locationName': {'title': 'Locationname', 'type': 'string'},\n",
       "    'firstYearOfPlay': {'title': 'Firstyearofplay', 'type': 'string'},\n",
       "    'league': {'$ref': '#/definitions/MLBEndpointReference'},\n",
       "    'division': {'$ref': '#/definitions/MLBEndpointReference'},\n",
       "    'shortName': {'title': 'Shortname', 'type': 'string'},\n",
       "    'record': {'$ref': '#/definitions/GameTeamRecord'},\n",
       "    'springLeague': {'$ref': '#/definitions/MLBEndpointReference'},\n",
       "    'allStarStatus': {'title': 'Allstarstatus', 'type': 'boolean'},\n",
       "    'active': {'title': 'Active', 'type': 'boolean'}},\n",
       "   'required': ['link',\n",
       "    'id',\n",
       "    'name',\n",
       "    'season',\n",
       "    'venue',\n",
       "    'springVenue',\n",
       "    'teamCode',\n",
       "    'fileCode',\n",
       "    'abbreviation',\n",
       "    'teamName',\n",
       "    'locationName',\n",
       "    'firstYearOfPlay',\n",
       "    'league',\n",
       "    'division',\n",
       "    'shortName',\n",
       "    'record',\n",
       "    'springLeague',\n",
       "    'allStarStatus',\n",
       "    'active']},\n",
       "  'PositionBase': {'title': 'PositionBase',\n",
       "   'type': 'object',\n",
       "   'properties': {'code': {'title': 'Code', 'type': 'string'},\n",
       "    'name': {'title': 'Name', 'type': 'string'},\n",
       "    'type': {'title': 'Type', 'type': 'string'},\n",
       "    'abbreviation': {'title': 'Abbreviation', 'type': 'string'}},\n",
       "   'required': ['code', 'name', 'type', 'abbreviation']},\n",
       "  'PlayerHandedness': {'title': 'PlayerHandedness',\n",
       "   'type': 'object',\n",
       "   'properties': {'code': {'title': 'Code', 'maxLength': 1, 'type': 'string'},\n",
       "    'description': {'title': 'Description', 'type': 'string'}},\n",
       "   'required': ['code', 'description']},\n",
       "  'Player': {'title': 'Player',\n",
       "   'type': 'object',\n",
       "   'properties': {'link': {'title': 'Link',\n",
       "     'minLength': 1,\n",
       "     'maxLength': 2083,\n",
       "     'format': 'uri',\n",
       "     'type': 'string'},\n",
       "    'id': {'title': 'Id', 'type': 'integer'},\n",
       "    'fullName': {'title': 'Fullname', 'type': 'string'},\n",
       "    'firstName': {'title': 'Firstname', 'type': 'string'},\n",
       "    'lastName': {'title': 'Lastname', 'type': 'string'},\n",
       "    'height': {'title': 'Height', 'type': 'string'},\n",
       "    'weight': {'title': 'Weight', 'type': 'integer'},\n",
       "    'active': {'title': 'Active', 'type': 'boolean'},\n",
       "    'primaryPosition': {'$ref': '#/definitions/PositionBase'},\n",
       "    'useName': {'title': 'Usename', 'type': 'string'},\n",
       "    'boxscoreName': {'title': 'Boxscorename', 'type': 'string'},\n",
       "    'gender': {'title': 'Gender', 'type': 'string'},\n",
       "    'isPlayer': {'title': 'Isplayer', 'type': 'boolean'},\n",
       "    'isVerified': {'title': 'Isverified', 'type': 'boolean'},\n",
       "    'nameSlug': {'title': 'Nameslug', 'type': 'string'},\n",
       "    'primaryNumber': {'title': 'Primarynumber', 'type': 'integer'},\n",
       "    'birthDate': {'title': 'Birthdate', 'type': 'string', 'format': 'date'},\n",
       "    'currentAge': {'title': 'Currentage', 'type': 'integer'},\n",
       "    'birthCity': {'title': 'Birthcity', 'type': 'string'},\n",
       "    'birthStateProvince': {'title': 'Birthstateprovince', 'type': 'string'},\n",
       "    'birthCountry': {'title': 'Birthcountry', 'type': 'string'},\n",
       "    'middleName': {'title': 'Middlename', 'type': 'string'},\n",
       "    'pitchHand': {'$ref': '#/definitions/PlayerHandedness'},\n",
       "    'batSide': {'$ref': '#/definitions/PlayerHandedness'},\n",
       "    'draftYear': {'title': 'Draftyear', 'type': 'integer'},\n",
       "    'mlbDebutDate': {'title': 'Mlbdebutdate',\n",
       "     'type': 'string',\n",
       "     'format': 'date'},\n",
       "    'strikeZoneTop': {'title': 'Strikezonetop', 'type': 'number'},\n",
       "    'strikeZoneBottom': {'title': 'Strikezonebottom', 'type': 'number'}},\n",
       "   'required': ['link',\n",
       "    'id',\n",
       "    'fullName',\n",
       "    'firstName',\n",
       "    'lastName',\n",
       "    'height',\n",
       "    'weight',\n",
       "    'active',\n",
       "    'primaryPosition',\n",
       "    'useName',\n",
       "    'boxscoreName',\n",
       "    'gender',\n",
       "    'isPlayer',\n",
       "    'isVerified',\n",
       "    'nameSlug',\n",
       "    'birthDate',\n",
       "    'currentAge',\n",
       "    'birthCity',\n",
       "    'birthCountry',\n",
       "    'pitchHand',\n",
       "    'batSide',\n",
       "    'mlbDebutDate',\n",
       "    'strikeZoneTop',\n",
       "    'strikeZoneBottom']},\n",
       "  'Coordinates': {'title': 'Coordinates',\n",
       "   'type': 'object',\n",
       "   'properties': {'latitude': {'title': 'Latitude', 'type': 'number'},\n",
       "    'longitude': {'title': 'Longitude', 'type': 'number'}},\n",
       "   'required': ['latitude', 'longitude']},\n",
       "  'VenueLocation': {'title': 'VenueLocation',\n",
       "   'type': 'object',\n",
       "   'properties': {'city': {'title': 'City', 'type': 'string'},\n",
       "    'state': {'title': 'State', 'type': 'string'},\n",
       "    'stateAbbrev': {'title': 'Stateabbrev', 'type': 'string'},\n",
       "    'defaultCoordinates': {'$ref': '#/definitions/Coordinates'}},\n",
       "   'required': ['city', 'state', 'stateAbbrev', 'defaultCoordinates']},\n",
       "  'TimeZone': {'title': 'TimeZone',\n",
       "   'type': 'object',\n",
       "   'properties': {'id': {'title': 'Id', 'type': 'string'},\n",
       "    'offset': {'title': 'Offset', 'type': 'integer'},\n",
       "    'tz': {'title': 'Tz', 'type': 'string'}},\n",
       "   'required': ['id', 'offset', 'tz']},\n",
       "  'TurfType': {'title': 'TurfType',\n",
       "   'description': 'An enumeration.',\n",
       "   'enum': ['Grass', 'Artificial'],\n",
       "   'type': 'string'},\n",
       "  'RoofType': {'title': 'RoofType',\n",
       "   'description': 'An enumeration.',\n",
       "   'enum': ['Open', 'Dome', 'Retractable'],\n",
       "   'type': 'string'},\n",
       "  'FieldInfo': {'title': 'FieldInfo',\n",
       "   'type': 'object',\n",
       "   'properties': {'capacity': {'title': 'Capacity', 'type': 'integer'},\n",
       "    'turfType': {'$ref': '#/definitions/TurfType'},\n",
       "    'roofType': {'$ref': '#/definitions/RoofType'},\n",
       "    'leftLine': {'title': 'Leftline', 'type': 'integer'},\n",
       "    'leftCenter': {'title': 'Leftcenter', 'type': 'integer'},\n",
       "    'center': {'title': 'Center', 'type': 'integer'},\n",
       "    'rightCenter': {'title': 'Rightcenter', 'type': 'integer'},\n",
       "    'rightLine': {'title': 'Rightline', 'type': 'integer'}},\n",
       "   'required': ['capacity',\n",
       "    'turfType',\n",
       "    'roofType',\n",
       "    'leftLine',\n",
       "    'leftCenter',\n",
       "    'center',\n",
       "    'rightCenter',\n",
       "    'rightLine']},\n",
       "  'GameVenue': {'title': 'GameVenue',\n",
       "   'type': 'object',\n",
       "   'properties': {'link': {'title': 'Link',\n",
       "     'minLength': 1,\n",
       "     'maxLength': 2083,\n",
       "     'format': 'uri',\n",
       "     'type': 'string'},\n",
       "    'id': {'title': 'Id', 'type': 'integer'},\n",
       "    'name': {'title': 'Name', 'type': 'string'},\n",
       "    'location': {'$ref': '#/definitions/VenueLocation'},\n",
       "    'timeZone': {'$ref': '#/definitions/TimeZone'},\n",
       "    'fieldInfo': {'$ref': '#/definitions/FieldInfo'}},\n",
       "   'required': ['link', 'id', 'name', 'location', 'timeZone', 'fieldInfo']},\n",
       "  'GameInfo': {'title': 'GameInfo',\n",
       "   'type': 'object',\n",
       "   'properties': {'attendance': {'title': 'Attendance', 'type': 'integer'},\n",
       "    'gameDurationMinutes': {'title': 'Gamedurationminutes',\n",
       "     'type': 'integer'}},\n",
       "   'required': ['attendance', 'gameDurationMinutes']},\n",
       "  'Challenges': {'title': 'Challenges',\n",
       "   'type': 'object',\n",
       "   'properties': {'used': {'title': 'Used', 'type': 'integer'},\n",
       "    'remaining': {'title': 'Remaining', 'type': 'integer'}},\n",
       "   'required': ['used', 'remaining']},\n",
       "  'GameReview': {'title': 'GameReview',\n",
       "   'type': 'object',\n",
       "   'properties': {'hasChallenges': {'title': 'Haschallenges',\n",
       "     'type': 'boolean'},\n",
       "    'away': {'$ref': '#/definitions/Challenges'},\n",
       "    'home': {'$ref': '#/definitions/Challenges'}},\n",
       "   'required': ['hasChallenges', 'away', 'home']},\n",
       "  'GameFlags': {'title': 'GameFlags',\n",
       "   'type': 'object',\n",
       "   'properties': {'noHitter': {'title': 'Nohitter', 'type': 'boolean'},\n",
       "    'perfectGame': {'title': 'Perfectgame', 'type': 'boolean'},\n",
       "    'awayTeamNoHitter': {'title': 'Awayteamnohitter', 'type': 'boolean'},\n",
       "    'awayTeamPerfectGame': {'title': 'Awayteamperfectgame', 'type': 'boolean'},\n",
       "    'homeTeamNoHitter': {'title': 'Hometeamnohitter', 'type': 'boolean'},\n",
       "    'homeTeamPerfectGame': {'title': 'Hometeamperfectgame',\n",
       "     'type': 'boolean'}},\n",
       "   'required': ['noHitter',\n",
       "    'perfectGame',\n",
       "    'awayTeamNoHitter',\n",
       "    'awayTeamPerfectGame',\n",
       "    'homeTeamNoHitter',\n",
       "    'homeTeamPerfectGame']},\n",
       "  'PersonBase': {'title': 'PersonBase',\n",
       "   'type': 'object',\n",
       "   'properties': {'link': {'title': 'Link',\n",
       "     'minLength': 1,\n",
       "     'maxLength': 2083,\n",
       "     'format': 'uri',\n",
       "     'type': 'string'},\n",
       "    'id': {'title': 'Id', 'type': 'integer'},\n",
       "    'fullName': {'title': 'Fullname', 'type': 'string'}},\n",
       "   'required': ['link', 'id', 'fullName']}}}"
      ]
     },
     "execution_count": null,
     "metadata": {},
     "output_type": "execute_result"
    }
   ],
   "source": [
    "GameData.schema()"
   ]
  },
  {
   "cell_type": "code",
   "execution_count": null,
   "metadata": {},
   "outputs": [
    {
     "name": "stdout",
     "output_type": "stream",
     "text": [
      "Converted 00_core.ipynb.\n",
      "Converted 01_mlbAPI.ipynb.\n",
      "Converted 02_application.ipynb.\n",
      "Converted 03_models.base_models.ipynb.\n",
      "Converted 03a_models.game_data.ipynb.\n",
      "Converted 04_database.ipynb.\n",
      "Converted index.ipynb.\n"
     ]
    }
   ],
   "source": [
    "#hide\n",
    "from nbdev.export import notebook2script; notebook2script()"
   ]
  },
  {
   "cell_type": "code",
   "execution_count": null,
   "metadata": {},
   "outputs": [],
   "source": []
  }
 ],
 "metadata": {
  "kernelspec": {
   "display_name": "Python 3",
   "language": "python",
   "name": "python3"
  }
 },
 "nbformat": 4,
 "nbformat_minor": 4
}
