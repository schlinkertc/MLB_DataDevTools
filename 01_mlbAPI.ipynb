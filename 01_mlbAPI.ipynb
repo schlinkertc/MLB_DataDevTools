{
 "cells": [
  {
   "cell_type": "code",
   "execution_count": null,
   "metadata": {},
   "outputs": [],
   "source": [
    "# default_exp mlb_api"
   ]
  },
  {
   "cell_type": "markdown",
   "metadata": {},
   "source": [
    "# Parse MLB API\n",
    "\n",
    "> details."
   ]
  },
  {
   "cell_type": "code",
   "execution_count": null,
   "metadata": {},
   "outputs": [],
   "source": [
    "#hide\n",
    "from nbdev.showdoc import *"
   ]
  },
  {
   "cell_type": "code",
   "execution_count": null,
   "metadata": {},
   "outputs": [],
   "source": [
    "#exporti\n",
    "\n",
    "import statsapi as mlb\n",
    "from typing import List"
   ]
  },
  {
   "cell_type": "code",
   "execution_count": null,
   "metadata": {},
   "outputs": [],
   "source": [
    "#exporti \n",
    "\n",
    "def get_season_game_pks(season: int) -> List[int]:\n",
    "    \"\"\"\n",
    "    Returns a list of gamePks for a given season\n",
    "    \n",
    "    :param season: int for the year of the season \n",
    "    \n",
    "    :returns list of gamePks as integers\n",
    "    \"\"\"\n",
    "    season = mlb.get('season',{'sportId':1,'seasonId':season})['seasons'][0]\n",
    "    start = season['seasonStartDate']\n",
    "    end = season['seasonEndDate']\n",
    "    schedule = mlb.get(\n",
    "        'schedule',\n",
    "        {'startDate':start,\n",
    "         'endDate':end,\n",
    "         'sportId':1}\n",
    "    )\n",
    "\n",
    "    pks = list(reversed(\n",
    "        [game['gamePk'] \n",
    "         for dates in schedule['dates']\n",
    "         for game in dates['games'] \n",
    "        ]\n",
    "    ))\n",
    "    pks = list(reversed(pks))\n",
    "    return pks"
   ]
  },
  {
   "cell_type": "code",
   "execution_count": null,
   "metadata": {},
   "outputs": [
    {
     "data": {
      "text/markdown": [
       "<h4 id=\"get_season_game_pks\" class=\"doc_header\"><code>get_season_game_pks</code><a href=\"__main__.py#L1\" class=\"source_link\" style=\"float:right\">[source]</a></h4>\n",
       "\n",
       "> <code>get_season_game_pks</code>(**`season`**:`int`)\n",
       "\n",
       "Returns a list of gamePks for a given season\n",
       "\n",
       ":param season: int for the year of the season \n",
       "\n",
       ":returns list of gamePks as integers"
      ],
      "text/plain": [
       "<IPython.core.display.Markdown object>"
      ]
     },
     "metadata": {},
     "output_type": "display_data"
    }
   ],
   "source": [
    "show_doc(get_season_game_pks)"
   ]
  },
  {
   "cell_type": "code",
   "execution_count": null,
   "metadata": {},
   "outputs": [],
   "source": [
    "gamePks = get_season_game_pks(2021)[:5]\n",
    "assert (len(gamePks))==5\n",
    "for pk in gamePks:\n",
    "    assert type(pk)==int"
   ]
  },
  {
   "cell_type": "code",
   "execution_count": null,
   "metadata": {},
   "outputs": [],
   "source": [
    "game_details = mlb.get('schedule',{'sportId':1,'date':'2021-04-01'})['dates'][0]['games'][0]"
   ]
  },
  {
   "cell_type": "code",
   "execution_count": null,
   "metadata": {},
   "outputs": [],
   "source": [
    "#exporti \n",
    "\n",
    "def add_playFKs(dictionary,play,game):\n",
    "    \"\"\"\n",
    "    For the nested events within a play, add the foreign keys needed to trace the event \n",
    "    back to it's game/play\n",
    "    \"\"\"\n",
    "    for fk in ['atBatIndex','playEndTime']:\n",
    "        dictionary[fk]=play[fk]\n",
    "        dictionary['gamePk']=game['gamePk']\n",
    "        \n",
    "def parse(input_dict,nested_lists=None):\n",
    "    \"\"\"recursively parse a dictionary with nested lists into a flat dictionary\"\"\"\n",
    "    out={}\n",
    "    if dict not in [type(x) for x in input_dict.values()]:\n",
    "        return input_dict\n",
    "    else:\n",
    "        for k,v in input_dict.items():\n",
    "            if type(v) in [str,int,float,bool]:\n",
    "                out[k]=input_dict[k]\n",
    "            elif type(v)==dict:\n",
    "                nested_dict = v\n",
    "                # if nested dict has an 'id', use it as a foreign key\n",
    "                # exepct in the cause of the 'game' table which has a pk field\n",
    "                if 'id' in nested_dict.keys() and 'pk' not in nested_dict.keys():\n",
    "                    out[f\"{k}_id\"]=nested_dict['id']\n",
    "                else:\n",
    "                    for key,value in nested_dict.items():\n",
    "                        out[f\"{k}_{key}\"]=value\n",
    "            elif type(v)==list:\n",
    "                if nested_lists != None:\n",
    "                    nested_lists.append({k:v})\n",
    "        return parse(out,nested_lists)"
   ]
  },
  {
   "cell_type": "code",
   "execution_count": null,
   "metadata": {},
   "outputs": [
    {
     "data": {
      "text/markdown": [
       "<h4 id=\"add_playFKs\" class=\"doc_header\"><code>add_playFKs</code><a href=\"__main__.py#L3\" class=\"source_link\" style=\"float:right\">[source]</a></h4>\n",
       "\n",
       "> <code>add_playFKs</code>(**`dictionary`**, **`play`**, **`game`**)\n",
       "\n",
       "For the nested events within a play, add the foreign keys needed to trace the event \n",
       "back to it's game/play"
      ],
      "text/plain": [
       "<IPython.core.display.Markdown object>"
      ]
     },
     "metadata": {},
     "output_type": "display_data"
    }
   ],
   "source": [
    "show_doc(add_playFKs)"
   ]
  },
  {
   "cell_type": "code",
   "execution_count": null,
   "metadata": {},
   "outputs": [
    {
     "data": {
      "text/markdown": [
       "<h4 id=\"parse\" class=\"doc_header\"><code>parse</code><a href=\"__main__.py#L12\" class=\"source_link\" style=\"float:right\">[source]</a></h4>\n",
       "\n",
       "> <code>parse</code>(**`input_dict`**, **`nested_lists`**=*`None`*)\n",
       "\n",
       "recursively parse a dictionary with nested lists into a flat dictionary"
      ],
      "text/plain": [
       "<IPython.core.display.Markdown object>"
      ]
     },
     "metadata": {},
     "output_type": "display_data"
    }
   ],
   "source": [
    "show_doc(parse)"
   ]
  },
  {
   "cell_type": "code",
   "execution_count": null,
   "metadata": {},
   "outputs": [],
   "source": [
    "#export \n",
    "\n",
    "class Game():\n",
    "    \"\"\"Reference obj for a the result of an MLB API call.\"\"\"\n",
    "    \n",
    "    def __init__(self,gamePk):\n",
    "        \"\"\"Call the mlb API and parse results into flat dictionaries for DB insert.\"\"\"\n",
    "        # call the api \n",
    "        game = mlb.get('game',{'gamePk':gamePk})\n",
    "        self._result = game\n",
    "        \n",
    "        # players\n",
    "        self.players = []\n",
    "        players = game['gameData'].pop('players')\n",
    "        for playerId in players.keys():\n",
    "            self.players.append(parse(players[playerId]))\n",
    "        \n",
    "        # team / player stats\n",
    "        #self.teams = []\n",
    "        self.game_players = []\n",
    "        self.team_stats = []\n",
    "        self.team_records = []\n",
    "        for home_away in ['away','home']:\n",
    "            team = game['liveData']['boxscore']['teams'][home_away]\n",
    "            players = team.pop('players')\n",
    "            for playerId in players.keys():\n",
    "                player = players[playerId]\n",
    "                # add foreign keys to player / game records\n",
    "                player['team_id']=team['team']['id']\n",
    "                player['gamePk']=game['gamePk']\n",
    "                self.game_players.append(parse(player))\n",
    "            team_stats = team.pop('teamStats')\n",
    "            team_stats['team_id']=team['team']['id']\n",
    "            team_stats['gamePk']=game['gamePk']\n",
    "            self.team_stats.append(parse(team_stats))\n",
    "            #self.teams.append(parse(team))\n",
    "        \n",
    "        # game\n",
    "        gm = parse(game['gameData'])\n",
    "        #gm.update(game['gameData']['game'])\n",
    "        setattr(self,'game',gm)\n",
    "        \n",
    "        # teams / team records \n",
    "        self.teams = []\n",
    "        self.team_records = []\n",
    "        teams = game['gameData']['teams']\n",
    "        for home_away in ['home','away']:\n",
    "            team = teams[home_away]\n",
    "            team_record = parse(team.pop('record'))\n",
    "            team_record['teamId']=team['id']\n",
    "            team_record['gamePk']=game['gamePk']\n",
    "            self.team_records.append(team_record)\n",
    "            self.teams.append(parse(team))\n",
    "        \n",
    "        # venue\n",
    "        self.venue = parse(game['gameData']['venue'])\n",
    "        \n",
    "        # plays and play events \n",
    "        parsed_plays = []\n",
    "        game_play_events = []\n",
    "        matchups = []\n",
    "        self.pitches = []\n",
    "        self.pitchData = []\n",
    "        self.hitData = []\n",
    "        self.actions = []\n",
    "        self.movements = []\n",
    "        self.credits = []\n",
    "        for play in game['liveData']['plays']['allPlays']:\n",
    "            matchup = play.pop('matchup')\n",
    "            add_playFKs(matchup,play,game)\n",
    "            matchups.append(matchup)\n",
    "            \n",
    "            nested_play_details = []\n",
    "            play_events = []\n",
    "            \n",
    "            parsed_plays.append(parse(play,nested_lists=nested_play_details))\n",
    "            \n",
    "            \n",
    "            for element in nested_play_details:\n",
    "                for value in element.values():\n",
    "                    if type(value)==list and len(value)>0:\n",
    "                        if type(value[0])==dict:\n",
    "                            for x in value:\n",
    "                                play_event = parse(x,nested_play_details)\n",
    "                                # add FKs to trace back to the play\n",
    "                                add_playFKs(play_event,play,game)\n",
    "                                if play_event.get('isPitch'):\n",
    "                                    pitchFKs = ['gamePk','atBatIndex','playEndTime','index']\n",
    "                                    \n",
    "                                    pitchData_keys = [x for x in play_event.keys() if x.startswith('pitchData')]\n",
    "                                    if len(pitchData_keys)>0:\n",
    "                                        pitchData = {}\n",
    "                                        for _key in pitchFKs:\n",
    "                                            pitchData[_key]=play_event[_key]\n",
    "                                        for _key in pitchData_keys:\n",
    "                                            pitchData[_key.replace('pitchData_','')]=play_event.pop(_key)\n",
    "                                        self.pitchData.append(pitchData)\n",
    "                                    \n",
    "                                    hitData_keys = [x for x in play_event.keys() if x.startswith('hitData')]\n",
    "                                    if len(hitData_keys)>0:\n",
    "                                        hitData = {}\n",
    "                                        for _key in pitchFKs:\n",
    "                                            hitData[_key]=play_event[_key]\n",
    "                                        for _key in hitData_keys:\n",
    "                                            hitData[_key.replace('hitData_','')]=play_event.pop(_key)\n",
    "                                        self.hitData.append(hitData)\n",
    "                                                \n",
    "                                    self.pitches.append(play_event)\n",
    "                                if play_event.get('type')=='action':\n",
    "                                    self.actions.append(play_event)\n",
    "                                if 'movement_isOut' in list(play_event.keys()):\n",
    "                                    self.movements.append(play_event)\n",
    "                                if 'credit' in list(play_event.keys()):\n",
    "                                    self.credits.append(play_event)\n",
    "                                play_events.append(play_event)\n",
    "                                \n",
    "            game_play_events.append(play_events)\n",
    "            \n",
    "        for play in parsed_plays:\n",
    "            play['gamePk']=game['gamePk']\n",
    "        \n",
    "        setattr(self,'plays',parsed_plays)\n",
    "        #setattr(self,'play_events',game_play_events)\n",
    "        \n",
    "        # dealing with matchups\n",
    "        parsed_matchups = []\n",
    "        game_matchup_stats = []\n",
    "        for matchup in matchups:\n",
    "            # pop out hot cold stats\n",
    "            # these are such a pain to parse I might just calculate them myself\n",
    "            for stats in ['batterHotColdZoneStats','pitcherHotColdZoneStats']:\n",
    "                if stats in matchup.keys():\n",
    "                    game_matchup_stats.append(matchup.pop(stats))\n",
    "            parsed_matchups.append(parse(matchup))\n",
    "                            \n",
    "        setattr(self,'matchups',parsed_matchups)\n",
    "    \n",
    "    def __repr__(self):\n",
    "        return self.game['game_id']"
   ]
  },
  {
   "cell_type": "code",
   "execution_count": null,
   "metadata": {},
   "outputs": [
    {
     "data": {
      "text/markdown": [
       "<h2 id=\"Game\" class=\"doc_header\"><code>class</code> <code>Game</code><a href=\"\" class=\"source_link\" style=\"float:right\">[source]</a></h2>\n",
       "\n",
       "> <code>Game</code>(**`gamePk`**)\n",
       "\n",
       "Reference obj for a the result of an MLB API call."
      ],
      "text/plain": [
       "<IPython.core.display.Markdown object>"
      ]
     },
     "metadata": {},
     "output_type": "display_data"
    }
   ],
   "source": [
    "show_doc(Game)"
   ]
  },
  {
   "cell_type": "code",
   "execution_count": null,
   "metadata": {},
   "outputs": [],
   "source": [
    "game = Game(gamePks[0])"
   ]
  },
  {
   "cell_type": "code",
   "execution_count": null,
   "metadata": {},
   "outputs": [
    {
     "data": {
      "text/plain": [
       "{'game_pk': 642138,\n",
       " 'game_type': 'S',\n",
       " 'game_doubleHeader': 'N',\n",
       " 'game_id': '2021/02/28/pitmlb-balmlb-1',\n",
       " 'game_gamedayType': 'N',\n",
       " 'game_tiebreaker': 'N',\n",
       " 'game_gameNumber': 1,\n",
       " 'game_calendarEventID': '14-642138-2021-02-28',\n",
       " 'game_season': '2021',\n",
       " 'game_seasonDisplay': '2021',\n",
       " 'datetime_dateTime': '2021-02-28T18:05:00Z',\n",
       " 'datetime_originalDate': '2021-02-28',\n",
       " 'datetime_dayNight': 'day',\n",
       " 'datetime_time': '1:05',\n",
       " 'datetime_ampm': 'PM',\n",
       " 'status_abstractGameState': 'Final',\n",
       " 'status_codedGameState': 'F',\n",
       " 'status_detailedState': 'Final',\n",
       " 'status_statusCode': 'F',\n",
       " 'status_startTimeTBD': False,\n",
       " 'status_abstractGameCode': 'F',\n",
       " 'teams_away_id': 134,\n",
       " 'teams_home_id': 110,\n",
       " 'venue_id': 2508,\n",
       " 'weather_condition': 'Partly Cloudy',\n",
       " 'weather_temp': '83',\n",
       " 'weather_wind': '12 mph, In From CF',\n",
       " 'gameInfo_attendance': 1705,\n",
       " 'gameInfo_gameDurationMinutes': 171,\n",
       " 'review_hasChallenges': True,\n",
       " 'review_away_used': 0,\n",
       " 'review_away_remaining': 1,\n",
       " 'review_home_used': 0,\n",
       " 'review_home_remaining': 1,\n",
       " 'flags_noHitter': False,\n",
       " 'flags_perfectGame': False,\n",
       " 'flags_awayTeamNoHitter': False,\n",
       " 'flags_awayTeamPerfectGame': False,\n",
       " 'flags_homeTeamNoHitter': False,\n",
       " 'flags_homeTeamPerfectGame': False,\n",
       " 'probablePitchers_away_id': 641771,\n",
       " 'probablePitchers_home_id': 664045,\n",
       " 'officialScorer_id': 654829,\n",
       " 'primaryDatacaster_id': 654829}"
      ]
     },
     "execution_count": null,
     "metadata": {},
     "output_type": "execute_result"
    }
   ],
   "source": [
    "game.game"
   ]
  },
  {
   "cell_type": "code",
   "execution_count": null,
   "metadata": {},
   "outputs": [
    {
     "data": {
      "text/plain": [
       "[{'movement_end': '1B',\n",
       "  'movement_isOut': False,\n",
       "  'details_event': 'Single',\n",
       "  'details_eventType': 'single',\n",
       "  'details_runner_id': 621028,\n",
       "  'details_isScoringEvent': False,\n",
       "  'details_rbi': False,\n",
       "  'details_earned': False,\n",
       "  'details_teamUnearned': False,\n",
       "  'details_playIndex': 3,\n",
       "  'atBatIndex': 0,\n",
       "  'gamePk': 642138,\n",
       "  'playEndTime': '2021-02-28T18:05:28.732Z'},\n",
       " {'movement_originBase': '1B',\n",
       "  'movement_start': '1B',\n",
       "  'movement_end': '2B',\n",
       "  'movement_isOut': False,\n",
       "  'details_event': 'Walk',\n",
       "  'details_eventType': 'walk',\n",
       "  'details_movementReason': 'r_adv_force',\n",
       "  'details_runner_id': 621028,\n",
       "  'details_isScoringEvent': False,\n",
       "  'details_rbi': False,\n",
       "  'details_earned': False,\n",
       "  'details_teamUnearned': False,\n",
       "  'details_playIndex': 3,\n",
       "  'atBatIndex': 1,\n",
       "  'gamePk': 642138,\n",
       "  'playEndTime': '2021-02-28T18:08:10.770Z'}]"
      ]
     },
     "execution_count": null,
     "metadata": {},
     "output_type": "execute_result"
    }
   ],
   "source": [
    "game.movements[:2]"
   ]
  },
  {
   "cell_type": "code",
   "execution_count": null,
   "metadata": {},
   "outputs": [
    {
     "data": {
      "text/plain": [
       "{'person_id': 624428,\n",
       " 'jerseyNumber': '26',\n",
       " 'position_code': '4',\n",
       " 'position_name': 'Second Base',\n",
       " 'position_type': 'Infielder',\n",
       " 'position_abbreviation': '2B',\n",
       " 'status_code': 'A',\n",
       " 'status_description': 'Active',\n",
       " 'parentTeamId': 134,\n",
       " 'seasonStats_batting_gamesPlayed': 0,\n",
       " 'seasonStats_batting_flyOuts': 0,\n",
       " 'seasonStats_batting_groundOuts': 0,\n",
       " 'seasonStats_batting_runs': 0,\n",
       " 'seasonStats_batting_doubles': 0,\n",
       " 'seasonStats_batting_triples': 0,\n",
       " 'seasonStats_batting_homeRuns': 0,\n",
       " 'seasonStats_batting_strikeOuts': 0,\n",
       " 'seasonStats_batting_baseOnBalls': 0,\n",
       " 'seasonStats_batting_intentionalWalks': 0,\n",
       " 'seasonStats_batting_hits': 0,\n",
       " 'seasonStats_batting_hitByPitch': 0,\n",
       " 'seasonStats_batting_avg': '.000',\n",
       " 'seasonStats_batting_atBats': 0,\n",
       " 'seasonStats_batting_obp': '.000',\n",
       " 'seasonStats_batting_slg': '.000',\n",
       " 'seasonStats_batting_ops': '.000',\n",
       " 'seasonStats_batting_caughtStealing': 0,\n",
       " 'seasonStats_batting_stolenBases': 0,\n",
       " 'seasonStats_batting_stolenBasePercentage': '.---',\n",
       " 'seasonStats_batting_groundIntoDoublePlay': 0,\n",
       " 'seasonStats_batting_groundIntoTriplePlay': 0,\n",
       " 'seasonStats_batting_plateAppearances': 0,\n",
       " 'seasonStats_batting_totalBases': 0,\n",
       " 'seasonStats_batting_rbi': 0,\n",
       " 'seasonStats_batting_leftOnBase': 0,\n",
       " 'seasonStats_batting_sacBunts': 0,\n",
       " 'seasonStats_batting_sacFlies': 0,\n",
       " 'seasonStats_batting_babip': '.---',\n",
       " 'seasonStats_batting_catchersInterference': 0,\n",
       " 'seasonStats_batting_pickoffs': 0,\n",
       " 'seasonStats_batting_atBatsPerHomeRun': '-.--',\n",
       " 'seasonStats_pitching_gamesPlayed': 0,\n",
       " 'seasonStats_pitching_gamesStarted': 0,\n",
       " 'seasonStats_pitching_groundOuts': 0,\n",
       " 'seasonStats_pitching_airOuts': 0,\n",
       " 'seasonStats_pitching_runs': 0,\n",
       " 'seasonStats_pitching_doubles': 0,\n",
       " 'seasonStats_pitching_triples': 0,\n",
       " 'seasonStats_pitching_homeRuns': 0,\n",
       " 'seasonStats_pitching_strikeOuts': 0,\n",
       " 'seasonStats_pitching_baseOnBalls': 0,\n",
       " 'seasonStats_pitching_intentionalWalks': 0,\n",
       " 'seasonStats_pitching_hits': 0,\n",
       " 'seasonStats_pitching_hitByPitch': 0,\n",
       " 'seasonStats_pitching_atBats': 0,\n",
       " 'seasonStats_pitching_obp': '.000',\n",
       " 'seasonStats_pitching_caughtStealing': 0,\n",
       " 'seasonStats_pitching_stolenBases': 0,\n",
       " 'seasonStats_pitching_stolenBasePercentage': '.---',\n",
       " 'seasonStats_pitching_era': '-.--',\n",
       " 'seasonStats_pitching_inningsPitched': '0.0',\n",
       " 'seasonStats_pitching_wins': 0,\n",
       " 'seasonStats_pitching_losses': 0,\n",
       " 'seasonStats_pitching_saves': 0,\n",
       " 'seasonStats_pitching_saveOpportunities': 0,\n",
       " 'seasonStats_pitching_holds': 0,\n",
       " 'seasonStats_pitching_blownSaves': 0,\n",
       " 'seasonStats_pitching_earnedRuns': 0,\n",
       " 'seasonStats_pitching_whip': '-',\n",
       " 'seasonStats_pitching_outs': 0,\n",
       " 'seasonStats_pitching_gamesPitched': 0,\n",
       " 'seasonStats_pitching_completeGames': 0,\n",
       " 'seasonStats_pitching_shutouts': 0,\n",
       " 'seasonStats_pitching_hitBatsmen': 0,\n",
       " 'seasonStats_pitching_balks': 0,\n",
       " 'seasonStats_pitching_wildPitches': 0,\n",
       " 'seasonStats_pitching_pickoffs': 0,\n",
       " 'seasonStats_pitching_groundOutsToAirouts': '-.--',\n",
       " 'seasonStats_pitching_rbi': 0,\n",
       " 'seasonStats_pitching_winPercentage': '.---',\n",
       " 'seasonStats_pitching_gamesFinished': 0,\n",
       " 'seasonStats_pitching_strikeoutWalkRatio': '-.--',\n",
       " 'seasonStats_pitching_strikeoutsPer9Inn': '-.--',\n",
       " 'seasonStats_pitching_walksPer9Inn': '-.--',\n",
       " 'seasonStats_pitching_hitsPer9Inn': '-.--',\n",
       " 'seasonStats_pitching_runsScoredPer9': '-.--',\n",
       " 'seasonStats_pitching_homeRunsPer9': '-.--',\n",
       " 'seasonStats_pitching_inheritedRunners': 0,\n",
       " 'seasonStats_pitching_inheritedRunnersScored': 0,\n",
       " 'seasonStats_pitching_catchersInterference': 0,\n",
       " 'seasonStats_pitching_sacBunts': 0,\n",
       " 'seasonStats_pitching_sacFlies': 0,\n",
       " 'seasonStats_fielding_assists': 0,\n",
       " 'seasonStats_fielding_putOuts': 0,\n",
       " 'seasonStats_fielding_errors': 0,\n",
       " 'seasonStats_fielding_chances': 0,\n",
       " 'seasonStats_fielding_fielding': '.000',\n",
       " 'seasonStats_fielding_caughtStealing': 0,\n",
       " 'seasonStats_fielding_passedBall': 0,\n",
       " 'seasonStats_fielding_stolenBases': 0,\n",
       " 'seasonStats_fielding_stolenBasePercentage': '.---',\n",
       " 'seasonStats_fielding_pickoffs': 0,\n",
       " 'gameStatus_isCurrentBatter': False,\n",
       " 'gameStatus_isCurrentPitcher': False,\n",
       " 'gameStatus_isOnBench': True,\n",
       " 'gameStatus_isSubstitute': False,\n",
       " 'team_id': 134,\n",
       " 'gamePk': 642138}"
      ]
     },
     "execution_count": null,
     "metadata": {},
     "output_type": "execute_result"
    }
   ],
   "source": [
    "game.game_players[0]"
   ]
  },
  {
   "cell_type": "code",
   "execution_count": null,
   "metadata": {},
   "outputs": [
    {
     "data": {
      "text/plain": [
       "[{'id': 110,\n",
       "  'name': 'Baltimore Orioles',\n",
       "  'link': '/api/v1/teams/110',\n",
       "  'season': 2021,\n",
       "  'venue_id': 2,\n",
       "  'springVenue_id': 2508,\n",
       "  'teamCode': 'bal',\n",
       "  'fileCode': 'bal',\n",
       "  'abbreviation': 'BAL',\n",
       "  'teamName': 'Orioles',\n",
       "  'locationName': 'Baltimore',\n",
       "  'firstYearOfPlay': '1901',\n",
       "  'league_id': 103,\n",
       "  'division_id': 201,\n",
       "  'sport_id': 1,\n",
       "  'shortName': 'Baltimore',\n",
       "  'springLeague_id': 115,\n",
       "  'allStarStatus': 'N',\n",
       "  'active': True},\n",
       " {'id': 134,\n",
       "  'name': 'Pittsburgh Pirates',\n",
       "  'link': '/api/v1/teams/134',\n",
       "  'season': 2021,\n",
       "  'venue_id': 31,\n",
       "  'springVenue_id': 2526,\n",
       "  'teamCode': 'pit',\n",
       "  'fileCode': 'pit',\n",
       "  'abbreviation': 'PIT',\n",
       "  'teamName': 'Pirates',\n",
       "  'locationName': 'Pittsburgh',\n",
       "  'firstYearOfPlay': '1882',\n",
       "  'league_id': 104,\n",
       "  'division_id': 205,\n",
       "  'sport_id': 1,\n",
       "  'shortName': 'Pittsburgh',\n",
       "  'springLeague_id': 115,\n",
       "  'allStarStatus': 'N',\n",
       "  'active': True}]"
      ]
     },
     "execution_count": null,
     "metadata": {},
     "output_type": "execute_result"
    }
   ],
   "source": [
    "game.teams"
   ]
  },
  {
   "cell_type": "code",
   "execution_count": null,
   "metadata": {},
   "outputs": [],
   "source": []
  }
 ],
 "metadata": {
  "kernelspec": {
   "display_name": "Python 3",
   "language": "python",
   "name": "python3"
  }
 },
 "nbformat": 4,
 "nbformat_minor": 4
}
