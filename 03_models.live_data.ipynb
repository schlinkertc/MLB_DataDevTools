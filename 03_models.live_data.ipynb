{
 "cells": [
  {
   "cell_type": "code",
   "execution_count": null,
   "metadata": {},
   "outputs": [],
   "source": [
    "# default_exp models.live_data"
   ]
  },
  {
   "cell_type": "code",
   "execution_count": null,
   "metadata": {},
   "outputs": [],
   "source": [
    "import statsapi as mlb\n",
    "import datetime as dt\n",
    "from pydantic import (\n",
    "    BaseModel,\n",
    "    root_validator,\n",
    "    validator,\n",
    "    conint,\n",
    "    conlist\n",
    ")\n",
    "from MLB_DataDevTools.models.base_models import *\n",
    "from enum import Enum\n",
    "from typing import Any,List,Optional"
   ]
  },
  {
   "cell_type": "code",
   "execution_count": null,
   "metadata": {},
   "outputs": [],
   "source": [
    "import pandas as pd\n",
    "from MLB_DataDevTools.database import create_mlb_engine\n",
    "engine = create_mlb_engine()"
   ]
  },
  {
   "cell_type": "code",
   "execution_count": null,
   "metadata": {},
   "outputs": [],
   "source": [
    "games = pd.read_sql('game',engine.connect())\n",
    "\n",
    "pk = games['game_pk'].sample().iloc[0]\n",
    "\n",
    "game = mlb.get('game',{'gamePk':pk})\n",
    "\n",
    "liveData = game['liveData']\n",
    "\n",
    "liveData.keys()\n",
    "\n",
    "plays = liveData['plays']['allPlays']\n",
    "\n",
    "play = plays[20]\n"
   ]
  },
  {
   "cell_type": "markdown",
   "metadata": {},
   "source": [
    "## Plays"
   ]
  },
  {
   "cell_type": "code",
   "execution_count": null,
   "metadata": {},
   "outputs": [
    {
     "data": {
      "text/plain": [
       "dict_keys(['result', 'about', 'count', 'matchup', 'pitchIndex', 'actionIndex', 'runnerIndex', 'runners', 'playEvents', 'playEndTime', 'atBatIndex'])"
      ]
     },
     "execution_count": null,
     "metadata": {},
     "output_type": "execute_result"
    }
   ],
   "source": [
    "play.keys()"
   ]
  },
  {
   "cell_type": "code",
   "execution_count": null,
   "metadata": {},
   "outputs": [
    {
     "data": {
      "text/plain": [
       "{'type': 'atBat',\n",
       " 'event': 'Walk',\n",
       " 'eventType': 'walk',\n",
       " 'description': 'Ronald Guzman walks.',\n",
       " 'rbi': 0,\n",
       " 'awayScore': 0,\n",
       " 'homeScore': 0}"
      ]
     },
     "execution_count": null,
     "metadata": {},
     "output_type": "execute_result"
    }
   ],
   "source": [
    "play['result']"
   ]
  },
  {
   "cell_type": "code",
   "execution_count": null,
   "metadata": {},
   "outputs": [
    {
     "data": {
      "text/plain": [
       "{'plateAppearance': False,\n",
       " 'hit': False,\n",
       " 'code': 'pickoff_1b',\n",
       " 'baseRunningEvent': True,\n",
       " 'description': 'Pickoff 1B'}"
      ]
     },
     "execution_count": null,
     "metadata": {},
     "output_type": "execute_result"
    }
   ],
   "source": [
    "event_types = mlb.get('meta',{'type':'eventTypes'})\n",
    "event_types[0]"
   ]
  },
  {
   "cell_type": "code",
   "execution_count": null,
   "metadata": {},
   "outputs": [],
   "source": [
    "class EventType(BaseModel):\n",
    "    code: str\n",
    "    plateAppearance: bool\n",
    "    hit: bool\n",
    "    baseRunningEvent: bool\n",
    "    description: str\n",
    "    \n",
    "    @root_validator(pre=True)\n",
    "    def get_event_type(cls,values):\n",
    "        code = values['code']\n",
    "        values.update(cls.Config.event_types[code])\n",
    "        return values\n",
    "\n",
    "    class Config:\n",
    "        event_types = {\n",
    "            pe.pop('code'):pe for pe in \n",
    "            mlb.get('meta',{'type':'eventTypes'})\n",
    "        }\n",
    "    def __init__(self,code):\n",
    "        super().__init__(code=code)"
   ]
  },
  {
   "cell_type": "code",
   "execution_count": null,
   "metadata": {},
   "outputs": [
    {
     "data": {
      "text/plain": [
       "EventType(code='double', plateAppearance=True, hit=True, baseRunningEvent=False, description='Double')"
      ]
     },
     "execution_count": null,
     "metadata": {},
     "output_type": "execute_result"
    }
   ],
   "source": [
    "EventType(code='double')"
   ]
  },
  {
   "cell_type": "code",
   "execution_count": null,
   "metadata": {},
   "outputs": [
    {
     "data": {
      "text/plain": [
       "EventType(code='double', plateAppearance=True, hit=True, baseRunningEvent=False, description='Double')"
      ]
     },
     "execution_count": null,
     "metadata": {},
     "output_type": "execute_result"
    }
   ],
   "source": [
    "EventType('double')"
   ]
  },
  {
   "cell_type": "code",
   "execution_count": null,
   "metadata": {},
   "outputs": [],
   "source": [
    "class ModelWithEventType(BaseModel):\n",
    "    def __init__(self,eventType:str = None,**kwargs):\n",
    "        super().__init__(\n",
    "            eventType={'code':eventType},\n",
    "            **kwargs\n",
    "        )"
   ]
  },
  {
   "cell_type": "code",
   "execution_count": null,
   "metadata": {},
   "outputs": [],
   "source": [
    "#exporti \n",
    "\n",
    "class PlayResult(ModelWithEventType):\n",
    "    type: str\n",
    "    event: str\n",
    "    eventType: EventType\n",
    "    description: str\n",
    "    rbi: conint(ge=0)\n",
    "    awayScore: conint(ge=0)\n",
    "    homeScore: conint(ge=0)\n",
    "    "
   ]
  },
  {
   "cell_type": "code",
   "execution_count": null,
   "metadata": {},
   "outputs": [
    {
     "data": {
      "text/plain": [
       "{'type': 'atBat',\n",
       " 'event': 'Walk',\n",
       " 'eventType': 'walk',\n",
       " 'description': 'Ronald Guzman walks.',\n",
       " 'rbi': 0,\n",
       " 'awayScore': 0,\n",
       " 'homeScore': 0}"
      ]
     },
     "execution_count": null,
     "metadata": {},
     "output_type": "execute_result"
    }
   ],
   "source": [
    "play['result']"
   ]
  },
  {
   "cell_type": "code",
   "execution_count": null,
   "metadata": {},
   "outputs": [
    {
     "data": {
      "text/plain": [
       "PlayResult(type='atBat', event='Walk', eventType=EventType(code='walk', plateAppearance=True, hit=False, baseRunningEvent=False, description='Walk'), description='Ronald Guzman walks.', rbi=0, awayScore=0, homeScore=0)"
      ]
     },
     "execution_count": null,
     "metadata": {},
     "output_type": "execute_result"
    }
   ],
   "source": [
    "PlayResult(**play['result'])"
   ]
  },
  {
   "cell_type": "markdown",
   "metadata": {},
   "source": [
    "## Play About"
   ]
  },
  {
   "cell_type": "code",
   "execution_count": null,
   "metadata": {},
   "outputs": [],
   "source": [
    "#exporti\n",
    "\n",
    "class HalfInning(str,Enum):\n",
    "    top='top'\n",
    "    bottom='bottom'\n",
    "\n",
    "class PlayAbout(BaseModel):\n",
    "    atBatIndex: conint(ge=0)\n",
    "    halfInning: HalfInning\n",
    "    inning: conint(ge=0)\n",
    "    startTime: dt.datetime\n",
    "    endTime: dt.datetime\n",
    "    isComplete: bool\n",
    "    isScoringPlay: bool\n",
    "    hasReview: bool\n",
    "    hasOut: bool\n",
    "    captivatingIndex: int"
   ]
  },
  {
   "cell_type": "code",
   "execution_count": null,
   "metadata": {},
   "outputs": [
    {
     "data": {
      "text/plain": [
       "{'atBatIndex': 20,\n",
       " 'halfInning': 'bottom',\n",
       " 'isTopInning': False,\n",
       " 'inning': 3,\n",
       " 'startTime': '2020-09-26T23:50:00.443Z',\n",
       " 'endTime': '2020-09-26T23:51:25.767Z',\n",
       " 'isComplete': True,\n",
       " 'isScoringPlay': False,\n",
       " 'hasReview': False,\n",
       " 'hasOut': False,\n",
       " 'captivatingIndex': 0}"
      ]
     },
     "execution_count": null,
     "metadata": {},
     "output_type": "execute_result"
    }
   ],
   "source": [
    "play['about']"
   ]
  },
  {
   "cell_type": "code",
   "execution_count": null,
   "metadata": {},
   "outputs": [
    {
     "data": {
      "text/plain": [
       "PlayAbout(atBatIndex=20, halfInning=<HalfInning.bottom: 'bottom'>, inning=3, startTime=datetime.datetime(2020, 9, 26, 23, 50, 0, 443000, tzinfo=datetime.timezone.utc), endTime=datetime.datetime(2020, 9, 26, 23, 51, 25, 767000, tzinfo=datetime.timezone.utc), isComplete=True, isScoringPlay=False, hasReview=False, hasOut=False, captivatingIndex=0)"
      ]
     },
     "execution_count": null,
     "metadata": {},
     "output_type": "execute_result"
    }
   ],
   "source": [
    "PlayAbout(**play['about'])"
   ]
  },
  {
   "cell_type": "markdown",
   "metadata": {},
   "source": [
    "## Count"
   ]
  },
  {
   "cell_type": "code",
   "execution_count": null,
   "metadata": {},
   "outputs": [
    {
     "data": {
      "text/plain": [
       "{'balls': 4, 'strikes': 1, 'outs': 0}"
      ]
     },
     "execution_count": null,
     "metadata": {},
     "output_type": "execute_result"
    }
   ],
   "source": [
    "play['count']"
   ]
  },
  {
   "cell_type": "code",
   "execution_count": null,
   "metadata": {},
   "outputs": [],
   "source": [
    "#exporti \n",
    "\n",
    "class Count(BaseModel):\n",
    "    balls: conint(ge=0,le=4)\n",
    "    strikes: conint(ge=0,le=3)\n",
    "    outs: conint(ge=0,le=3)"
   ]
  },
  {
   "cell_type": "code",
   "execution_count": null,
   "metadata": {},
   "outputs": [
    {
     "data": {
      "text/plain": [
       "Count(balls=4, strikes=1, outs=0)"
      ]
     },
     "execution_count": null,
     "metadata": {},
     "output_type": "execute_result"
    }
   ],
   "source": [
    "Count(**play['count'])"
   ]
  },
  {
   "cell_type": "markdown",
   "metadata": {},
   "source": [
    "## Matchup"
   ]
  },
  {
   "cell_type": "code",
   "execution_count": null,
   "metadata": {},
   "outputs": [
    {
     "data": {
      "text/plain": [
       "{'batter': {'id': 608597,\n",
       "  'fullName': 'Ronald Guzman',\n",
       "  'link': '/api/v1/people/608597'},\n",
       " 'batSide': {'code': 'L', 'description': 'Left'},\n",
       " 'pitcher': {'id': 621121,\n",
       "  'fullName': 'Lance McCullers Jr.',\n",
       "  'link': '/api/v1/people/621121'},\n",
       " 'pitchHand': {'code': 'R', 'description': 'Right'},\n",
       " 'postOnFirst': {'id': 608597,\n",
       "  'fullName': 'Ronald Guzman',\n",
       "  'link': '/api/v1/people/608597'},\n",
       " 'batterHotColdZones': [],\n",
       " 'pitcherHotColdZones': [],\n",
       " 'splits': {'batter': 'vs_RHP', 'pitcher': 'vs_LHB', 'menOnBase': 'Men_On'}}"
      ]
     },
     "execution_count": null,
     "metadata": {},
     "output_type": "execute_result"
    }
   ],
   "source": [
    "play['matchup']"
   ]
  },
  {
   "cell_type": "code",
   "execution_count": null,
   "metadata": {},
   "outputs": [
    {
     "data": {
      "text/plain": [
       "{'Empty', 'Men_On', 'RISP'}"
      ]
     },
     "execution_count": null,
     "metadata": {},
     "output_type": "execute_result"
    }
   ],
   "source": [
    "{p['matchup']['splits']['menOnBase'] for p in plays}"
   ]
  },
  {
   "cell_type": "code",
   "execution_count": null,
   "metadata": {},
   "outputs": [],
   "source": [
    "#exporti\n",
    "\n",
    "class MenOnBase(str,Enum):\n",
    "    Empty='Empty'\n",
    "    Men_On='Men_On'\n",
    "    RISP='RISP'\n",
    "\n",
    "class BatterSplit(str,Enum):\n",
    "    vs_RHP='vs_RHP'\n",
    "    vs_LHP='vs_LHP'\n",
    "class PitcherSplit(str,Enum):\n",
    "    vs_RHB='vs_RHB'\n",
    "    vs_LHB='vs_LHB'\n",
    "class Splits(BaseModel):\n",
    "    batter: BatterSplit\n",
    "    pitcher: PitcherSplit\n",
    "    menOnBase: MenOnBase"
   ]
  },
  {
   "cell_type": "code",
   "execution_count": null,
   "metadata": {},
   "outputs": [],
   "source": [
    "#exporti\n",
    "\n",
    "class Matchup(BaseModel):\n",
    "    batter: PersonBase\n",
    "    batSide: PlayerHandedness\n",
    "    pitcher: PersonBase\n",
    "    pitchHand: PlayerHandedness\n",
    "    batterHotColdZones: conlist(Any,max_items=0) # I want to see if this ever comes back with items\n",
    "    pitcherHotColdZones: conlist(Any,max_items=0)\n",
    "    splits: Splits"
   ]
  },
  {
   "cell_type": "code",
   "execution_count": null,
   "metadata": {},
   "outputs": [
    {
     "data": {
      "text/plain": [
       "Matchup(batter=PersonBase(link=HttpUrl('https://statsapi.mlb.com/api/v1/people/608597', scheme='https', host='statsapi.mlb.com', tld='com', host_type='domain', path='/api/v1/people/608597'), id=608597, name='Ronald Guzman'), batSide=PlayerHandedness(code='L', description='Left'), pitcher=PersonBase(link=HttpUrl('https://statsapi.mlb.com/api/v1/people/621121', scheme='https', host='statsapi.mlb.com', tld='com', host_type='domain', path='/api/v1/people/621121'), id=621121, name='Lance McCullers Jr.'), pitchHand=PlayerHandedness(code='R', description='Right'), batterHotColdZones=[], pitcherHotColdZones=[], splits=Splits(batter=<BatterSplit.vs_RHP: 'vs_RHP'>, pitcher=<PitcherSplit.vs_LHB: 'vs_LHB'>, menOnBase=<MenOnBase.Men_On: 'Men_On'>))"
      ]
     },
     "execution_count": null,
     "metadata": {},
     "output_type": "execute_result"
    }
   ],
   "source": [
    "Matchup(**play['matchup'])"
   ]
  },
  {
   "cell_type": "code",
   "execution_count": null,
   "metadata": {},
   "outputs": [
    {
     "data": {
      "text/plain": [
       "[0, 1, 2, 3, 4]"
      ]
     },
     "execution_count": null,
     "metadata": {},
     "output_type": "execute_result"
    }
   ],
   "source": [
    "play['pitchIndex']"
   ]
  },
  {
   "cell_type": "markdown",
   "metadata": {},
   "source": [
    "## Runners"
   ]
  },
  {
   "cell_type": "code",
   "execution_count": null,
   "metadata": {},
   "outputs": [],
   "source": [
    "class Base(str,Enum):\n",
    "    first_base='1B'\n",
    "    second_base='2B'\n",
    "    third_base='3B'\n",
    "    score='score'"
   ]
  },
  {
   "cell_type": "code",
   "execution_count": null,
   "metadata": {},
   "outputs": [
    {
     "data": {
      "text/plain": [
       "False"
      ]
     },
     "execution_count": null,
     "metadata": {},
     "output_type": "execute_result"
    }
   ],
   "source": [
    "plays[0]['about']['isScoringPlay']"
   ]
  },
  {
   "cell_type": "code",
   "execution_count": null,
   "metadata": {},
   "outputs": [
    {
     "data": {
      "text/plain": [
       "[]"
      ]
     },
     "execution_count": null,
     "metadata": {},
     "output_type": "execute_result"
    }
   ],
   "source": [
    "[p['runners'][0]['movement'] for p in plays if p['about']['isScoringPlay']][5:10]"
   ]
  },
  {
   "cell_type": "code",
   "execution_count": null,
   "metadata": {},
   "outputs": [
    {
     "data": {
      "text/plain": [
       "{'event': 'Walk',\n",
       " 'eventType': 'walk',\n",
       " 'movementReason': None,\n",
       " 'runner': {'id': 608597,\n",
       "  'fullName': 'Ronald Guzman',\n",
       "  'link': '/api/v1/people/608597'},\n",
       " 'responsiblePitcher': None,\n",
       " 'isScoringEvent': False,\n",
       " 'rbi': False,\n",
       " 'earned': False,\n",
       " 'teamUnearned': False,\n",
       " 'playIndex': 4}"
      ]
     },
     "execution_count": null,
     "metadata": {},
     "output_type": "execute_result"
    }
   ],
   "source": [
    "play['runners'][0]['details']"
   ]
  },
  {
   "cell_type": "code",
   "execution_count": null,
   "metadata": {},
   "outputs": [],
   "source": [
    "class Movement(BaseModel):\n",
    "    originBase: Optional[Base] = None\n",
    "    start: Optional[Base] = None\n",
    "    end: Optional[Base] = None\n",
    "    isOut: bool\n",
    "    outNumber: Optional[conint(ge=0,le=3)] = None"
   ]
  },
  {
   "cell_type": "code",
   "execution_count": null,
   "metadata": {},
   "outputs": [],
   "source": [
    "class RunnerDetails(ModelWithEventType):\n",
    "    event: str\n",
    "    eventType: EventType\n",
    "    runner: PersonBase\n",
    "    responsiblePitcher: Optional[PersonBase] = None\n",
    "    isScoringEvent: bool\n",
    "    rbi: bool\n",
    "    earned: bool\n",
    "    teamUnearned: bool\n",
    "    playIndex: int"
   ]
  },
  {
   "cell_type": "code",
   "execution_count": null,
   "metadata": {},
   "outputs": [
    {
     "data": {
      "text/plain": [
       "[]"
      ]
     },
     "execution_count": null,
     "metadata": {},
     "output_type": "execute_result"
    }
   ],
   "source": [
    "play['runners'][0]['credits']"
   ]
  },
  {
   "cell_type": "code",
   "execution_count": null,
   "metadata": {},
   "outputs": [],
   "source": [
    "class Credit(BaseModel):\n",
    "    player: PersonBase\n",
    "    position: PositionBase\n",
    "    credit: str"
   ]
  },
  {
   "cell_type": "code",
   "execution_count": null,
   "metadata": {},
   "outputs": [
    {
     "data": {
      "text/plain": [
       "{'movement': {'originBase': None,\n",
       "  'start': None,\n",
       "  'end': '1B',\n",
       "  'outBase': None,\n",
       "  'isOut': False,\n",
       "  'outNumber': None},\n",
       " 'details': {'event': 'Walk',\n",
       "  'eventType': 'walk',\n",
       "  'movementReason': None,\n",
       "  'runner': {'id': 608597,\n",
       "   'fullName': 'Ronald Guzman',\n",
       "   'link': '/api/v1/people/608597'},\n",
       "  'responsiblePitcher': None,\n",
       "  'isScoringEvent': False,\n",
       "  'rbi': False,\n",
       "  'earned': False,\n",
       "  'teamUnearned': False,\n",
       "  'playIndex': 4},\n",
       " 'credits': []}"
      ]
     },
     "execution_count": null,
     "metadata": {},
     "output_type": "execute_result"
    }
   ],
   "source": [
    "play['runners'][0]"
   ]
  },
  {
   "cell_type": "code",
   "execution_count": null,
   "metadata": {},
   "outputs": [],
   "source": [
    "class Runner(BaseModel):\n",
    "    movement: Movement\n",
    "    details: RunnerDetails\n",
    "    credits: List[Credit]"
   ]
  },
  {
   "cell_type": "code",
   "execution_count": null,
   "metadata": {},
   "outputs": [
    {
     "data": {
      "text/plain": [
       "Runner(movement=Movement(originBase=None, start=None, end=<Base.first_base: '1B'>, isOut=False, outNumber=None), details=RunnerDetails(event='Walk', eventType=EventType(code='walk', plateAppearance=True, hit=False, baseRunningEvent=False, description='Walk'), runner=PersonBase(link=HttpUrl('https://statsapi.mlb.com/api/v1/people/608597', scheme='https', host='statsapi.mlb.com', tld='com', host_type='domain', path='/api/v1/people/608597'), id=608597, name='Ronald Guzman'), responsiblePitcher=None, isScoringEvent=False, rbi=False, earned=False, teamUnearned=False, playIndex=4), credits=[])"
      ]
     },
     "execution_count": null,
     "metadata": {},
     "output_type": "execute_result"
    }
   ],
   "source": [
    "Runner(**play['runners'][0])"
   ]
  },
  {
   "cell_type": "markdown",
   "metadata": {},
   "source": [
    "## Play Event"
   ]
  },
  {
   "cell_type": "code",
   "execution_count": null,
   "metadata": {},
   "outputs": [],
   "source": [
    "play_event = play['playEvents'][0]"
   ]
  },
  {
   "cell_type": "code",
   "execution_count": null,
   "metadata": {},
   "outputs": [
    {
     "data": {
      "text/plain": [
       "{'call': {'code': 'B', 'description': 'Ball'},\n",
       " 'description': 'Ball',\n",
       " 'code': 'B',\n",
       " 'ballColor': 'rgba(39, 161, 39, 1.0)',\n",
       " 'trailColor': 'rgba(50, 0, 221, 1.0)',\n",
       " 'isInPlay': False,\n",
       " 'isStrike': False,\n",
       " 'isBall': True,\n",
       " 'type': {'code': 'SI', 'description': 'Sinker'},\n",
       " 'hasReview': False}"
      ]
     },
     "execution_count": null,
     "metadata": {},
     "output_type": "execute_result"
    }
   ],
   "source": [
    "play_event['details']"
   ]
  },
  {
   "cell_type": "code",
   "execution_count": null,
   "metadata": {},
   "outputs": [],
   "source": []
  },
  {
   "cell_type": "code",
   "execution_count": null,
   "metadata": {},
   "outputs": [
    {
     "data": {
      "text/plain": [
       "dict_keys(['details', 'count', 'pitchData', 'index', 'playId', 'pitchNumber', 'startTime', 'endTime', 'isPitch', 'type'])"
      ]
     },
     "execution_count": null,
     "metadata": {},
     "output_type": "execute_result"
    }
   ],
   "source": [
    "play_event.keys()"
   ]
  },
  {
   "cell_type": "code",
   "execution_count": null,
   "metadata": {},
   "outputs": [
    {
     "data": {
      "text/plain": [
       "dict_keys(['result', 'about', 'count', 'matchup', 'pitchIndex', 'actionIndex', 'runnerIndex', 'runners', 'playEvents', 'playEndTime', 'atBatIndex'])"
      ]
     },
     "execution_count": null,
     "metadata": {},
     "output_type": "execute_result"
    }
   ],
   "source": [
    "play.keys()"
   ]
  },
  {
   "cell_type": "code",
   "execution_count": null,
   "metadata": {},
   "outputs": [],
   "source": []
  }
 ],
 "metadata": {
  "kernelspec": {
   "display_name": "Python 3",
   "language": "python",
   "name": "python3"
  }
 },
 "nbformat": 4,
 "nbformat_minor": 4
}
